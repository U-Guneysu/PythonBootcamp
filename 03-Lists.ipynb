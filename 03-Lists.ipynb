{
 "cells": [
  {
   "cell_type": "code",
   "execution_count": 1,
   "id": "1691e585-698e-44a3-ae59-dde0306fadd3",
   "metadata": {},
   "outputs": [],
   "source": [
    "myString = \"hello python\""
   ]
  },
  {
   "cell_type": "code",
   "execution_count": 2,
   "id": "a32f3fe3-e910-4051-9e73-4ee65de9387d",
   "metadata": {},
   "outputs": [
    {
     "data": {
      "text/plain": [
       "['hello', 'python']"
      ]
     },
     "execution_count": 2,
     "metadata": {},
     "output_type": "execute_result"
    }
   ],
   "source": [
    "myString.split()"
   ]
  },
  {
   "cell_type": "code",
   "execution_count": 3,
   "id": "ea4c3084-64e4-491d-90a1-e91587fb3d26",
   "metadata": {},
   "outputs": [
    {
     "data": {
      "text/plain": [
       "list"
      ]
     },
     "execution_count": 3,
     "metadata": {},
     "output_type": "execute_result"
    }
   ],
   "source": [
    "type(myString.split())"
   ]
  },
  {
   "cell_type": "markdown",
   "id": "b03c67e5-bbf5-4da3-9dcf-d97d4a5c47cc",
   "metadata": {},
   "source": [
    "# Listeler"
   ]
  },
  {
   "cell_type": "code",
   "execution_count": 4,
   "id": "cb117eb9-e2f0-4379-864f-e82733dc5f96",
   "metadata": {},
   "outputs": [],
   "source": [
    "# myString[0] = \"a\" --> 'str' object does not support item assignment"
   ]
  },
  {
   "cell_type": "markdown",
   "id": "b21346b4-b847-4be0-b440-4d279a40adc0",
   "metadata": {},
   "source": [
    "## immutable - immutabilitiy => Değişitirilemezlik Özelliği"
   ]
  },
  {
   "cell_type": "code",
   "execution_count": 5,
   "id": "8e1318e9-4140-4223-a890-86395244f151",
   "metadata": {},
   "outputs": [],
   "source": [
    "myString = \"UMUT\""
   ]
  },
  {
   "cell_type": "markdown",
   "id": "25ed5639-ed40-4de6-a7a1-5701b71976f9",
   "metadata": {},
   "source": [
    "## List"
   ]
  },
  {
   "cell_type": "code",
   "execution_count": 6,
   "id": "f19e0f72-e9ec-417b-a4dd-40abb3f21ec5",
   "metadata": {},
   "outputs": [],
   "source": [
    "myList = [10,20,30]"
   ]
  },
  {
   "cell_type": "code",
   "execution_count": 7,
   "id": "257764f8-8a80-4b82-8635-6af1e556044c",
   "metadata": {},
   "outputs": [
    {
     "data": {
      "text/plain": [
       "list"
      ]
     },
     "execution_count": 7,
     "metadata": {},
     "output_type": "execute_result"
    }
   ],
   "source": [
    "type(myList)"
   ]
  },
  {
   "cell_type": "code",
   "execution_count": 8,
   "id": "24de1a97-ba29-432b-9a2d-c293e120507b",
   "metadata": {},
   "outputs": [],
   "source": [
    "x = 10 \n",
    "y = 20 \n",
    "z = 30"
   ]
  },
  {
   "cell_type": "code",
   "execution_count": 9,
   "id": "b2ffccf7-33ab-4e83-8231-129077e06126",
   "metadata": {},
   "outputs": [],
   "source": [
    "myList = [x,y,z]"
   ]
  },
  {
   "cell_type": "code",
   "execution_count": 10,
   "id": "dae4283b-9d6e-4432-8153-2922d5efd7cc",
   "metadata": {},
   "outputs": [
    {
     "data": {
      "text/plain": [
       "[10, 20, 30]"
      ]
     },
     "execution_count": 10,
     "metadata": {},
     "output_type": "execute_result"
    }
   ],
   "source": [
    "myList"
   ]
  },
  {
   "cell_type": "code",
   "execution_count": 11,
   "id": "5e80fa14-5e77-4c3b-bcba-394a7a4f97e3",
   "metadata": {},
   "outputs": [
    {
     "data": {
      "text/plain": [
       "10"
      ]
     },
     "execution_count": 11,
     "metadata": {},
     "output_type": "execute_result"
    }
   ],
   "source": [
    "myList[0]"
   ]
  },
  {
   "cell_type": "code",
   "execution_count": 12,
   "id": "38c45559-579e-453f-ae02-e1bf1b693be2",
   "metadata": {},
   "outputs": [
    {
     "data": {
      "text/plain": [
       "list"
      ]
     },
     "execution_count": 12,
     "metadata": {},
     "output_type": "execute_result"
    }
   ],
   "source": [
    "type(myList)"
   ]
  },
  {
   "cell_type": "markdown",
   "id": "e9d1c3d0-d729-4316-ae77-e2dea6b16aa4",
   "metadata": {},
   "source": [
    "AMA!!"
   ]
  },
  {
   "cell_type": "code",
   "execution_count": 13,
   "id": "51cf79db-7788-48f3-b9d7-ada0bbfebff7",
   "metadata": {},
   "outputs": [
    {
     "data": {
      "text/plain": [
       "int"
      ]
     },
     "execution_count": 13,
     "metadata": {},
     "output_type": "execute_result"
    }
   ],
   "source": [
    "type(myList[0])"
   ]
  },
  {
   "cell_type": "markdown",
   "id": "b7409b84-721e-4f40-bf70-5d95ce73e381",
   "metadata": {},
   "source": [
    "Olacaktır"
   ]
  },
  {
   "cell_type": "code",
   "execution_count": 14,
   "id": "b43c298c-8d4e-4e10-9c61-f9ac1d7eeee3",
   "metadata": {},
   "outputs": [
    {
     "data": {
      "text/plain": [
       "10"
      ]
     },
     "execution_count": 14,
     "metadata": {},
     "output_type": "execute_result"
    }
   ],
   "source": [
    "myList[0]"
   ]
  },
  {
   "cell_type": "code",
   "execution_count": 15,
   "id": "96195053-fa62-43d4-918e-f1e563c2d62e",
   "metadata": {},
   "outputs": [],
   "source": [
    "myList[0] = 100"
   ]
  },
  {
   "cell_type": "code",
   "execution_count": 16,
   "id": "97abea60-1870-4f2f-aaf4-d1652a993364",
   "metadata": {},
   "outputs": [
    {
     "data": {
      "text/plain": [
       "100"
      ]
     },
     "execution_count": 16,
     "metadata": {},
     "output_type": "execute_result"
    }
   ],
   "source": [
    "myList[0]"
   ]
  },
  {
   "cell_type": "markdown",
   "id": "192d2d5e-30fc-4cb8-8627-c098c8029dd8",
   "metadata": {},
   "source": [
    "## mutable, mutability => Değiştirilebilir Özelliği"
   ]
  },
  {
   "cell_type": "code",
   "execution_count": 17,
   "id": "1bf08305-b8a7-47e2-a9e6-4a0dc5f78338",
   "metadata": {},
   "outputs": [
    {
     "data": {
      "text/plain": [
       "[100, 20, 30]"
      ]
     },
     "execution_count": 17,
     "metadata": {},
     "output_type": "execute_result"
    }
   ],
   "source": [
    "myList"
   ]
  },
  {
   "cell_type": "code",
   "execution_count": 18,
   "id": "d19dad8a-f080-44e2-b239-51d54e01baf8",
   "metadata": {},
   "outputs": [
    {
     "data": {
      "text/plain": [
       "3"
      ]
     },
     "execution_count": 18,
     "metadata": {},
     "output_type": "execute_result"
    }
   ],
   "source": [
    "len(myList)"
   ]
  },
  {
   "cell_type": "code",
   "execution_count": 19,
   "id": "9d2835c4-190c-4ed0-b714-b52816879056",
   "metadata": {},
   "outputs": [
    {
     "data": {
      "text/plain": [
       "30"
      ]
     },
     "execution_count": 19,
     "metadata": {},
     "output_type": "execute_result"
    }
   ],
   "source": [
    "myList[len(myList)-1]"
   ]
  },
  {
   "cell_type": "code",
   "execution_count": 20,
   "id": "6e45e93c-6d89-4cb7-8784-3b7fdbca82ed",
   "metadata": {},
   "outputs": [],
   "source": [
    "myList.append(99)"
   ]
  },
  {
   "cell_type": "code",
   "execution_count": 21,
   "id": "8815bcd2-8afb-4858-9cdb-b9660dc7fddc",
   "metadata": {},
   "outputs": [
    {
     "data": {
      "text/plain": [
       "[100, 20, 30, 99]"
      ]
     },
     "execution_count": 21,
     "metadata": {},
     "output_type": "execute_result"
    }
   ],
   "source": [
    "myList"
   ]
  },
  {
   "cell_type": "code",
   "execution_count": 22,
   "id": "6ba97e65-a74e-4e3b-9f4c-23afcffa5245",
   "metadata": {},
   "outputs": [
    {
     "data": {
      "text/plain": [
       "1"
      ]
     },
     "execution_count": 22,
     "metadata": {},
     "output_type": "execute_result"
    }
   ],
   "source": [
    "myList.count(20)"
   ]
  },
  {
   "cell_type": "code",
   "execution_count": 23,
   "id": "f61b9538-7cf7-4a69-a28b-1efcdc20c7ff",
   "metadata": {},
   "outputs": [
    {
     "data": {
      "text/plain": [
       "[100, 20, 30, 99]"
      ]
     },
     "execution_count": 23,
     "metadata": {},
     "output_type": "execute_result"
    }
   ],
   "source": [
    "myList"
   ]
  },
  {
   "cell_type": "code",
   "execution_count": 24,
   "id": "a00a66f0-50bb-4201-85f3-1b6854d02607",
   "metadata": {},
   "outputs": [],
   "source": [
    "myList.insert(2,35)"
   ]
  },
  {
   "cell_type": "code",
   "execution_count": 25,
   "id": "28d53734-94a6-4a70-999b-01791d926f7a",
   "metadata": {},
   "outputs": [
    {
     "data": {
      "text/plain": [
       "[100, 20, 35, 30, 99]"
      ]
     },
     "execution_count": 25,
     "metadata": {},
     "output_type": "execute_result"
    }
   ],
   "source": [
    "myList"
   ]
  },
  {
   "cell_type": "code",
   "execution_count": 34,
   "id": "c31d873f-f920-4d7d-a762-123796e1c055",
   "metadata": {},
   "outputs": [
    {
     "data": {
      "text/plain": [
       "100"
      ]
     },
     "execution_count": 34,
     "metadata": {},
     "output_type": "execute_result"
    }
   ],
   "source": [
    "myList.pop() #Son elemanı kaldırır"
   ]
  },
  {
   "cell_type": "code",
   "execution_count": 35,
   "id": "3063468e-b013-43d5-a60b-ebb34f365c8a",
   "metadata": {},
   "outputs": [
    {
     "data": {
      "text/plain": [
       "[30, 35]"
      ]
     },
     "execution_count": 35,
     "metadata": {},
     "output_type": "execute_result"
    }
   ],
   "source": [
    "myList"
   ]
  },
  {
   "cell_type": "code",
   "execution_count": null,
   "id": "9861409a-40dc-4c79-b264-978426c52394",
   "metadata": {},
   "outputs": [],
   "source": [
    "myList.remove(20) #Seçilen elemanı kaldırır "
   ]
  },
  {
   "cell_type": "code",
   "execution_count": null,
   "id": "ef14a019-8d72-41d2-9652-d37c08a8383b",
   "metadata": {},
   "outputs": [],
   "source": [
    "myList"
   ]
  },
  {
   "cell_type": "code",
   "execution_count": null,
   "id": "a3cff46b-4fbb-4f26-8329-8295c10bdb93",
   "metadata": {},
   "outputs": [],
   "source": [
    "myList.reverse() #Listeyi ters çevirir"
   ]
  },
  {
   "cell_type": "code",
   "execution_count": null,
   "id": "f0c7308e-cf1e-4920-b736-1e10f8ad475e",
   "metadata": {},
   "outputs": [],
   "source": [
    "myList"
   ]
  },
  {
   "cell_type": "code",
   "execution_count": 37,
   "id": "ae9b5a8b-b695-49d7-a368-72f12a19ab8c",
   "metadata": {},
   "outputs": [],
   "source": [
    "myList.sort() #Küçükten büyüğe doğru dizer"
   ]
  },
  {
   "cell_type": "code",
   "execution_count": 38,
   "id": "6d2bfc06-6cc6-49b2-8ef6-c7e7377091a0",
   "metadata": {},
   "outputs": [
    {
     "data": {
      "text/plain": [
       "[30, 35]"
      ]
     },
     "execution_count": 38,
     "metadata": {},
     "output_type": "execute_result"
    }
   ],
   "source": [
    "myList"
   ]
  },
  {
   "cell_type": "code",
   "execution_count": 40,
   "id": "d4290ba2-22c7-447f-b258-1f9be0540f6f",
   "metadata": {},
   "outputs": [
    {
     "name": "stdin",
     "output_type": "stream",
     "text": [
      "enter x 10\n"
     ]
    }
   ],
   "source": [
    "x = input(\"enter x\")"
   ]
  },
  {
   "cell_type": "code",
   "execution_count": 41,
   "id": "8d15ae12-e00f-4be6-8969-c424da04f5d6",
   "metadata": {},
   "outputs": [
    {
     "data": {
      "text/plain": [
       "str"
      ]
     },
     "execution_count": 41,
     "metadata": {},
     "output_type": "execute_result"
    }
   ],
   "source": [
    "type(x)"
   ]
  },
  {
   "cell_type": "code",
   "execution_count": 42,
   "id": "90959a30-accc-4e0f-9786-beab6769faa9",
   "metadata": {},
   "outputs": [
    {
     "name": "stdin",
     "output_type": "stream",
     "text": [
      "enter y: 20\n"
     ]
    }
   ],
   "source": [
    "y = input(\"enter y:\")"
   ]
  },
  {
   "cell_type": "code",
   "execution_count": 43,
   "id": "7bff6491-28b5-45d8-9575-30d2ed9d9a1e",
   "metadata": {},
   "outputs": [
    {
     "name": "stdin",
     "output_type": "stream",
     "text": [
      "enter z 30\n"
     ]
    }
   ],
   "source": [
    "z = input(\"enter z\")"
   ]
  },
  {
   "cell_type": "code",
   "execution_count": 44,
   "id": "c0a2e9bd-f6bf-447b-9f7f-5d5424c895d2",
   "metadata": {},
   "outputs": [],
   "source": [
    "inputList = []"
   ]
  },
  {
   "cell_type": "code",
   "execution_count": 45,
   "id": "3d154230-504b-4b6b-9605-11d7877f35cb",
   "metadata": {},
   "outputs": [],
   "source": [
    "inputList.append(x)\n",
    "inputList.append(y)\n",
    "inputList.append(z)"
   ]
  },
  {
   "cell_type": "code",
   "execution_count": 46,
   "id": "f1590b93-3881-4a14-95d7-e16f0c66d699",
   "metadata": {},
   "outputs": [
    {
     "data": {
      "text/plain": [
       "['10', '20', '30']"
      ]
     },
     "execution_count": 46,
     "metadata": {},
     "output_type": "execute_result"
    }
   ],
   "source": [
    "inputList"
   ]
  },
  {
   "cell_type": "markdown",
   "id": "95d9680b-ac33-4768-bae8-cc6b5f5d12c6",
   "metadata": {},
   "source": [
    "## Veri Tipi Dönüştürme "
   ]
  },
  {
   "cell_type": "code",
   "execution_count": 47,
   "id": "567b16ae-215b-4396-ba77-af80e03d6281",
   "metadata": {},
   "outputs": [],
   "source": [
    "myInteger = 50"
   ]
  },
  {
   "cell_type": "code",
   "execution_count": 48,
   "id": "6b9c5935-40d3-49a6-8940-8552f7eaf4c9",
   "metadata": {},
   "outputs": [
    {
     "data": {
      "text/plain": [
       "'50'"
      ]
     },
     "execution_count": 48,
     "metadata": {},
     "output_type": "execute_result"
    }
   ],
   "source": [
    "str(myInteger)"
   ]
  },
  {
   "cell_type": "code",
   "execution_count": 49,
   "id": "82947d22-7e5a-4b8c-96e7-0af47faa290e",
   "metadata": {},
   "outputs": [],
   "source": [
    "myString = \"40\""
   ]
  },
  {
   "cell_type": "code",
   "execution_count": 50,
   "id": "3b518420-08eb-4ac5-8147-2f58437f655f",
   "metadata": {},
   "outputs": [
    {
     "data": {
      "text/plain": [
       "40"
      ]
     },
     "execution_count": 50,
     "metadata": {},
     "output_type": "execute_result"
    }
   ],
   "source": [
    "int(myString)"
   ]
  },
  {
   "cell_type": "code",
   "execution_count": 51,
   "id": "0c9ffe7d-33f7-4e95-a8bf-baaa7c176e50",
   "metadata": {},
   "outputs": [
    {
     "data": {
      "text/plain": [
       "40.0"
      ]
     },
     "execution_count": 51,
     "metadata": {},
     "output_type": "execute_result"
    }
   ],
   "source": [
    "float(myString)"
   ]
  },
  {
   "cell_type": "code",
   "execution_count": 52,
   "id": "9c848b54-d2ba-4db5-bb13-906cadfbc65f",
   "metadata": {},
   "outputs": [],
   "source": [
    "myString = \"python\""
   ]
  },
  {
   "cell_type": "code",
   "execution_count": 54,
   "id": "0235b45c-71fe-441b-adbc-49e5751a1cf8",
   "metadata": {},
   "outputs": [],
   "source": [
    "# int(myString) => ValueError: invalid literal for int() with base 10: 'python'"
   ]
  },
  {
   "cell_type": "code",
   "execution_count": 56,
   "id": "91836842-9031-44f2-8fcf-ac390ddade84",
   "metadata": {},
   "outputs": [],
   "source": [
    "# float(myString) => ValueError: could not convert string to float: 'python'"
   ]
  },
  {
   "cell_type": "code",
   "execution_count": 57,
   "id": "d5b6765b-4d8d-4054-9c19-3224054428e3",
   "metadata": {},
   "outputs": [
    {
     "data": {
      "text/plain": [
       "['10', '20', '30']"
      ]
     },
     "execution_count": 57,
     "metadata": {},
     "output_type": "execute_result"
    }
   ],
   "source": [
    "inputList "
   ]
  },
  {
   "cell_type": "code",
   "execution_count": 58,
   "id": "1ed6020d-0884-4eec-8106-630a53b0e63a",
   "metadata": {},
   "outputs": [
    {
     "data": {
      "text/plain": [
       "40"
      ]
     },
     "execution_count": 58,
     "metadata": {},
     "output_type": "execute_result"
    }
   ],
   "source": [
    "int(inputList[1]) * 2"
   ]
  },
  {
   "cell_type": "markdown",
   "id": "08ca0588-ce8f-4479-bafc-ed87f865efb1",
   "metadata": {},
   "source": [
    "## İleri Seviye Listeler"
   ]
  },
  {
   "cell_type": "code",
   "execution_count": 59,
   "id": "ae0325f5-4c08-4c42-8a8c-15c4d1b2e59b",
   "metadata": {},
   "outputs": [
    {
     "data": {
      "text/plain": [
       "['10', '20', '30']"
      ]
     },
     "execution_count": 59,
     "metadata": {},
     "output_type": "execute_result"
    }
   ],
   "source": [
    "inputList"
   ]
  },
  {
   "cell_type": "code",
   "execution_count": 64,
   "id": "951298ed-47c2-4e5f-ab3a-401f62acff4a",
   "metadata": {},
   "outputs": [],
   "source": [
    "nameList = [\"adam\", \"bla\", \"v\", \"b\"]"
   ]
  },
  {
   "cell_type": "code",
   "execution_count": 65,
   "id": "5ac89821-ed39-4e5f-ac55-eac732519957",
   "metadata": {},
   "outputs": [
    {
     "data": {
      "text/plain": [
       "list"
      ]
     },
     "execution_count": 65,
     "metadata": {},
     "output_type": "execute_result"
    }
   ],
   "source": [
    "type(nameList)"
   ]
  },
  {
   "cell_type": "code",
   "execution_count": 66,
   "id": "321432fb-d93d-48ed-8f0c-5ddf6315f5a2",
   "metadata": {},
   "outputs": [],
   "source": [
    "floatList = [3.14,2.5,10.2,100.241]"
   ]
  },
  {
   "cell_type": "code",
   "execution_count": 67,
   "id": "1e4a13af-ba0e-4b21-b5f9-692e01944aa8",
   "metadata": {},
   "outputs": [
    {
     "data": {
      "text/plain": [
       "list"
      ]
     },
     "execution_count": 67,
     "metadata": {},
     "output_type": "execute_result"
    }
   ],
   "source": [
    "type(floatList)"
   ]
  },
  {
   "cell_type": "code",
   "execution_count": 68,
   "id": "5d009310-c995-4a64-b241-f37058c0f839",
   "metadata": {},
   "outputs": [],
   "source": [
    "mixedList = [\"umut\",100,3.14]"
   ]
  },
  {
   "cell_type": "code",
   "execution_count": 70,
   "id": "b1d5b91e-fc60-426c-a40e-726abf3e4d02",
   "metadata": {},
   "outputs": [],
   "source": [
    "list1 = [10,20,30]\n",
    "list2 = [40,50,60]"
   ]
  },
  {
   "cell_type": "code",
   "execution_count": 71,
   "id": "a4c81036-3f32-44eb-b084-4385109f38b9",
   "metadata": {},
   "outputs": [
    {
     "data": {
      "text/plain": [
       "[10, 20, 30, 40, 50, 60]"
      ]
     },
     "execution_count": 71,
     "metadata": {},
     "output_type": "execute_result"
    }
   ],
   "source": [
    "list1 + list2"
   ]
  },
  {
   "cell_type": "code",
   "execution_count": 72,
   "id": "57086a7c-ea6f-4293-b833-8a5be46def62",
   "metadata": {},
   "outputs": [
    {
     "data": {
      "text/plain": [
       "[10, 20, 30, 10, 20, 30]"
      ]
     },
     "execution_count": 72,
     "metadata": {},
     "output_type": "execute_result"
    }
   ],
   "source": [
    "list1 * 2"
   ]
  },
  {
   "cell_type": "code",
   "execution_count": 73,
   "id": "6858899b-de73-4ce9-a502-3c41b1ac8d28",
   "metadata": {},
   "outputs": [
    {
     "data": {
      "text/plain": [
       "['umut', 100, 3.14]"
      ]
     },
     "execution_count": 73,
     "metadata": {},
     "output_type": "execute_result"
    }
   ],
   "source": [
    "mixedList"
   ]
  },
  {
   "cell_type": "code",
   "execution_count": 76,
   "id": "a051533e-e615-485a-8edf-d8b634d37a52",
   "metadata": {},
   "outputs": [
    {
     "data": {
      "text/plain": [
       "str"
      ]
     },
     "execution_count": 76,
     "metadata": {},
     "output_type": "execute_result"
    }
   ],
   "source": [
    "type(mixedList[0])"
   ]
  },
  {
   "cell_type": "code",
   "execution_count": 77,
   "id": "183c8e17-4c46-4d0b-8268-9e1c6e425a1c",
   "metadata": {},
   "outputs": [
    {
     "data": {
      "text/plain": [
       "int"
      ]
     },
     "execution_count": 77,
     "metadata": {},
     "output_type": "execute_result"
    }
   ],
   "source": [
    "type(mixedList[1])"
   ]
  },
  {
   "cell_type": "code",
   "execution_count": 78,
   "id": "e102bb42-12cb-4048-b9e9-d4076ca0798f",
   "metadata": {},
   "outputs": [
    {
     "data": {
      "text/plain": [
       "str"
      ]
     },
     "execution_count": 78,
     "metadata": {},
     "output_type": "execute_result"
    }
   ],
   "source": [
    "type(mixedList[0])"
   ]
  },
  {
   "cell_type": "code",
   "execution_count": 79,
   "id": "be81093c-9a0b-4ec7-acee-07a381f03c1c",
   "metadata": {},
   "outputs": [],
   "source": [
    "#nestedList => Liste içinde liste"
   ]
  },
  {
   "cell_type": "code",
   "execution_count": 80,
   "id": "3c8926b0-0009-4ad2-b586-feb697b6c542",
   "metadata": {},
   "outputs": [],
   "source": [
    "myNestedList = [10,20,3,14,\"umut\",[1,2,3]]"
   ]
  },
  {
   "cell_type": "code",
   "execution_count": 81,
   "id": "76f1edb6-fa5d-4b75-b056-f30a499e42f0",
   "metadata": {},
   "outputs": [
    {
     "data": {
      "text/plain": [
       "10"
      ]
     },
     "execution_count": 81,
     "metadata": {},
     "output_type": "execute_result"
    }
   ],
   "source": [
    "myNestedList[0]"
   ]
  },
  {
   "cell_type": "code",
   "execution_count": 82,
   "id": "5301fc86-7635-4d5a-a042-68426ef1cccc",
   "metadata": {},
   "outputs": [
    {
     "data": {
      "text/plain": [
       "20"
      ]
     },
     "execution_count": 82,
     "metadata": {},
     "output_type": "execute_result"
    }
   ],
   "source": [
    "myNestedList[1]"
   ]
  },
  {
   "cell_type": "code",
   "execution_count": 83,
   "id": "7b005681-bb61-4353-b95b-450779dba1cc",
   "metadata": {},
   "outputs": [
    {
     "data": {
      "text/plain": [
       "3"
      ]
     },
     "execution_count": 83,
     "metadata": {},
     "output_type": "execute_result"
    }
   ],
   "source": [
    "myNestedList[2]"
   ]
  },
  {
   "cell_type": "code",
   "execution_count": 84,
   "id": "07d9bdbb-fc6d-4a9f-8770-137abd1416da",
   "metadata": {},
   "outputs": [
    {
     "data": {
      "text/plain": [
       "14"
      ]
     },
     "execution_count": 84,
     "metadata": {},
     "output_type": "execute_result"
    }
   ],
   "source": [
    "myNestedList[3]"
   ]
  },
  {
   "cell_type": "code",
   "execution_count": 85,
   "id": "286d6d3a-cb1b-42b5-a580-b2d37520458a",
   "metadata": {},
   "outputs": [
    {
     "data": {
      "text/plain": [
       "'umut'"
      ]
     },
     "execution_count": 85,
     "metadata": {},
     "output_type": "execute_result"
    }
   ],
   "source": [
    "myNestedList[4]"
   ]
  },
  {
   "cell_type": "code",
   "execution_count": 86,
   "id": "853ebf70-c718-4e09-80a0-1151c7a977e4",
   "metadata": {},
   "outputs": [
    {
     "data": {
      "text/plain": [
       "[1, 2, 3]"
      ]
     },
     "execution_count": 86,
     "metadata": {},
     "output_type": "execute_result"
    }
   ],
   "source": [
    "myNestedList[5]"
   ]
  },
  {
   "cell_type": "code",
   "execution_count": 87,
   "id": "f099f256-8ca9-41e4-8321-9ae5eac559cc",
   "metadata": {},
   "outputs": [],
   "source": [
    "x = myNestedList[5]"
   ]
  },
  {
   "cell_type": "code",
   "execution_count": 88,
   "id": "b33488ab-3cae-4646-a32c-2b1671870286",
   "metadata": {},
   "outputs": [
    {
     "data": {
      "text/plain": [
       "[1, 2, 3]"
      ]
     },
     "execution_count": 88,
     "metadata": {},
     "output_type": "execute_result"
    }
   ],
   "source": [
    "x"
   ]
  },
  {
   "cell_type": "code",
   "execution_count": 89,
   "id": "529afac4-42db-4b82-b1da-98785af99001",
   "metadata": {},
   "outputs": [],
   "source": [
    "#Amaç: myNestedList içerisindeki ayrı bir listede bulunanan \"2\" değerini almak"
   ]
  },
  {
   "cell_type": "code",
   "execution_count": 95,
   "id": "ccb5f22a-8e87-4a15-82a2-78983c1f4473",
   "metadata": {},
   "outputs": [],
   "source": [
    "smallList = myNestedList[5]"
   ]
  },
  {
   "cell_type": "code",
   "execution_count": 96,
   "id": "f9ed52f7-dfb7-4add-872d-834de8f37064",
   "metadata": {},
   "outputs": [
    {
     "data": {
      "text/plain": [
       "[1, 2, 3]"
      ]
     },
     "execution_count": 96,
     "metadata": {},
     "output_type": "execute_result"
    }
   ],
   "source": [
    "smallList"
   ]
  },
  {
   "cell_type": "code",
   "execution_count": 97,
   "id": "1121f749-9331-4976-b26f-72a1120f5ba9",
   "metadata": {},
   "outputs": [
    {
     "data": {
      "text/plain": [
       "2"
      ]
     },
     "execution_count": 97,
     "metadata": {},
     "output_type": "execute_result"
    }
   ],
   "source": [
    "smallList[1]"
   ]
  },
  {
   "cell_type": "code",
   "execution_count": 98,
   "id": "dbe24883-3fb2-49a4-9e89-eebb61c26543",
   "metadata": {},
   "outputs": [],
   "source": [
    "#VEYA"
   ]
  },
  {
   "cell_type": "code",
   "execution_count": 99,
   "id": "3690c89a-3bfa-498d-bc39-71aef68f90a4",
   "metadata": {},
   "outputs": [
    {
     "data": {
      "text/plain": [
       "2"
      ]
     },
     "execution_count": 99,
     "metadata": {},
     "output_type": "execute_result"
    }
   ],
   "source": [
    "myNestedList[5][1] #myNestedList değişkenindeki listeden beşinci indekse denk gelen değerin içindeki birinci indeksi al"
   ]
  },
  {
   "cell_type": "code",
   "execution_count": 103,
   "id": "c76257a3-f582-4560-b8d3-921dc8c34087",
   "metadata": {},
   "outputs": [
    {
     "data": {
      "text/plain": [
       "[10, 20, 3, 14, 'umut', [1, 2, 3]]"
      ]
     },
     "execution_count": 103,
     "metadata": {},
     "output_type": "execute_result"
    }
   ],
   "source": [
    "myNestedList"
   ]
  },
  {
   "cell_type": "code",
   "execution_count": 105,
   "id": "398f16ce-8eb9-42aa-8ecd-c0213aa50ac6",
   "metadata": {},
   "outputs": [],
   "source": [
    "# myNestedList[3][1] => TypeError: 'int' object is not subscriptable "
   ]
  },
  {
   "cell_type": "code",
   "execution_count": 106,
   "id": "a5e84791-d75e-4c32-9e3e-4da69312046c",
   "metadata": {},
   "outputs": [],
   "source": [
    "lastList = [\"a\",\"b\",[\"c\",\"d\",\"e\"],\"f\"]"
   ]
  },
  {
   "cell_type": "code",
   "execution_count": 107,
   "id": "91eb3bf6-d100-4d60-8c9a-331b67161909",
   "metadata": {},
   "outputs": [
    {
     "data": {
      "text/plain": [
       "4"
      ]
     },
     "execution_count": 107,
     "metadata": {},
     "output_type": "execute_result"
    }
   ],
   "source": [
    "len(lastList)"
   ]
  },
  {
   "cell_type": "code",
   "execution_count": 108,
   "id": "a0aba420-c2eb-4f41-bd76-38746ae53de5",
   "metadata": {},
   "outputs": [],
   "source": [
    "# a => birinci eleman\n",
    "# b => ikinci eleman\n",
    "# c - d - e => üçüncü eleman (Liste kendi başına tek bir eleman)\n",
    "# f => dördüncü eleman"
   ]
  },
  {
   "cell_type": "code",
   "execution_count": 109,
   "id": "747fbcf8-417b-4932-b427-1114b895e0b9",
   "metadata": {},
   "outputs": [
    {
     "data": {
      "text/plain": [
       "'a'"
      ]
     },
     "execution_count": 109,
     "metadata": {},
     "output_type": "execute_result"
    }
   ],
   "source": [
    "lastList[0]"
   ]
  },
  {
   "cell_type": "code",
   "execution_count": 110,
   "id": "2d0902ba-3fe1-4c5e-89cc-1aa78a88b10d",
   "metadata": {},
   "outputs": [
    {
     "data": {
      "text/plain": [
       "'b'"
      ]
     },
     "execution_count": 110,
     "metadata": {},
     "output_type": "execute_result"
    }
   ],
   "source": [
    "lastList[1]"
   ]
  },
  {
   "cell_type": "code",
   "execution_count": 111,
   "id": "bba01bc6-f986-4130-8612-457f0cfaae71",
   "metadata": {},
   "outputs": [
    {
     "data": {
      "text/plain": [
       "['c', 'd', 'e']"
      ]
     },
     "execution_count": 111,
     "metadata": {},
     "output_type": "execute_result"
    }
   ],
   "source": [
    "lastList[2]"
   ]
  },
  {
   "cell_type": "code",
   "execution_count": 112,
   "id": "8a05bfb5-0c3f-45b0-995e-f016eb334562",
   "metadata": {},
   "outputs": [
    {
     "data": {
      "text/plain": [
       "'f'"
      ]
     },
     "execution_count": 112,
     "metadata": {},
     "output_type": "execute_result"
    }
   ],
   "source": [
    "lastList[3]"
   ]
  },
  {
   "cell_type": "code",
   "execution_count": 113,
   "id": "40d5f7ac-dbd2-45e7-a397-23685c8f0dbc",
   "metadata": {},
   "outputs": [],
   "source": [
    "firstList = [10,20,30,40,50,60,70]"
   ]
  },
  {
   "cell_type": "code",
   "execution_count": 114,
   "id": "dcc06b43-a989-4de5-9ce0-a5a643170172",
   "metadata": {},
   "outputs": [
    {
     "data": {
      "text/plain": [
       "[30, 40, 50, 60, 70]"
      ]
     },
     "execution_count": 114,
     "metadata": {},
     "output_type": "execute_result"
    }
   ],
   "source": [
    "firstList[2::]"
   ]
  },
  {
   "cell_type": "code",
   "execution_count": 115,
   "id": "ba77d615-9ca1-4dd9-bd56-538b69cc02ce",
   "metadata": {},
   "outputs": [
    {
     "data": {
      "text/plain": [
       "[10, 20, 30, 40, 50]"
      ]
     },
     "execution_count": 115,
     "metadata": {},
     "output_type": "execute_result"
    }
   ],
   "source": [
    "firstList[:5:]"
   ]
  },
  {
   "cell_type": "code",
   "execution_count": 116,
   "id": "3fae841c-d783-45ee-81ef-c58ef49e3b43",
   "metadata": {},
   "outputs": [
    {
     "data": {
      "text/plain": [
       "[10, 30, 50, 70]"
      ]
     },
     "execution_count": 116,
     "metadata": {},
     "output_type": "execute_result"
    }
   ],
   "source": [
    "firstList[::2]"
   ]
  },
  {
   "cell_type": "code",
   "execution_count": 118,
   "id": "439a0612-995e-45bf-9429-3f0b44b4cbfa",
   "metadata": {},
   "outputs": [
    {
     "data": {
      "text/plain": [
       "[20, 40, 60]"
      ]
     },
     "execution_count": 118,
     "metadata": {},
     "output_type": "execute_result"
    }
   ],
   "source": [
    "firstList[1:6:2]"
   ]
  },
  {
   "cell_type": "code",
   "execution_count": null,
   "id": "86fe5110-a11b-495b-927b-289a266fb090",
   "metadata": {},
   "outputs": [],
   "source": []
  }
 ],
 "metadata": {
  "kernelspec": {
   "display_name": "Python [conda env:base] *",
   "language": "python",
   "name": "conda-base-py"
  },
  "language_info": {
   "codemirror_mode": {
    "name": "ipython",
    "version": 3
   },
   "file_extension": ".py",
   "mimetype": "text/x-python",
   "name": "python",
   "nbconvert_exporter": "python",
   "pygments_lexer": "ipython3",
   "version": "3.13.5"
  }
 },
 "nbformat": 4,
 "nbformat_minor": 5
}

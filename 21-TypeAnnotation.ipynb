{
 "cells": [
  {
   "cell_type": "code",
   "execution_count": 1,
   "id": "665cc319-fa19-496e-a970-32822b6950b9",
   "metadata": {},
   "outputs": [],
   "source": [
    "#Python 3.10 ve üzeri için geçerlidir! (String, int, bool gibi veri tiplerini type annotation ile belirlemek için kullanılır.))\n",
    "name : str = \"Umut\"\n",
    "age : int = 30\n",
    "is_student : bool = False"
   ]
  },
  {
   "cell_type": "code",
   "execution_count": 13,
   "id": "3507a472-70ee-4086-8975-a502b47c6614",
   "metadata": {},
   "outputs": [],
   "source": [
    "def add_numbers(a: int, b: int) -> int:\n",
    "    return a + b"
   ]
  },
  {
   "cell_type": "code",
   "execution_count": 14,
   "id": "192a9e8c-7f3a-4ab0-b5b4-8e9751548a57",
   "metadata": {},
   "outputs": [
    {
     "data": {
      "text/plain": [
       "9"
      ]
     },
     "execution_count": 14,
     "metadata": {},
     "output_type": "execute_result"
    }
   ],
   "source": [
    "add_numbers(4,5)"
   ]
  },
  {
   "cell_type": "code",
   "execution_count": 15,
   "id": "c1e06559-fd51-459f-aa0e-507b1f37ef27",
   "metadata": {},
   "outputs": [],
   "source": [
    "def process_value(value: int | str) -> str:\n",
    "    if isinstance(value, int):\n",
    "        return f\"processed integer: {value}\"\n",
    "    else:\n",
    "        return f\"processed string {value}\"\n",
    "    "
   ]
  },
  {
   "cell_type": "code",
   "execution_count": 16,
   "id": "12340098-3a53-4b5c-8093-f1b8fe2b0e11",
   "metadata": {},
   "outputs": [
    {
     "data": {
      "text/plain": [
       "'processed integer: 520'"
      ]
     },
     "execution_count": 16,
     "metadata": {},
     "output_type": "execute_result"
    }
   ],
   "source": [
    "process_value(520)"
   ]
  },
  {
   "cell_type": "code",
   "execution_count": 17,
   "id": "a1211ff2-ef19-45d4-b7e8-a59aa2a9a616",
   "metadata": {},
   "outputs": [
    {
     "data": {
      "text/plain": [
       "'processed string Bu bir metindir.'"
      ]
     },
     "execution_count": 17,
     "metadata": {},
     "output_type": "execute_result"
    }
   ],
   "source": [
    "process_value(\"Bu bir metindir.\")"
   ]
  },
  {
   "cell_type": "code",
   "execution_count": 21,
   "id": "06a27383-f80d-497d-ab3a-c72a0fb03be0",
   "metadata": {},
   "outputs": [],
   "source": [
    "# Python 3.9 ve üzeri için geçerlidir! (List, Dict gibi yapıları type annotation ile belirtmek için kullanılır.)\n",
    "from typing import List\n",
    "\n",
    "def sum_list(numbers: List[int]) -> int:\n",
    "    return sum(numbers)"
   ]
  },
  {
   "cell_type": "code",
   "execution_count": 22,
   "id": "aa06000a-5d7a-41f3-ba66-f2681c6e34af",
   "metadata": {},
   "outputs": [],
   "source": [
    "numbers = [1,2,3,4]\n",
    "totalValue = sum_list(numbers)"
   ]
  },
  {
   "cell_type": "code",
   "execution_count": 23,
   "id": "e03399d7-68e3-46aa-bf06-af1f9cb4192e",
   "metadata": {},
   "outputs": [
    {
     "data": {
      "text/plain": [
       "10"
      ]
     },
     "execution_count": 23,
     "metadata": {},
     "output_type": "execute_result"
    }
   ],
   "source": [
    "totalValue"
   ]
  }
 ],
 "metadata": {
  "kernelspec": {
   "display_name": "Python [conda env:base] *",
   "language": "python",
   "name": "conda-base-py"
  },
  "language_info": {
   "codemirror_mode": {
    "name": "ipython",
    "version": 3
   },
   "file_extension": ".py",
   "mimetype": "text/x-python",
   "name": "python",
   "nbconvert_exporter": "python",
   "pygments_lexer": "ipython3",
   "version": "3.13.5"
  }
 },
 "nbformat": 4,
 "nbformat_minor": 5
}

{
 "cells": [
  {
   "cell_type": "markdown",
   "id": "21f7b13d-c5ba-4be9-829f-17b275d8d82a",
   "metadata": {},
   "source": [
    "# key - value pairing"
   ]
  },
  {
   "cell_type": "code",
   "execution_count": 2,
   "id": "b5912388-9945-4656-826d-11abc6e0afb7",
   "metadata": {},
   "outputs": [],
   "source": [
    "fruit_list = [\"banana\",\"apple\"]"
   ]
  },
  {
   "cell_type": "code",
   "execution_count": 6,
   "id": "dab55920-cdb4-46c3-9dfe-675ad1826675",
   "metadata": {},
   "outputs": [],
   "source": [
    "calorie_list = [100, 150]"
   ]
  },
  {
   "cell_type": "code",
   "execution_count": 7,
   "id": "66a84da3-662e-4e46-bf9f-f650ac7887a5",
   "metadata": {},
   "outputs": [
    {
     "data": {
      "text/plain": [
       "'banana'"
      ]
     },
     "execution_count": 7,
     "metadata": {},
     "output_type": "execute_result"
    }
   ],
   "source": [
    "fruit_list[0]"
   ]
  },
  {
   "cell_type": "code",
   "execution_count": 8,
   "id": "f59dc0f5-e683-4456-b61d-2fe9e5078639",
   "metadata": {},
   "outputs": [
    {
     "data": {
      "text/plain": [
       "100"
      ]
     },
     "execution_count": 8,
     "metadata": {},
     "output_type": "execute_result"
    }
   ],
   "source": [
    "calorie_list[0]"
   ]
  },
  {
   "cell_type": "code",
   "execution_count": 9,
   "id": "d45c9e4c-ef68-4e42-a3cb-fd8cd18bc5ac",
   "metadata": {},
   "outputs": [],
   "source": [
    "fitness_dictionary = {\"banana\":100, \"apple\":150}"
   ]
  },
  {
   "cell_type": "code",
   "execution_count": 10,
   "id": "051b21ea-e104-489e-920c-b67a84e76a95",
   "metadata": {},
   "outputs": [
    {
     "data": {
      "text/plain": [
       "dict"
      ]
     },
     "execution_count": 10,
     "metadata": {},
     "output_type": "execute_result"
    }
   ],
   "source": [
    "type(fitness_dictionary)"
   ]
  },
  {
   "cell_type": "code",
   "execution_count": 12,
   "id": "f8e13d5a-c7ea-422a-9c54-c929eea520bd",
   "metadata": {},
   "outputs": [
    {
     "data": {
      "text/plain": [
       "100"
      ]
     },
     "execution_count": 12,
     "metadata": {},
     "output_type": "execute_result"
    }
   ],
   "source": [
    "fitness_dictionary[\"banana\"]"
   ]
  },
  {
   "cell_type": "code",
   "execution_count": 13,
   "id": "9981998f-01b7-4cf8-826d-b51cb5bd2cf7",
   "metadata": {},
   "outputs": [
    {
     "data": {
      "text/plain": [
       "150"
      ]
     },
     "execution_count": 13,
     "metadata": {},
     "output_type": "execute_result"
    }
   ],
   "source": [
    "fitness_dictionary[\"apple\"]"
   ]
  },
  {
   "cell_type": "code",
   "execution_count": 19,
   "id": "7d10c3e3-9cef-4170-bdce-fb6ae5efd9e1",
   "metadata": {},
   "outputs": [
    {
     "data": {
      "text/plain": [
       "dict_keys(['banana', 'apple'])"
      ]
     },
     "execution_count": 19,
     "metadata": {},
     "output_type": "execute_result"
    }
   ],
   "source": [
    "fitness_dictionary.keys() #Sözlük içerisindeki anahtarları gösterir"
   ]
  },
  {
   "cell_type": "code",
   "execution_count": 20,
   "id": "0629a0b7-b534-4d4d-94ae-3089922b4f4a",
   "metadata": {},
   "outputs": [
    {
     "data": {
      "text/plain": [
       "dict_values([100, 150])"
      ]
     },
     "execution_count": 20,
     "metadata": {},
     "output_type": "execute_result"
    }
   ],
   "source": [
    "fitness_dictionary.values() #Sözlük içerisindeki anahtarların değerlerini gösterir"
   ]
  },
  {
   "cell_type": "code",
   "execution_count": 21,
   "id": "3a0bfccc-89ea-4b81-89d7-1b446e856ff9",
   "metadata": {},
   "outputs": [
    {
     "data": {
      "text/plain": [
       "dict_values"
      ]
     },
     "execution_count": 21,
     "metadata": {},
     "output_type": "execute_result"
    }
   ],
   "source": [
    "type(fitness_dictionary.values())"
   ]
  },
  {
   "cell_type": "code",
   "execution_count": 43,
   "id": "9e1bf34e-865c-42b5-a917-a68a3d120dc9",
   "metadata": {},
   "outputs": [],
   "source": [
    "fruit_values = list(fitness_dictionary.values()) #Mevcut değerler listeye çevirilerek işleme alınabilir"
   ]
  },
  {
   "cell_type": "code",
   "execution_count": 44,
   "id": "4aa6b993-80f9-4434-a69c-e255784e4c9c",
   "metadata": {},
   "outputs": [
    {
     "data": {
      "text/plain": [
       "[100, 150]"
      ]
     },
     "execution_count": 44,
     "metadata": {},
     "output_type": "execute_result"
    }
   ],
   "source": [
    "fruit_values "
   ]
  },
  {
   "cell_type": "code",
   "execution_count": 45,
   "id": "3cf0d861-5ebd-491b-ac5d-f1f45078f4cf",
   "metadata": {},
   "outputs": [
    {
     "data": {
      "text/plain": [
       "{'banana': 100, 'apple': 150}"
      ]
     },
     "execution_count": 45,
     "metadata": {},
     "output_type": "execute_result"
    }
   ],
   "source": [
    "fitness_dictionary"
   ]
  },
  {
   "cell_type": "code",
   "execution_count": 49,
   "id": "3e227c58-66a6-49d7-adf2-58a1f54bdd08",
   "metadata": {},
   "outputs": [],
   "source": [
    "fitness_dictionary[\"banana\"] = 200 #Değer değiştirmek"
   ]
  },
  {
   "cell_type": "code",
   "execution_count": 50,
   "id": "1075fdb7-2633-4102-8b32-3b986b5be4cb",
   "metadata": {},
   "outputs": [
    {
     "data": {
      "text/plain": [
       "{'banana': 200, 'apple': 150}"
      ]
     },
     "execution_count": 50,
     "metadata": {},
     "output_type": "execute_result"
    }
   ],
   "source": [
    "fitness_dictionary"
   ]
  },
  {
   "cell_type": "markdown",
   "id": "f10af081-ae69-49da-8066-5f8cfadace42",
   "metadata": {},
   "source": [
    "fitness_dictionary[\"melon\"] = 300 #Değer eklemek  (Index mantığı olmadığı için kolaylıkla ekleme ve değer değiştirme yapılabiliyor)"
   ]
  },
  {
   "cell_type": "code",
   "execution_count": 52,
   "id": "e20affba-16f9-492a-80ce-2ef9e4cb3f62",
   "metadata": {},
   "outputs": [
    {
     "data": {
      "text/plain": [
       "{'banana': 200, 'apple': 150, 'melon': 300}"
      ]
     },
     "execution_count": 52,
     "metadata": {},
     "output_type": "execute_result"
    }
   ],
   "source": [
    "fitness_dictionary"
   ]
  },
  {
   "cell_type": "code",
   "execution_count": 53,
   "id": "136f6bc9-88d0-4716-8e5b-0c84f4a7166b",
   "metadata": {},
   "outputs": [
    {
     "ename": "KeyError",
     "evalue": "'appl'",
     "output_type": "error",
     "traceback": [
      "\u001b[1;31m---------------------------------------------------------------------------\u001b[0m",
      "\u001b[1;31mKeyError\u001b[0m                                  Traceback (most recent call last)",
      "Cell \u001b[1;32mIn[53], line 1\u001b[0m\n\u001b[1;32m----> 1\u001b[0m fitness_dictionary[\u001b[38;5;124m\"\u001b[39m\u001b[38;5;124mappl\u001b[39m\u001b[38;5;124m\"\u001b[39m]\n",
      "\u001b[1;31mKeyError\u001b[0m: 'appl'"
     ]
    }
   ],
   "source": [
    "fitness_dictionary[\"appl\"]"
   ]
  },
  {
   "cell_type": "code",
   "execution_count": 54,
   "id": "4d98a9cc-f954-4ae2-85cc-ec793eabb10a",
   "metadata": {},
   "outputs": [
    {
     "name": "stdout",
     "output_type": "stream",
     "text": [
      "Help on built-in function get:\n",
      "\n",
      "get(key, default=None, /) method of builtins.dict instance\n",
      "    Return the value for key if key is in the dictionary, else default.\n",
      "\n"
     ]
    }
   ],
   "source": [
    "help(fitness_dictionary.get)"
   ]
  },
  {
   "cell_type": "code",
   "execution_count": 60,
   "id": "af04d6be-b5fb-44c8-957f-ec844cc26cd8",
   "metadata": {},
   "outputs": [
    {
     "data": {
      "text/plain": [
       "150"
      ]
     },
     "execution_count": 60,
     "metadata": {},
     "output_type": "execute_result"
    }
   ],
   "source": [
    "fitness_dictionary.get(\"apple\", 90) # => apple değeri varsa direkt değeri yazdır yoksa 90 değerini yazdır ki sistem kullanıcıya hata vermesin "
   ]
  },
  {
   "cell_type": "code",
   "execution_count": 61,
   "id": "e619b1a9-981a-40be-81a4-cd0823b2119e",
   "metadata": {},
   "outputs": [
    {
     "data": {
      "text/plain": [
       "90"
      ]
     },
     "execution_count": 61,
     "metadata": {},
     "output_type": "execute_result"
    }
   ],
   "source": [
    "fitness_dictionary.get(\"appl\", 90)"
   ]
  },
  {
   "cell_type": "markdown",
   "id": "195ad3e1-fa3b-40a6-94fe-b6b60016ef7c",
   "metadata": {},
   "source": [
    "## Sözlük Pratikleri "
   ]
  },
  {
   "cell_type": "code",
   "execution_count": 63,
   "id": "8f13e1b4-6dab-47f6-b7d0-c33029333b58",
   "metadata": {},
   "outputs": [
    {
     "data": {
      "text/plain": [
       "{'banana': 200, 'apple': 150, 'melon': 300}"
      ]
     },
     "execution_count": 63,
     "metadata": {},
     "output_type": "execute_result"
    }
   ],
   "source": [
    "fitness_dictionary "
   ]
  },
  {
   "cell_type": "code",
   "execution_count": 69,
   "id": "03b12b28-5ae1-4ad0-9cbd-504f7c93055f",
   "metadata": {},
   "outputs": [],
   "source": [
    "my_dictionary = {100:\"a\",200:\"b\",300:\"c\"} #key:int - value:string"
   ]
  },
  {
   "cell_type": "code",
   "execution_count": 70,
   "id": "fe837853-5aca-43a0-8259-d1dd3ef081d1",
   "metadata": {},
   "outputs": [
    {
     "data": {
      "text/plain": [
       "'a'"
      ]
     },
     "execution_count": 70,
     "metadata": {},
     "output_type": "execute_result"
    }
   ],
   "source": [
    "my_dictionary[100]"
   ]
  },
  {
   "cell_type": "code",
   "execution_count": 71,
   "id": "66e37223-5f06-4ea1-83e9-cb04a87a0020",
   "metadata": {},
   "outputs": [],
   "source": [
    "my_dictionary = {\"key1\":\"value1\",\"key2\":\"value2\"} #key:string - value:string"
   ]
  },
  {
   "cell_type": "code",
   "execution_count": 72,
   "id": "f0285171-b38e-4937-9112-66cb895547f2",
   "metadata": {},
   "outputs": [
    {
     "data": {
      "text/plain": [
       "'value1'"
      ]
     },
     "execution_count": 72,
     "metadata": {},
     "output_type": "execute_result"
    }
   ],
   "source": [
    "my_dictionary[\"key1\"]"
   ]
  },
  {
   "cell_type": "code",
   "execution_count": 74,
   "id": "91919bf1-40d9-47fb-b1dd-5b79be7f9855",
   "metadata": {},
   "outputs": [],
   "source": [
    "my_mixed_dictionary = {\"key1\":100,\"key2\":3.14,\"key3\":[10,20,30]}"
   ]
  },
  {
   "cell_type": "code",
   "execution_count": 78,
   "id": "26c4ae70-5734-4e74-ad33-df1a305ebb2b",
   "metadata": {},
   "outputs": [
    {
     "data": {
      "text/plain": [
       "20"
      ]
     },
     "execution_count": 78,
     "metadata": {},
     "output_type": "execute_result"
    }
   ],
   "source": [
    "my_mixed_dictionary[\"key3\"][1]"
   ]
  },
  {
   "cell_type": "code",
   "execution_count": 1,
   "id": "adb388f7-fc86-4887-b610-61c8f61d0a5e",
   "metadata": {},
   "outputs": [],
   "source": [
    "last_dictionary = {\"k1\":10,\"k2\":[10,20,30,40,50],\"k3\":\"string\",\"k4\":{\"a\":100,\"b\":200}}"
   ]
  },
  {
   "cell_type": "code",
   "execution_count": 2,
   "id": "d431b411-8fa3-4eab-8623-55965ddc5704",
   "metadata": {},
   "outputs": [],
   "source": [
    "#ÖDEV: Tek satırda 200 değerini al sonra ayrı bir satırda 40 değerini al"
   ]
  },
  {
   "cell_type": "code",
   "execution_count": 3,
   "id": "3692c5e7-c9a2-47d7-a968-be765867f4ac",
   "metadata": {},
   "outputs": [
    {
     "data": {
      "text/plain": [
       "200"
      ]
     },
     "execution_count": 3,
     "metadata": {},
     "output_type": "execute_result"
    }
   ],
   "source": [
    "last_dictionary[\"k4\"][\"b\"] # Olması Gereken Çözüm - [\"b\" anahtarını doğrudan kullanmak her zaman güvenilirdir.]"
   ]
  },
  {
   "cell_type": "code",
   "execution_count": 119,
   "id": "0daee38e-50d5-4814-99b6-32789296ab77",
   "metadata": {},
   "outputs": [
    {
     "data": {
      "text/plain": [
       "200"
      ]
     },
     "execution_count": 119,
     "metadata": {},
     "output_type": "execute_result"
    }
   ],
   "source": [
    "list(last_dictionary[\"k4\"].values())[1] # Benim Çözümüm - [Eğer sözlükteki sıralama değişirse (örneğin \"a\" ve \"b\" yer değiştirirse), yöntem yanlış değeri döndürecektir.]"
   ]
  },
  {
   "cell_type": "code",
   "execution_count": 120,
   "id": "f9289e1f-977d-4df7-a1d4-676067fe2a2a",
   "metadata": {},
   "outputs": [
    {
     "data": {
      "text/plain": [
       "40"
      ]
     },
     "execution_count": 120,
     "metadata": {},
     "output_type": "execute_result"
    }
   ],
   "source": [
    "last_dictionary[\"k2\"][3] "
   ]
  },
  {
   "cell_type": "markdown",
   "id": "6fabd590-c895-4f1f-8493-037ad79def74",
   "metadata": {},
   "source": []
  }
 ],
 "metadata": {
  "kernelspec": {
   "display_name": "Python [conda env:base] *",
   "language": "python",
   "name": "conda-base-py"
  },
  "language_info": {
   "codemirror_mode": {
    "name": "ipython",
    "version": 3
   },
   "file_extension": ".py",
   "mimetype": "text/x-python",
   "name": "python",
   "nbconvert_exporter": "python",
   "pygments_lexer": "ipython3",
   "version": "3.13.5"
  }
 },
 "nbformat": 4,
 "nbformat_minor": 5
}

{
 "cells": [
  {
   "cell_type": "code",
   "execution_count": 1,
   "id": "6eb95953-409e-417b-8aac-34b4f2b4a169",
   "metadata": {},
   "outputs": [
    {
     "data": {
      "text/plain": [
       "True"
      ]
     },
     "execution_count": 1,
     "metadata": {},
     "output_type": "execute_result"
    }
   ],
   "source": [
    "True"
   ]
  },
  {
   "cell_type": "code",
   "execution_count": 2,
   "id": "2b989cde-c46f-4037-ad76-d5a0331295ca",
   "metadata": {},
   "outputs": [
    {
     "data": {
      "text/plain": [
       "False"
      ]
     },
     "execution_count": 2,
     "metadata": {},
     "output_type": "execute_result"
    }
   ],
   "source": [
    "False"
   ]
  },
  {
   "cell_type": "code",
   "execution_count": 3,
   "id": "9e5797b5-7643-462b-9eb4-1cd0c8614243",
   "metadata": {},
   "outputs": [],
   "source": [
    "myBoolean = True"
   ]
  },
  {
   "cell_type": "code",
   "execution_count": 4,
   "id": "87ad8249-09eb-4bfe-b5c2-ae7327f6196d",
   "metadata": {},
   "outputs": [
    {
     "data": {
      "text/plain": [
       "bool"
      ]
     },
     "execution_count": 4,
     "metadata": {},
     "output_type": "execute_result"
    }
   ],
   "source": [
    "type(myBoolean)"
   ]
  },
  {
   "cell_type": "code",
   "execution_count": 5,
   "id": "2f1a5804-a8a5-4eca-9bb1-cfa748aa5265",
   "metadata": {},
   "outputs": [],
   "source": [
    "myBoolean = False"
   ]
  },
  {
   "cell_type": "code",
   "execution_count": 6,
   "id": "b0665d5d-461f-4933-9c5e-246e9fdcbaab",
   "metadata": {},
   "outputs": [
    {
     "data": {
      "text/plain": [
       "True"
      ]
     },
     "execution_count": 6,
     "metadata": {},
     "output_type": "execute_result"
    }
   ],
   "source": [
    "5 > 3"
   ]
  },
  {
   "cell_type": "code",
   "execution_count": 7,
   "id": "51278f61-2e9e-4f68-b152-f0ec7b732046",
   "metadata": {},
   "outputs": [
    {
     "data": {
      "text/plain": [
       "True"
      ]
     },
     "execution_count": 7,
     "metadata": {},
     "output_type": "execute_result"
    }
   ],
   "source": [
    "3 < 4"
   ]
  },
  {
   "cell_type": "code",
   "execution_count": 8,
   "id": "3fe789e9-7785-48ef-a3ef-8cf56f1a5779",
   "metadata": {},
   "outputs": [
    {
     "data": {
      "text/plain": [
       "False"
      ]
     },
     "execution_count": 8,
     "metadata": {},
     "output_type": "execute_result"
    }
   ],
   "source": [
    "9 > 10"
   ]
  },
  {
   "cell_type": "code",
   "execution_count": 13,
   "id": "322159bb-7128-4e21-b483-0d281a634b12",
   "metadata": {},
   "outputs": [
    {
     "name": "stdin",
     "output_type": "stream",
     "text": [
      "Yaşınızı Girin: 40\n"
     ]
    }
   ],
   "source": [
    "age = input(\"Yaşınızı Girin:\")"
   ]
  },
  {
   "cell_type": "code",
   "execution_count": 14,
   "id": "2d750072-e337-44f1-bae1-ef3b4b285261",
   "metadata": {},
   "outputs": [
    {
     "data": {
      "text/plain": [
       "True"
      ]
     },
     "execution_count": 14,
     "metadata": {},
     "output_type": "execute_result"
    }
   ],
   "source": [
    "int(age) > 18"
   ]
  },
  {
   "cell_type": "code",
   "execution_count": 15,
   "id": "dd2cb95b-5505-41df-822a-a1485e891bbe",
   "metadata": {},
   "outputs": [
    {
     "data": {
      "text/plain": [
       "False"
      ]
     },
     "execution_count": 15,
     "metadata": {},
     "output_type": "execute_result"
    }
   ],
   "source": [
    "int(age) < 18"
   ]
  },
  {
   "cell_type": "code",
   "execution_count": null,
   "id": "70f835c9-356f-429c-b154-df840a11a8c4",
   "metadata": {},
   "outputs": [],
   "source": []
  }
 ],
 "metadata": {
  "kernelspec": {
   "display_name": "Python [conda env:base] *",
   "language": "python",
   "name": "conda-base-py"
  },
  "language_info": {
   "codemirror_mode": {
    "name": "ipython",
    "version": 3
   },
   "file_extension": ".py",
   "mimetype": "text/x-python",
   "name": "python",
   "nbconvert_exporter": "python",
   "pygments_lexer": "ipython3",
   "version": "3.13.5"
  }
 },
 "nbformat": 4,
 "nbformat_minor": 5
}

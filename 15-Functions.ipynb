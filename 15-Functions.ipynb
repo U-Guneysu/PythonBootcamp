{
 "cells": [
  {
   "cell_type": "code",
   "execution_count": 1,
   "id": "bc764e8d-ff0d-4167-ba88-ebb43e99cff6",
   "metadata": {},
   "outputs": [],
   "source": [
    "# method vs functions"
   ]
  },
  {
   "cell_type": "code",
   "execution_count": 2,
   "id": "13071b2c-6f6b-47c0-b01d-4c7f81590b38",
   "metadata": {},
   "outputs": [],
   "source": [
    "my_name = \"Umut\""
   ]
  },
  {
   "cell_type": "code",
   "execution_count": 4,
   "id": "b614ebc1-ef98-447b-800d-8e10ac93191f",
   "metadata": {},
   "outputs": [
    {
     "data": {
      "text/plain": [
       "'UMUT'"
      ]
     },
     "execution_count": 4,
     "metadata": {},
     "output_type": "execute_result"
    }
   ],
   "source": [
    "my_name.upper()"
   ]
  },
  {
   "cell_type": "code",
   "execution_count": 5,
   "id": "d962d7db-3c17-4977-aaca-d5b15d2438b8",
   "metadata": {},
   "outputs": [],
   "source": [
    "my_name_upper = my_name.upper()"
   ]
  },
  {
   "cell_type": "code",
   "execution_count": 6,
   "id": "d1d3f562-3811-4ad7-a79b-af07707fba09",
   "metadata": {},
   "outputs": [
    {
     "data": {
      "text/plain": [
       "'UMUT'"
      ]
     },
     "execution_count": 6,
     "metadata": {},
     "output_type": "execute_result"
    }
   ],
   "source": [
    "my_name_upper"
   ]
  },
  {
   "cell_type": "code",
   "execution_count": 7,
   "id": "9b2b70e8-119d-474a-9356-0a3c968c4e59",
   "metadata": {},
   "outputs": [
    {
     "data": {
      "text/plain": [
       "'Umut'"
      ]
     },
     "execution_count": 7,
     "metadata": {},
     "output_type": "execute_result"
    }
   ],
   "source": [
    "my_name"
   ]
  },
  {
   "cell_type": "code",
   "execution_count": 10,
   "id": "0d71dfb8-175a-4aed-acb6-92b71b27d3fb",
   "metadata": {},
   "outputs": [
    {
     "name": "stdout",
     "output_type": "stream",
     "text": [
      "Help on built-in function upper:\n",
      "\n",
      "upper() method of builtins.str instance\n",
      "    Return a copy of the string converted to uppercase.\n",
      "\n"
     ]
    }
   ],
   "source": [
    "help(my_name.upper)"
   ]
  },
  {
   "cell_type": "markdown",
   "id": "979ebc6d-80ae-4f7f-89a9-4b345130a511",
   "metadata": {},
   "source": [
    "## functions \n",
    "\n",
    "* Python’da function (fonksiyon), belirli bir görevi yerine getiren, gerektiğinde tekrar kullanılabilen kod bloklarıdır.\n",
    "* Karmaşık işlemleri daha düzenli, okunabilir ve tekrar kullanılabilir hale getirmeye yarar."
   ]
  },
  {
   "cell_type": "code",
   "execution_count": 11,
   "id": "484a3680-8775-4305-9992-008e40eeb3fa",
   "metadata": {},
   "outputs": [],
   "source": [
    "def hello_python():\n",
    "    print(\"hello\")\n",
    "    print(\"python\")"
   ]
  },
  {
   "cell_type": "code",
   "execution_count": 12,
   "id": "62c2d462-4786-4113-8f1e-1dd95bbd14e3",
   "metadata": {},
   "outputs": [
    {
     "data": {
      "text/plain": [
       "<function __main__.hello_python()>"
      ]
     },
     "execution_count": 12,
     "metadata": {},
     "output_type": "execute_result"
    }
   ],
   "source": [
    "hello_python"
   ]
  },
  {
   "cell_type": "code",
   "execution_count": 13,
   "id": "bcd9c106-f392-4e87-818c-8fa30026524c",
   "metadata": {},
   "outputs": [
    {
     "name": "stdout",
     "output_type": "stream",
     "text": [
      "hello\n",
      "python\n"
     ]
    }
   ],
   "source": [
    "hello_python()"
   ]
  },
  {
   "cell_type": "code",
   "execution_count": 14,
   "id": "fe5c30ca-b818-4bfd-bf92-ccf4cba6608a",
   "metadata": {},
   "outputs": [],
   "source": [
    "#input "
   ]
  },
  {
   "cell_type": "code",
   "execution_count": 15,
   "id": "c8cdaa02-e4c8-4ccf-b551-61bd5d039e21",
   "metadata": {},
   "outputs": [],
   "source": [
    "def hello_name(name): # Parantez içi boşsa fonksiyon parametre almaz, doluysa parametre bekler.\n",
    "    print(\"hello\")\n",
    "    print(name)"
   ]
  },
  {
   "cell_type": "code",
   "execution_count": 16,
   "id": "85672be2-314f-40a5-a5cc-fda4bb3f076d",
   "metadata": {},
   "outputs": [
    {
     "name": "stdout",
     "output_type": "stream",
     "text": [
      "hello\n",
      "Umut\n"
     ]
    }
   ],
   "source": [
    "hello_name(\"Umut\")"
   ]
  },
  {
   "cell_type": "code",
   "execution_count": 21,
   "id": "40f0db47-aab4-4f1e-ae1b-31cd7683b942",
   "metadata": {},
   "outputs": [],
   "source": [
    "def sum_example(num1, num2):\n",
    "    num3 = num1 + num2\n",
    "    print(num3)"
   ]
  },
  {
   "cell_type": "code",
   "execution_count": 22,
   "id": "9d0af81a-f1c4-42a0-b4d8-c4957ceef6bc",
   "metadata": {},
   "outputs": [
    {
     "name": "stdout",
     "output_type": "stream",
     "text": [
      "32\n"
     ]
    }
   ],
   "source": [
    "sum_example(20,12)"
   ]
  },
  {
   "cell_type": "code",
   "execution_count": 25,
   "id": "72332844-5181-4d5c-9929-fa7a602f1932",
   "metadata": {},
   "outputs": [],
   "source": [
    "# hello_name() => TypeError: hello_name() missing 1 required positional argument: 'name'"
   ]
  },
  {
   "cell_type": "code",
   "execution_count": 27,
   "id": "e9c26ec5-be02-4f02-9576-4110156c36bd",
   "metadata": {},
   "outputs": [],
   "source": [
    "def hello_surname(surname=\"deneme\"):\n",
    "    print(\"hello\")\n",
    "    print(surname)"
   ]
  },
  {
   "cell_type": "code",
   "execution_count": 28,
   "id": "3e903690-7c99-4584-9b11-c1dd58ae0644",
   "metadata": {},
   "outputs": [
    {
     "name": "stdout",
     "output_type": "stream",
     "text": [
      "hello\n",
      "sam\n"
     ]
    }
   ],
   "source": [
    "hello_surname(\"sam\")"
   ]
  },
  {
   "cell_type": "code",
   "execution_count": 30,
   "id": "abc64787-8614-4313-abf5-8d5787142745",
   "metadata": {},
   "outputs": [
    {
     "name": "stdout",
     "output_type": "stream",
     "text": [
      "hello\n",
      "deneme\n"
     ]
    }
   ],
   "source": [
    "hello_surname() # Parametre girilirse girilen değer yazdırılır, girilmezse varsayılan değer (\"deneme\") yazdırılır."
   ]
  },
  {
   "cell_type": "code",
   "execution_count": 32,
   "id": "30a83de0-4f2d-479a-809a-751ecbc24ebd",
   "metadata": {},
   "outputs": [],
   "source": [
    "#return"
   ]
  },
  {
   "cell_type": "code",
   "execution_count": 33,
   "id": "1bb7c6ac-d420-44ed-84ea-9d344c8fc0f6",
   "metadata": {},
   "outputs": [],
   "source": [
    "def summation(num1, num2, num3):\n",
    "    print(num1+num2+num3)"
   ]
  },
  {
   "cell_type": "code",
   "execution_count": 34,
   "id": "beabbf86-c86d-45b4-b395-834c075ea7db",
   "metadata": {},
   "outputs": [
    {
     "name": "stdout",
     "output_type": "stream",
     "text": [
      "20\n"
     ]
    }
   ],
   "source": [
    "x = summation(10,2,8)"
   ]
  },
  {
   "cell_type": "code",
   "execution_count": 35,
   "id": "65812eb2-3200-49e8-bffd-3620e1105646",
   "metadata": {},
   "outputs": [],
   "source": [
    "x"
   ]
  },
  {
   "cell_type": "code",
   "execution_count": 36,
   "id": "fdffeabe-8ebf-480e-a49a-07be7d99d776",
   "metadata": {},
   "outputs": [
    {
     "name": "stdout",
     "output_type": "stream",
     "text": [
      "None\n"
     ]
    }
   ],
   "source": [
    "print(x)"
   ]
  },
  {
   "cell_type": "code",
   "execution_count": 37,
   "id": "b2edda1b-4161-4f33-af9d-035b998aa137",
   "metadata": {},
   "outputs": [
    {
     "data": {
      "text/plain": [
       "NoneType"
      ]
     },
     "execution_count": 37,
     "metadata": {},
     "output_type": "execute_result"
    }
   ],
   "source": [
    "type(x)"
   ]
  },
  {
   "cell_type": "code",
   "execution_count": 41,
   "id": "f74d20fc-196d-4a54-b45a-d670572a5e9b",
   "metadata": {},
   "outputs": [],
   "source": [
    "def return_summation(num1, num2, num3):\n",
    "    result = num1+num2+num3\n",
    "    print(result)\n",
    "    return result"
   ]
  },
  {
   "cell_type": "code",
   "execution_count": 42,
   "id": "c1ed8b8e-10c9-4d32-b4f4-0c62e2762303",
   "metadata": {},
   "outputs": [
    {
     "name": "stdout",
     "output_type": "stream",
     "text": [
      "21\n"
     ]
    }
   ],
   "source": [
    "x = return_summation(10,2,9)"
   ]
  },
  {
   "cell_type": "code",
   "execution_count": 43,
   "id": "390281df-9b02-41f5-9aff-3f376ee33902",
   "metadata": {},
   "outputs": [
    {
     "data": {
      "text/plain": [
       "21"
      ]
     },
     "execution_count": 43,
     "metadata": {},
     "output_type": "execute_result"
    }
   ],
   "source": [
    "x"
   ]
  },
  {
   "cell_type": "code",
   "execution_count": 44,
   "id": "687710ef-6067-4b36-a849-b1bf53c1ba0d",
   "metadata": {},
   "outputs": [],
   "source": [
    "def control_string(s):\n",
    "    if s[0] == \"a\":\n",
    "        print(\"a\")"
   ]
  },
  {
   "cell_type": "code",
   "execution_count": 46,
   "id": "4d71cfa8-c21a-4d07-8d03-ac24f20b7e2c",
   "metadata": {},
   "outputs": [
    {
     "name": "stdout",
     "output_type": "stream",
     "text": [
      "a\n"
     ]
    }
   ],
   "source": [
    "control_string(\"araba\")"
   ]
  },
  {
   "cell_type": "code",
   "execution_count": 47,
   "id": "b59954e2-bd5e-4cf0-b683-cc8eee6fd951",
   "metadata": {},
   "outputs": [],
   "source": [
    "control_string(\"uçak\")"
   ]
  },
  {
   "cell_type": "code",
   "execution_count": 48,
   "id": "e13f2097-71b9-48c6-b744-e7565cf72c9a",
   "metadata": {},
   "outputs": [],
   "source": [
    "#args, kwargs (arguments, key word arguments)"
   ]
  },
  {
   "cell_type": "markdown",
   "id": "e4e2772c-4d54-481f-8ca2-73a3ef5d6a69",
   "metadata": {},
   "source": [
    "* Python’da *args ve **kwargs fonksiyonlara esnek sayıda parametre geçirmeyi sağlayan özel yapılardır.\n",
    "* **args** Fonksiyona kaç tane pozisyonel (sıralı) parametre gönderileceğini bilmediğimizde kullanılır ve fonksiyon içinde **tuple** olarak tutulur.\n",
    "* **kwargs** Fonksiyona kaç tane isimli (anahtar kelime) parametre geçileceğini bilmediğimizde kullanılır ve fonksiyon içinde **dictionary (sözlük)** olarak tutulur."
   ]
  },
  {
   "cell_type": "code",
   "execution_count": 49,
   "id": "7c3b76bf-de0c-42ff-a629-0bad1352311e",
   "metadata": {},
   "outputs": [],
   "source": [
    "def args_sum(*args):\n",
    "    return sum(args)"
   ]
  },
  {
   "cell_type": "code",
   "execution_count": 50,
   "id": "680ce80e-09a2-47c0-bf98-141964ddd8b4",
   "metadata": {},
   "outputs": [
    {
     "data": {
      "text/plain": [
       "150"
      ]
     },
     "execution_count": 50,
     "metadata": {},
     "output_type": "execute_result"
    }
   ],
   "source": [
    "args_sum(10,20,30,40,50)"
   ]
  },
  {
   "cell_type": "code",
   "execution_count": 52,
   "id": "92fb6ccf-fb96-4dce-8ff6-75979fe8d8c0",
   "metadata": {},
   "outputs": [],
   "source": [
    "def args_example(*args):\n",
    "    print(args)"
   ]
  },
  {
   "cell_type": "code",
   "execution_count": 53,
   "id": "b9225957-b506-4cae-a201-73719ed947ea",
   "metadata": {},
   "outputs": [
    {
     "name": "stdout",
     "output_type": "stream",
     "text": [
      "(1001, 1561, 51, 15, 156, 156)\n"
     ]
    }
   ],
   "source": [
    "args_example(1001,1561,51,15,156,156)"
   ]
  },
  {
   "cell_type": "code",
   "execution_count": 54,
   "id": "6cd6e497-57f7-41a2-ad43-8c03d3559e2a",
   "metadata": {},
   "outputs": [],
   "source": [
    "def kwargs_example(**kwargs):\n",
    "    print(kwargs)"
   ]
  },
  {
   "cell_type": "code",
   "execution_count": 55,
   "id": "b8788542-7b05-4b81-969f-56642842ae64",
   "metadata": {},
   "outputs": [
    {
     "name": "stdout",
     "output_type": "stream",
     "text": [
      "{'apple': 100, 'banana': 150, 'melon': 200}\n"
     ]
    }
   ],
   "source": [
    "kwargs_example(apple=100,banana=150,melon=200)"
   ]
  },
  {
   "cell_type": "code",
   "execution_count": 56,
   "id": "ec00a5cd-e521-4238-a68d-00bb3c89e357",
   "metadata": {},
   "outputs": [],
   "source": [
    "def kwargs_example_2(**kwargs):\n",
    "    if \"apple\" in kwargs:\n",
    "        print(\"appleeee\")\n",
    "    else:\n",
    "        print(\":/\")"
   ]
  },
  {
   "cell_type": "code",
   "execution_count": 57,
   "id": "2fcac9cd-64aa-404b-984f-bf0234af095c",
   "metadata": {},
   "outputs": [
    {
     "name": "stdout",
     "output_type": "stream",
     "text": [
      "appleeee\n"
     ]
    }
   ],
   "source": [
    "kwargs_example_2(apple=100,banana=150,melon=200)"
   ]
  },
  {
   "cell_type": "code",
   "execution_count": 59,
   "id": "feed7f74-1a89-45e1-97bd-0615b0d5f80f",
   "metadata": {},
   "outputs": [
    {
     "name": "stdout",
     "output_type": "stream",
     "text": [
      ":/\n"
     ]
    }
   ],
   "source": [
    "kwargs_example_2(banana=150)"
   ]
  },
  {
   "cell_type": "code",
   "execution_count": null,
   "id": "29b4f230-6436-4de9-be05-471a9bc2f984",
   "metadata": {},
   "outputs": [],
   "source": []
  }
 ],
 "metadata": {
  "kernelspec": {
   "display_name": "Python [conda env:base] *",
   "language": "python",
   "name": "conda-base-py"
  },
  "language_info": {
   "codemirror_mode": {
    "name": "ipython",
    "version": 3
   },
   "file_extension": ".py",
   "mimetype": "text/x-python",
   "name": "python",
   "nbconvert_exporter": "python",
   "pygments_lexer": "ipython3",
   "version": "3.13.5"
  }
 },
 "nbformat": 4,
 "nbformat_minor": 5
}

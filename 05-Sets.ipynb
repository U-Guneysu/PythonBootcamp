{
 "cells": [
  {
   "cell_type": "code",
   "execution_count": 121,
   "id": "018dc509-b8bb-4694-8bb3-4a8a83362f22",
   "metadata": {},
   "outputs": [],
   "source": [
    "# İçerisinde birden fazla değer tutabilen ve diğer yapılara göre (list ve dictionary) farklı özelliklere sahip bir yapı.\n",
    "#unique elements (Her elemandan sadece bir tane olabilir), \n",
    "#unique - Tekil\n",
    "#unordered "
   ]
  },
  {
   "cell_type": "code",
   "execution_count": 122,
   "id": "e93a1d77-5e60-45b4-aa35-295f6ed33a2b",
   "metadata": {},
   "outputs": [],
   "source": [
    "myList = [10,20,30,40,20,30,40,10]"
   ]
  },
  {
   "cell_type": "code",
   "execution_count": 123,
   "id": "a09262da-0ad5-4e26-be46-d8519d34ae2a",
   "metadata": {},
   "outputs": [
    {
     "data": {
      "text/plain": [
       "8"
      ]
     },
     "execution_count": 123,
     "metadata": {},
     "output_type": "execute_result"
    }
   ],
   "source": [
    "len(myList)"
   ]
  },
  {
   "cell_type": "code",
   "execution_count": 124,
   "id": "bfa02436-b295-4719-8099-dcb8deb2bfd7",
   "metadata": {},
   "outputs": [
    {
     "data": {
      "text/plain": [
       "[10, 20, 30, 40, 20, 30, 40, 10]"
      ]
     },
     "execution_count": 124,
     "metadata": {},
     "output_type": "execute_result"
    }
   ],
   "source": [
    "myList"
   ]
  },
  {
   "cell_type": "code",
   "execution_count": 125,
   "id": "2ad75ce4-f6e2-4137-83f8-6e257792df2a",
   "metadata": {},
   "outputs": [],
   "source": [
    "mySet = set(myList)"
   ]
  },
  {
   "cell_type": "code",
   "execution_count": 127,
   "id": "0cc5b219-e7d6-47d9-9758-0fb1135c9104",
   "metadata": {},
   "outputs": [
    {
     "data": {
      "text/plain": [
       "{10, 20, 30, 40}"
      ]
     },
     "execution_count": 127,
     "metadata": {},
     "output_type": "execute_result"
    }
   ],
   "source": [
    "mySet # Her elemandan bir tane olacak şekilde oluşturdu"
   ]
  },
  {
   "cell_type": "code",
   "execution_count": 128,
   "id": "8d41591d-6b73-43b9-97c8-204eaf9491a0",
   "metadata": {},
   "outputs": [],
   "source": [
    "mySet = {20,30,40,20,30,40,10}"
   ]
  },
  {
   "cell_type": "code",
   "execution_count": 129,
   "id": "beb01533-99da-4177-92c6-8cd3fe237818",
   "metadata": {},
   "outputs": [
    {
     "data": {
      "text/plain": [
       "{10, 20, 30, 40}"
      ]
     },
     "execution_count": 129,
     "metadata": {},
     "output_type": "execute_result"
    }
   ],
   "source": [
    "mySet"
   ]
  },
  {
   "cell_type": "code",
   "execution_count": 130,
   "id": "3db9db74-4132-4b1e-aa72-336cc1dbe1e1",
   "metadata": {},
   "outputs": [],
   "source": [
    "mySet.add(20) #Eleman mevcut olduğu için eklenmedi"
   ]
  },
  {
   "cell_type": "code",
   "execution_count": 131,
   "id": "22e53e7d-32e6-4a75-b22c-534850191810",
   "metadata": {},
   "outputs": [
    {
     "data": {
      "text/plain": [
       "{10, 20, 30, 40}"
      ]
     },
     "execution_count": 131,
     "metadata": {},
     "output_type": "execute_result"
    }
   ],
   "source": [
    "mySet"
   ]
  },
  {
   "cell_type": "code",
   "execution_count": 132,
   "id": "fd909283-4197-4063-b65b-9a2763c81c4f",
   "metadata": {},
   "outputs": [],
   "source": [
    "mySet.add(50) #Eleman mevcut olmadığı için ekledi"
   ]
  },
  {
   "cell_type": "code",
   "execution_count": 133,
   "id": "8f77afcc-860b-45a0-9a01-8795b983219a",
   "metadata": {},
   "outputs": [
    {
     "data": {
      "text/plain": [
       "{10, 20, 30, 40, 50}"
      ]
     },
     "execution_count": 133,
     "metadata": {},
     "output_type": "execute_result"
    }
   ],
   "source": [
    "mySet"
   ]
  },
  {
   "cell_type": "code",
   "execution_count": 135,
   "id": "7c960489-e9c3-4757-810e-a001e412b85b",
   "metadata": {},
   "outputs": [],
   "source": [
    "#mySet[0] => TypeError: 'set' object is not subscriptable (Index mantığı yok)"
   ]
  },
  {
   "cell_type": "code",
   "execution_count": 136,
   "id": "5121eb23-9693-4d93-91eb-08f548b72ffe",
   "metadata": {},
   "outputs": [],
   "source": [
    "mySet2 = {30,40,50,60,70}"
   ]
  },
  {
   "cell_type": "code",
   "execution_count": 137,
   "id": "c3ab2387-ae81-409e-9bb1-2db7b33320e3",
   "metadata": {},
   "outputs": [
    {
     "data": {
      "text/plain": [
       "{10, 20, 30, 40, 50}"
      ]
     },
     "execution_count": 137,
     "metadata": {},
     "output_type": "execute_result"
    }
   ],
   "source": [
    "mySet"
   ]
  },
  {
   "cell_type": "code",
   "execution_count": 138,
   "id": "8914a6cd-9540-483d-a2cd-f3c33d511922",
   "metadata": {},
   "outputs": [
    {
     "data": {
      "text/plain": [
       "{30, 40, 50, 60, 70}"
      ]
     },
     "execution_count": 138,
     "metadata": {},
     "output_type": "execute_result"
    }
   ],
   "source": [
    "mySet2"
   ]
  },
  {
   "cell_type": "code",
   "execution_count": 140,
   "id": "70b7102c-36d2-4bae-8a83-c8f197a6042b",
   "metadata": {},
   "outputs": [
    {
     "data": {
      "text/plain": [
       "{10, 20, 30, 40, 50, 60, 70}"
      ]
     },
     "execution_count": 140,
     "metadata": {},
     "output_type": "execute_result"
    }
   ],
   "source": [
    "mySet.union(mySet2) #mySet ile mySet2 birleştirilir (Her elemandan birer tane olacak şekilde)"
   ]
  },
  {
   "cell_type": "code",
   "execution_count": 142,
   "id": "bd698151-83c6-45d7-a2f0-196f1f712abc",
   "metadata": {},
   "outputs": [
    {
     "data": {
      "text/plain": [
       "{30, 40, 50}"
      ]
     },
     "execution_count": 142,
     "metadata": {},
     "output_type": "execute_result"
    }
   ],
   "source": [
    "mySet.intersection(mySet2) #mySet ile mySet2 kesişimini gösterir"
   ]
  },
  {
   "cell_type": "code",
   "execution_count": 143,
   "id": "684b9ab3-c277-472c-96d7-e267031c2264",
   "metadata": {},
   "outputs": [],
   "source": [
    "countryList = [\"de\",\"fr\",\"tr\",\"fr\",\"tr\",\"de\",\"nl\",\"tr\"]"
   ]
  },
  {
   "cell_type": "code",
   "execution_count": 144,
   "id": "c8d423b6-b832-4f0f-8eca-2c2fc89c241b",
   "metadata": {},
   "outputs": [
    {
     "data": {
      "text/plain": [
       "{'de', 'fr', 'nl', 'tr'}"
      ]
     },
     "execution_count": 144,
     "metadata": {},
     "output_type": "execute_result"
    }
   ],
   "source": [
    "set(countryList)"
   ]
  },
  {
   "cell_type": "code",
   "execution_count": 145,
   "id": "45f63afd-eda4-4ca0-9767-be0f97b7e7d8",
   "metadata": {},
   "outputs": [
    {
     "data": {
      "text/plain": [
       "4"
      ]
     },
     "execution_count": 145,
     "metadata": {},
     "output_type": "execute_result"
    }
   ],
   "source": [
    "len(set(countryList))"
   ]
  },
  {
   "cell_type": "code",
   "execution_count": 151,
   "id": "0daa165d-16c8-408e-8c96-5ba117022fb1",
   "metadata": {},
   "outputs": [],
   "source": [
    "emptyList = []"
   ]
  },
  {
   "cell_type": "code",
   "execution_count": 152,
   "id": "b6097b4a-3ef8-4972-a88d-00ea17c31374",
   "metadata": {},
   "outputs": [],
   "source": [
    "emptyList.append(10)\n",
    "emptyList.append(20)\n",
    "emptyList.append(30)"
   ]
  },
  {
   "cell_type": "code",
   "execution_count": 153,
   "id": "4a79792e-1f27-4ed4-b70a-e7e7277e5dd2",
   "metadata": {},
   "outputs": [
    {
     "data": {
      "text/plain": [
       "[10, 20, 30]"
      ]
     },
     "execution_count": 153,
     "metadata": {},
     "output_type": "execute_result"
    }
   ],
   "source": [
    "emptyList"
   ]
  },
  {
   "cell_type": "markdown",
   "id": "e57c47b0-984d-44ed-9ac9-b58b75837409",
   "metadata": {},
   "source": [
    "### ↓↓↓↓↓↓↓↓↓↓↓↓↓↓↓↓↓↓↓↓"
   ]
  },
  {
   "cell_type": "code",
   "execution_count": 179,
   "id": "13d21e66-ac4a-4f9a-8d5b-efbde27cba9c",
   "metadata": {},
   "outputs": [],
   "source": [
    "emptySet = {}"
   ]
  },
  {
   "cell_type": "code",
   "execution_count": 180,
   "id": "19b9a461-695f-4fbf-a100-e6b814c043d1",
   "metadata": {},
   "outputs": [
    {
     "data": {
      "text/plain": [
       "dict"
      ]
     },
     "execution_count": 180,
     "metadata": {},
     "output_type": "execute_result"
    }
   ],
   "source": [
    "type(emptySet)"
   ]
  },
  {
   "cell_type": "code",
   "execution_count": 181,
   "id": "38d03cbe-a3a1-425b-8c1a-ad2adcf6eefd",
   "metadata": {},
   "outputs": [],
   "source": [
    "# Boş Set nasıl oluşturulur?"
   ]
  },
  {
   "cell_type": "code",
   "execution_count": 182,
   "id": "c12ca59f-38eb-4864-8c0d-80d3702cf5ff",
   "metadata": {},
   "outputs": [],
   "source": [
    "emptySet = set()"
   ]
  },
  {
   "cell_type": "code",
   "execution_count": 183,
   "id": "5f51131a-08ca-48d8-bf9c-7bc97c5c9586",
   "metadata": {},
   "outputs": [
    {
     "data": {
      "text/plain": [
       "set"
      ]
     },
     "execution_count": 183,
     "metadata": {},
     "output_type": "execute_result"
    }
   ],
   "source": [
    "type(emptySet)"
   ]
  },
  {
   "cell_type": "code",
   "execution_count": 184,
   "id": "0629b824-0308-44bb-ab80-3b19b0c70a89",
   "metadata": {},
   "outputs": [
    {
     "data": {
      "text/plain": [
       "0"
      ]
     },
     "execution_count": 184,
     "metadata": {},
     "output_type": "execute_result"
    }
   ],
   "source": [
    "len(emptySet)"
   ]
  },
  {
   "cell_type": "code",
   "execution_count": 185,
   "id": "5e3ad1c1-4448-40ee-b224-88bb0128df49",
   "metadata": {},
   "outputs": [],
   "source": [
    "emptySet.add(10)\n",
    "emptySet.add(10)\n",
    "emptySet.add(10)\n",
    "emptySet.add(10)\n",
    "emptySet.add(20)\n",
    "emptySet.add(30)"
   ]
  },
  {
   "cell_type": "code",
   "execution_count": 186,
   "id": "56a7534e-490c-454b-8dbe-425a596761d8",
   "metadata": {},
   "outputs": [
    {
     "data": {
      "text/plain": [
       "{10, 20, 30}"
      ]
     },
     "execution_count": 186,
     "metadata": {},
     "output_type": "execute_result"
    }
   ],
   "source": [
    "emptySet"
   ]
  },
  {
   "cell_type": "markdown",
   "id": "d4ff00e0-48ab-4773-8354-e730961f945e",
   "metadata": {},
   "source": [
    "### **********************************"
   ]
  },
  {
   "cell_type": "code",
   "execution_count": 187,
   "id": "608eb58a-cb0a-46b9-928e-7519f95de488",
   "metadata": {},
   "outputs": [],
   "source": [
    "emptyList = []\n",
    "emptyList = list()"
   ]
  },
  {
   "cell_type": "code",
   "execution_count": 188,
   "id": "fc743716-4514-4398-87ee-5d1fddd97e45",
   "metadata": {},
   "outputs": [],
   "source": [
    "emptyList.append(10)\n",
    "emptyList.append(20)\n",
    "emptyList.append(30)"
   ]
  },
  {
   "cell_type": "code",
   "execution_count": 189,
   "id": "ec382c1f-acfd-4cf4-b396-b7710b64ae69",
   "metadata": {},
   "outputs": [
    {
     "data": {
      "text/plain": [
       "[10, 20, 30]"
      ]
     },
     "execution_count": 189,
     "metadata": {},
     "output_type": "execute_result"
    }
   ],
   "source": [
    "emptyList"
   ]
  },
  {
   "cell_type": "markdown",
   "id": "b6bc8321-1266-4212-968e-9143524db2d5",
   "metadata": {},
   "source": [
    "### **********************************"
   ]
  },
  {
   "cell_type": "code",
   "execution_count": 190,
   "id": "7d3bc6ea-bf54-4e52-a22e-fcbcb5bedcc6",
   "metadata": {},
   "outputs": [],
   "source": [
    "emptyDict = dict()"
   ]
  },
  {
   "cell_type": "code",
   "execution_count": 191,
   "id": "585327ec-fef3-4557-8d11-4c6990540389",
   "metadata": {},
   "outputs": [],
   "source": [
    "emptyDict[\"a\"] = 10\n",
    "emptyDict[\"b\"] = 20\n",
    "emptyDict[\"c\"] = 30"
   ]
  },
  {
   "cell_type": "code",
   "execution_count": 192,
   "id": "28e7e04d-4c73-45e9-adef-d880c04dbca6",
   "metadata": {},
   "outputs": [
    {
     "data": {
      "text/plain": [
       "{'a': 10, 'b': 20, 'c': 30}"
      ]
     },
     "execution_count": 192,
     "metadata": {},
     "output_type": "execute_result"
    }
   ],
   "source": [
    "emptyDict"
   ]
  },
  {
   "cell_type": "markdown",
   "id": "193aced7-9f18-4f43-80d6-988130d22b06",
   "metadata": {},
   "source": [
    "### ↑↑↑↑↑↑↑↑↑↑↑↑↑↑↑↑↑↑↑↑"
   ]
  },
  {
   "cell_type": "code",
   "execution_count": null,
   "id": "8706079b-7eb1-47f2-b21f-b6f3e0ae6cad",
   "metadata": {},
   "outputs": [],
   "source": []
  }
 ],
 "metadata": {
  "kernelspec": {
   "display_name": "Python [conda env:base] *",
   "language": "python",
   "name": "conda-base-py"
  },
  "language_info": {
   "codemirror_mode": {
    "name": "ipython",
    "version": 3
   },
   "file_extension": ".py",
   "mimetype": "text/x-python",
   "name": "python",
   "nbconvert_exporter": "python",
   "pygments_lexer": "ipython3",
   "version": "3.13.5"
  }
 },
 "nbformat": 4,
 "nbformat_minor": 5
}

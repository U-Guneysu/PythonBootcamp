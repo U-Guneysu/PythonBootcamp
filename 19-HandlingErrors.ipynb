{
 "cells": [
  {
   "cell_type": "code",
   "execution_count": 2,
   "id": "cced9dfc-99f4-46c4-935a-88d1cd0a7dd3",
   "metadata": {},
   "outputs": [
    {
     "name": "stdin",
     "output_type": "stream",
     "text": [
      "enter age:  35\n"
     ]
    }
   ],
   "source": [
    "age = input(\"enter age: \")"
   ]
  },
  {
   "cell_type": "code",
   "execution_count": 3,
   "id": "e1ba8115-c86a-477d-bbba-09b3acd9bd69",
   "metadata": {},
   "outputs": [
    {
     "data": {
      "text/plain": [
       "'35'"
      ]
     },
     "execution_count": 3,
     "metadata": {},
     "output_type": "execute_result"
    }
   ],
   "source": [
    "age"
   ]
  },
  {
   "cell_type": "code",
   "execution_count": 4,
   "id": "c22588ef-45b1-4dc6-a76c-c7312ded782b",
   "metadata": {},
   "outputs": [
    {
     "data": {
      "text/plain": [
       "70"
      ]
     },
     "execution_count": 4,
     "metadata": {},
     "output_type": "execute_result"
    }
   ],
   "source": [
    "int(age) * 2"
   ]
  },
  {
   "cell_type": "code",
   "execution_count": 5,
   "id": "157e0023-f25a-41e4-be62-377bf305f849",
   "metadata": {},
   "outputs": [],
   "source": [
    "#Kullanıcı girdi kısmına yanlış bir değer girseydi;"
   ]
  },
  {
   "cell_type": "code",
   "execution_count": 8,
   "id": "8b246a47-a851-47d8-af3e-be75d452fcc6",
   "metadata": {},
   "outputs": [
    {
     "name": "stdin",
     "output_type": "stream",
     "text": [
      "enter age:  30\n"
     ]
    }
   ],
   "source": [
    "age = input(\"enter age: \")"
   ]
  },
  {
   "cell_type": "code",
   "execution_count": 9,
   "id": "5516e739-1062-42e6-bd51-2df0ec22ef10",
   "metadata": {},
   "outputs": [
    {
     "data": {
      "text/plain": [
       "'30'"
      ]
     },
     "execution_count": 9,
     "metadata": {},
     "output_type": "execute_result"
    }
   ],
   "source": [
    "age"
   ]
  },
  {
   "cell_type": "code",
   "execution_count": 10,
   "id": "b6def796-1596-41eb-8a02-73a8cbb07f3b",
   "metadata": {},
   "outputs": [],
   "source": [
    "# int(age) * 2 => ValueError: invalid literal for int() with base 10: 'Umut'"
   ]
  },
  {
   "cell_type": "markdown",
   "id": "40acfa1b-b6d6-40a5-9edd-65511f33c6a3",
   "metadata": {},
   "source": [
    "<h2 style=\"color:purple; font-style:italic\">TRY - EXCEPT</h2>"
   ]
  },
  {
   "cell_type": "code",
   "execution_count": 16,
   "id": "11e9fc37-45f0-4b4b-9dbf-00f5a469c26d",
   "metadata": {},
   "outputs": [
    {
     "name": "stdin",
     "output_type": "stream",
     "text": [
      "enter age:  20\n"
     ]
    },
    {
     "name": "stdout",
     "output_type": "stream",
     "text": [
      "40\n",
      "else executed\n",
      "finally\n"
     ]
    }
   ],
   "source": [
    "while True:\n",
    "    try:\n",
    "        myAge = int(input(\"enter age: \"))\n",
    "        print(myAge * 2)\n",
    "        #break\n",
    "    except:\n",
    "        print(\"Enter Your Age!\")\n",
    "    else:\n",
    "        print(\"else executed\")\n",
    "        break\n",
    "    finally:\n",
    "        print(\"finally\")"
   ]
  },
  {
   "cell_type": "code",
   "execution_count": null,
   "id": "fa7a18c9-8256-4a1c-82b1-73b87a18a7e7",
   "metadata": {},
   "outputs": [],
   "source": []
  }
 ],
 "metadata": {
  "kernelspec": {
   "display_name": "Python [conda env:base] *",
   "language": "python",
   "name": "conda-base-py"
  },
  "language_info": {
   "codemirror_mode": {
    "name": "ipython",
    "version": 3
   },
   "file_extension": ".py",
   "mimetype": "text/x-python",
   "name": "python",
   "nbconvert_exporter": "python",
   "pygments_lexer": "ipython3",
   "version": "3.13.5"
  }
 },
 "nbformat": 4,
 "nbformat_minor": 5
}

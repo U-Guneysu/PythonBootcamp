{
 "cells": [
  {
   "cell_type": "code",
   "execution_count": 2,
   "id": "fc428b57-e27f-488b-8d3a-43c089c7307d",
   "metadata": {},
   "outputs": [
    {
     "data": {
      "text/plain": [
       "8"
      ]
     },
     "execution_count": 2,
     "metadata": {},
     "output_type": "execute_result"
    }
   ],
   "source": [
    "3 + 5"
   ]
  },
  {
   "cell_type": "code",
   "execution_count": 3,
   "id": "78b35519-6226-40d5-8055-2e92c0c36085",
   "metadata": {},
   "outputs": [
    {
     "data": {
      "text/plain": [
       "12"
      ]
     },
     "execution_count": 3,
     "metadata": {},
     "output_type": "execute_result"
    }
   ],
   "source": [
    "4 * 3"
   ]
  },
  {
   "cell_type": "markdown",
   "id": "5c4c7add-3ec3-4ee2-8c36-1174b85e4b91",
   "metadata": {},
   "source": [
    "# GÜN #1 - Değişkenlere Giriş"
   ]
  },
  {
   "cell_type": "code",
   "execution_count": 4,
   "id": "61ded670-9974-4e2c-8c77-289ce3a013ce",
   "metadata": {},
   "outputs": [
    {
     "data": {
      "text/plain": [
       "225.0"
      ]
     },
     "execution_count": 4,
     "metadata": {},
     "output_type": "execute_result"
    }
   ],
   "source": [
    "900 / 4"
   ]
  },
  {
   "cell_type": "code",
   "execution_count": 5,
   "id": "25e3ee19-b243-4c2d-8ff8-4db76294dd82",
   "metadata": {},
   "outputs": [
    {
     "data": {
      "text/plain": [
       "128.57142857142858"
      ]
     },
     "execution_count": 5,
     "metadata": {},
     "output_type": "execute_result"
    }
   ],
   "source": [
    "900 / 7"
   ]
  },
  {
   "cell_type": "code",
   "execution_count": 6,
   "id": "b3108af4-ff72-4bad-8a56-8b4edd833b11",
   "metadata": {},
   "outputs": [
    {
     "data": {
      "text/plain": [
       "-90"
      ]
     },
     "execution_count": 6,
     "metadata": {},
     "output_type": "execute_result"
    }
   ],
   "source": [
    "10 - 100"
   ]
  },
  {
   "cell_type": "code",
   "execution_count": 7,
   "id": "add0eccc-19a8-491e-95a0-a45909f50ce7",
   "metadata": {},
   "outputs": [
    {
     "data": {
      "text/plain": [
       "625"
      ]
     },
     "execution_count": 7,
     "metadata": {},
     "output_type": "execute_result"
    }
   ],
   "source": [
    "5 * 5 * 5 * 5"
   ]
  },
  {
   "cell_type": "code",
   "execution_count": 3,
   "id": "53d62809-0243-4fea-b00d-ba7072a1dca6",
   "metadata": {},
   "outputs": [],
   "source": [
    "age = 50"
   ]
  },
  {
   "cell_type": "code",
   "execution_count": 4,
   "id": "fd62e11f-ffc4-4816-82a0-656501015270",
   "metadata": {},
   "outputs": [
    {
     "data": {
      "text/plain": [
       "50"
      ]
     },
     "execution_count": 4,
     "metadata": {},
     "output_type": "execute_result"
    }
   ],
   "source": [
    "age "
   ]
  },
  {
   "cell_type": "code",
   "execution_count": 5,
   "id": "36b1d3b2-54df-46d1-9379-37c07494ecf8",
   "metadata": {},
   "outputs": [
    {
     "data": {
      "text/plain": [
       "250"
      ]
     },
     "execution_count": 5,
     "metadata": {},
     "output_type": "execute_result"
    }
   ],
   "source": [
    "age * 5"
   ]
  },
  {
   "cell_type": "code",
   "execution_count": 6,
   "id": "ba1912b1-ac2d-4fc5-a4d7-744c3c3411b2",
   "metadata": {},
   "outputs": [
    {
     "data": {
      "text/plain": [
       "25.0"
      ]
     },
     "execution_count": 6,
     "metadata": {},
     "output_type": "execute_result"
    }
   ],
   "source": [
    "age / 2"
   ]
  },
  {
   "cell_type": "code",
   "execution_count": 7,
   "id": "66a89bdc-cf87-4535-b229-116dec634261",
   "metadata": {},
   "outputs": [],
   "source": [
    "# aget * 3 --> \"NameError: name 'aget' is not defined\""
   ]
  },
  {
   "cell_type": "markdown",
   "id": "62136954-db87-48ed-ba51-be6660a1ccc8",
   "metadata": {},
   "source": [
    "# GÜN #2 - Numbers"
   ]
  },
  {
   "cell_type": "code",
   "execution_count": 8,
   "id": "22a21e7c-1d50-491f-9423-89b79e19f4c4",
   "metadata": {},
   "outputs": [],
   "source": [
    "# data type"
   ]
  },
  {
   "cell_type": "code",
   "execution_count": 11,
   "id": "2ee64929-288e-44d9-8743-72bda6b99d69",
   "metadata": {},
   "outputs": [
    {
     "data": {
      "text/plain": [
       "int"
      ]
     },
     "execution_count": 11,
     "metadata": {},
     "output_type": "execute_result"
    }
   ],
   "source": [
    "type(10 * 3)"
   ]
  },
  {
   "cell_type": "code",
   "execution_count": 12,
   "id": "e33172a2-332f-4436-bde9-0bd7aab8d801",
   "metadata": {},
   "outputs": [
    {
     "data": {
      "text/plain": [
       "int"
      ]
     },
     "execution_count": 12,
     "metadata": {},
     "output_type": "execute_result"
    }
   ],
   "source": [
    "type(age * 5)"
   ]
  },
  {
   "cell_type": "code",
   "execution_count": 13,
   "id": "c888808d-2c86-45d5-9343-de21c451c1ff",
   "metadata": {},
   "outputs": [],
   "source": [
    "# int -> integer"
   ]
  },
  {
   "cell_type": "code",
   "execution_count": 14,
   "id": "50f8cc8e-de22-4b93-ae2f-fddcf43bd0dc",
   "metadata": {},
   "outputs": [
    {
     "data": {
      "text/plain": [
       "float"
      ]
     },
     "execution_count": 14,
     "metadata": {},
     "output_type": "execute_result"
    }
   ],
   "source": [
    "type(3.14)"
   ]
  },
  {
   "cell_type": "code",
   "execution_count": 15,
   "id": "8fb6754a-13ad-488e-a40c-12f38f56dcd2",
   "metadata": {},
   "outputs": [],
   "source": [
    "# float -> floating point"
   ]
  },
  {
   "cell_type": "code",
   "execution_count": 16,
   "id": "6fb9629c-1466-4eaa-b73f-a76b7cbd00e9",
   "metadata": {},
   "outputs": [],
   "source": [
    "pi = 3.14"
   ]
  },
  {
   "cell_type": "code",
   "execution_count": 17,
   "id": "7a7c4786-5f5f-4b68-bbeb-534b0f1c288d",
   "metadata": {},
   "outputs": [
    {
     "data": {
      "text/plain": [
       "6.28"
      ]
     },
     "execution_count": 17,
     "metadata": {},
     "output_type": "execute_result"
    }
   ],
   "source": [
    "pi * 2"
   ]
  },
  {
   "cell_type": "code",
   "execution_count": 18,
   "id": "bc3da365-b678-4e6a-b68b-028c2b0f8b3d",
   "metadata": {},
   "outputs": [],
   "source": [
    "x = -100"
   ]
  },
  {
   "cell_type": "code",
   "execution_count": 19,
   "id": "419962f7-e635-4647-889f-b781458d2200",
   "metadata": {},
   "outputs": [
    {
     "data": {
      "text/plain": [
       "-96.86"
      ]
     },
     "execution_count": 19,
     "metadata": {},
     "output_type": "execute_result"
    }
   ],
   "source": [
    "x + pi"
   ]
  },
  {
   "cell_type": "code",
   "execution_count": 20,
   "id": "17e5555a-e4dc-4aef-a189-1b6baf61b2ea",
   "metadata": {},
   "outputs": [
    {
     "data": {
      "text/plain": [
       "-31.84713375796178"
      ]
     },
     "execution_count": 20,
     "metadata": {},
     "output_type": "execute_result"
    }
   ],
   "source": [
    "x / pi"
   ]
  },
  {
   "cell_type": "code",
   "execution_count": 21,
   "id": "7b8e0826-e254-4d30-8bc0-d84a69d33523",
   "metadata": {},
   "outputs": [],
   "source": [
    " myFloat = 1.232432"
   ]
  },
  {
   "cell_type": "code",
   "execution_count": 22,
   "id": "c15a247e-aa7f-490f-9ed3-291c7653008b",
   "metadata": {},
   "outputs": [
    {
     "data": {
      "text/plain": [
       "float"
      ]
     },
     "execution_count": 22,
     "metadata": {},
     "output_type": "execute_result"
    }
   ],
   "source": [
    " type(myFloat)"
   ]
  },
  {
   "cell_type": "code",
   "execution_count": 23,
   "id": "bf6b0289-2481-4e6f-90ca-a23cb383c884",
   "metadata": {},
   "outputs": [],
   "source": [
    "# camelCase\n",
    "# snake_case"
   ]
  },
  {
   "cell_type": "code",
   "execution_count": 24,
   "id": "9ef7f301-e42e-496d-8d9e-16bdc585dae5",
   "metadata": {},
   "outputs": [
    {
     "data": {
      "text/plain": [
       "10.0"
      ]
     },
     "execution_count": 24,
     "metadata": {},
     "output_type": "execute_result"
    }
   ],
   "source": [
    "40 / 4"
   ]
  },
  {
   "cell_type": "code",
   "execution_count": 25,
   "id": "f30e7555-4c1b-41b1-b2a9-0f46b12af022",
   "metadata": {},
   "outputs": [
    {
     "data": {
      "text/plain": [
       "float"
      ]
     },
     "execution_count": 25,
     "metadata": {},
     "output_type": "execute_result"
    }
   ],
   "source": [
    "type (40 / 4)"
   ]
  },
  {
   "cell_type": "code",
   "execution_count": 28,
   "id": "6177f3e4-7f49-411a-a4e6-205cd8addacf",
   "metadata": {},
   "outputs": [],
   "source": [
    "# İki tamsayının bölünmesi durumunda sonucun kesirli çıkma ihtimali daha yüksek olduğu için veri tipi float olarak çıkar."
   ]
  },
  {
   "cell_type": "code",
   "execution_count": 27,
   "id": "62d36720-6fd2-4b09-b159-6bfee6052024",
   "metadata": {},
   "outputs": [
    {
     "data": {
      "text/plain": [
       "4.444444444444445"
      ]
     },
     "execution_count": 27,
     "metadata": {},
     "output_type": "execute_result"
    }
   ],
   "source": [
    "40 / 9"
   ]
  },
  {
   "cell_type": "code",
   "execution_count": 29,
   "id": "4e2dbffd-80e8-4174-b437-153226ea9210",
   "metadata": {},
   "outputs": [
    {
     "data": {
      "text/plain": [
       "int"
      ]
     },
     "execution_count": 29,
     "metadata": {},
     "output_type": "execute_result"
    }
   ],
   "source": [
    "type(4)"
   ]
  },
  {
   "cell_type": "code",
   "execution_count": 30,
   "id": "51009baa-9ee7-4205-a1b4-b871b745ae0b",
   "metadata": {},
   "outputs": [
    {
     "data": {
      "text/plain": [
       "float"
      ]
     },
     "execution_count": 30,
     "metadata": {},
     "output_type": "execute_result"
    }
   ],
   "source": [
    "type(4.0)"
   ]
  },
  {
   "cell_type": "code",
   "execution_count": 31,
   "id": "d206cb6b-3446-4f66-a3ac-89ed91e24548",
   "metadata": {},
   "outputs": [
    {
     "data": {
      "text/plain": [
       "8"
      ]
     },
     "execution_count": 31,
     "metadata": {},
     "output_type": "execute_result"
    }
   ],
   "source": [
    "4 * 2"
   ]
  },
  {
   "cell_type": "code",
   "execution_count": 32,
   "id": "2c1601b7-b3b9-415b-94e7-644322f77e99",
   "metadata": {},
   "outputs": [
    {
     "data": {
      "text/plain": [
       "8"
      ]
     },
     "execution_count": 32,
     "metadata": {},
     "output_type": "execute_result"
    }
   ],
   "source": [
    "4 * 2"
   ]
  },
  {
   "cell_type": "code",
   "execution_count": 33,
   "id": "49f7f785-ed20-4ef8-b819-7fcc8bf3b06d",
   "metadata": {},
   "outputs": [
    {
     "data": {
      "text/plain": [
       "6"
      ]
     },
     "execution_count": 33,
     "metadata": {},
     "output_type": "execute_result"
    }
   ],
   "source": [
    "4 + 2"
   ]
  },
  {
   "cell_type": "code",
   "execution_count": 34,
   "id": "98b0a38f-8f0c-4b5c-ae40-df373200bbe5",
   "metadata": {},
   "outputs": [
    {
     "data": {
      "text/plain": [
       "2"
      ]
     },
     "execution_count": 34,
     "metadata": {},
     "output_type": "execute_result"
    }
   ],
   "source": [
    "4 - 2"
   ]
  },
  {
   "cell_type": "code",
   "execution_count": 35,
   "id": "b0082c6d-0163-446e-b40f-5f3ccf0a238c",
   "metadata": {},
   "outputs": [
    {
     "data": {
      "text/plain": [
       "2.0"
      ]
     },
     "execution_count": 35,
     "metadata": {},
     "output_type": "execute_result"
    }
   ],
   "source": [
    "4.0 - 2"
   ]
  },
  {
   "cell_type": "code",
   "execution_count": 36,
   "id": "4eec1caa-5d20-481c-996d-e74a081b3825",
   "metadata": {},
   "outputs": [
    {
     "data": {
      "text/plain": [
       "float"
      ]
     },
     "execution_count": 36,
     "metadata": {},
     "output_type": "execute_result"
    }
   ],
   "source": [
    "type(4.5 - 2)"
   ]
  },
  {
   "cell_type": "code",
   "execution_count": 37,
   "id": "5b40aaa8-35e1-4719-a9b6-f879d2082cc9",
   "metadata": {},
   "outputs": [
    {
     "data": {
      "text/plain": [
       "32"
      ]
     },
     "execution_count": 37,
     "metadata": {},
     "output_type": "execute_result"
    }
   ],
   "source": [
    "2 ** 5"
   ]
  },
  {
   "cell_type": "code",
   "execution_count": 38,
   "id": "2b7850cb-0746-4009-846e-028c149ecaab",
   "metadata": {},
   "outputs": [
    {
     "data": {
      "text/plain": [
       "0"
      ]
     },
     "execution_count": 38,
     "metadata": {},
     "output_type": "execute_result"
    }
   ],
   "source": [
    "10 % 5"
   ]
  }
 ],
 "metadata": {
  "kernelspec": {
   "display_name": "Python [conda env:base] *",
   "language": "python",
   "name": "conda-base-py"
  },
  "language_info": {
   "codemirror_mode": {
    "name": "ipython",
    "version": 3
   },
   "file_extension": ".py",
   "mimetype": "text/x-python",
   "name": "python",
   "nbconvert_exporter": "python",
   "pygments_lexer": "ipython3",
   "version": "3.13.5"
  }
 },
 "nbformat": 4,
 "nbformat_minor": 5
}

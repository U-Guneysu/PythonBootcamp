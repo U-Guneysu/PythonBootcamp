{
 "cells": [
  {
   "cell_type": "code",
   "execution_count": 1,
   "id": "b4404052-6ec9-4522-8a25-8d743864b5b3",
   "metadata": {},
   "outputs": [],
   "source": [
    "def divideNumber(number):\n",
    "    return number / 2"
   ]
  },
  {
   "cell_type": "code",
   "execution_count": 2,
   "id": "d47a18ad-76c9-40b7-a7a1-8f262f6dd45a",
   "metadata": {},
   "outputs": [
    {
     "data": {
      "text/plain": [
       "10.0"
      ]
     },
     "execution_count": 2,
     "metadata": {},
     "output_type": "execute_result"
    }
   ],
   "source": [
    "divideNumber(20)"
   ]
  },
  {
   "cell_type": "code",
   "execution_count": 3,
   "id": "126b71ac-86f3-4a16-a615-19a34fc4353b",
   "metadata": {},
   "outputs": [],
   "source": [
    "myList = [3,5,7,10,20,30]"
   ]
  },
  {
   "cell_type": "code",
   "execution_count": 5,
   "id": "d01628f5-7f85-4566-9ffe-0347af879a12",
   "metadata": {},
   "outputs": [],
   "source": [
    "#Amaç: divideNumber fonksiyonunu kullanarak myList içerisindeki değerleri ikiye böl daha sonra çıkan sonuçları yeni bir listeye koy"
   ]
  },
  {
   "cell_type": "code",
   "execution_count": 16,
   "id": "9d702be4-6f0d-483f-a5bd-6be06a0438ad",
   "metadata": {},
   "outputs": [
    {
     "data": {
      "text/plain": [
       "[3, 5, 7, 10, 20, 30]"
      ]
     },
     "execution_count": 16,
     "metadata": {},
     "output_type": "execute_result"
    }
   ],
   "source": [
    "myList"
   ]
  },
  {
   "cell_type": "code",
   "execution_count": 29,
   "id": "23f44274-0093-4886-a010-dd91f3023060",
   "metadata": {},
   "outputs": [],
   "source": [
    "myResultList = []"
   ]
  },
  {
   "cell_type": "code",
   "execution_count": 30,
   "id": "3868c727-c8b3-4c5b-8e24-985492be98f3",
   "metadata": {},
   "outputs": [],
   "source": [
    "for number in myList:\n",
    "    myResultList.append(divideNumber(number))\n",
    "    "
   ]
  },
  {
   "cell_type": "code",
   "execution_count": 31,
   "id": "9faff62d-d0b2-4cec-9d98-49d78d423e96",
   "metadata": {},
   "outputs": [
    {
     "data": {
      "text/plain": [
       "[1.5, 2.5, 3.5, 5.0, 10.0, 15.0]"
      ]
     },
     "execution_count": 31,
     "metadata": {},
     "output_type": "execute_result"
    }
   ],
   "source": [
    "myResultList"
   ]
  },
  {
   "cell_type": "code",
   "execution_count": null,
   "id": "81960f76-f162-47cb-87ae-18f4023df638",
   "metadata": {},
   "outputs": [],
   "source": [
    "# VEYA"
   ]
  },
  {
   "cell_type": "code",
   "execution_count": 37,
   "id": "90ced0c8-1bae-4730-a1bf-b6460b35d7f0",
   "metadata": {},
   "outputs": [],
   "source": [
    "myResultList = [divideNumber(number) for number in myList]"
   ]
  },
  {
   "cell_type": "markdown",
   "id": "2591127c-d638-4be8-a9a2-bb7634f4061a",
   "metadata": {},
   "source": [
    "### myResultList = [yapilacak_islem for eleman in liste]"
   ]
  },
  {
   "cell_type": "code",
   "execution_count": 38,
   "id": "708ee98e-c2af-41f7-bafd-6af675132af6",
   "metadata": {},
   "outputs": [
    {
     "data": {
      "text/plain": [
       "[1.5, 2.5, 3.5, 5.0, 10.0, 15.0]"
      ]
     },
     "execution_count": 38,
     "metadata": {},
     "output_type": "execute_result"
    }
   ],
   "source": [
    "myResultList"
   ]
  },
  {
   "cell_type": "markdown",
   "id": "97f48b55-d507-4810-8d57-e3b928716dbd",
   "metadata": {},
   "source": [
    "# MAP\n",
    "* Bir listedeki veya koleksiyondaki her elemana belirli bir fonksiyon uygular ve sonuçları yeni bir liste olarak döndürür."
   ]
  },
  {
   "cell_type": "code",
   "execution_count": 39,
   "id": "f0217d4c-e3d0-4b4d-bead-2ae7a9da23c9",
   "metadata": {},
   "outputs": [
    {
     "name": "stdout",
     "output_type": "stream",
     "text": [
      "Help on class map in module builtins:\n",
      "\n",
      "class map(object)\n",
      " |  map(function, iterable, /, *iterables)\n",
      " |\n",
      " |  Make an iterator that computes the function using arguments from\n",
      " |  each of the iterables.  Stops when the shortest iterable is exhausted.\n",
      " |\n",
      " |  Methods defined here:\n",
      " |\n",
      " |  __getattribute__(self, name, /)\n",
      " |      Return getattr(self, name).\n",
      " |\n",
      " |  __iter__(self, /)\n",
      " |      Implement iter(self).\n",
      " |\n",
      " |  __next__(self, /)\n",
      " |      Implement next(self).\n",
      " |\n",
      " |  __reduce__(self, /)\n",
      " |      Return state information for pickling.\n",
      " |\n",
      " |  ----------------------------------------------------------------------\n",
      " |  Static methods defined here:\n",
      " |\n",
      " |  __new__(*args, **kwargs)\n",
      " |      Create and return a new object.  See help(type) for accurate signature.\n",
      "\n"
     ]
    }
   ],
   "source": [
    "help(map)"
   ]
  },
  {
   "cell_type": "code",
   "execution_count": 40,
   "id": "a04985a5-8c1e-400e-a1aa-fb29f441ca2f",
   "metadata": {},
   "outputs": [
    {
     "data": {
      "text/plain": [
       "<map at 0x1f9a735fe80>"
      ]
     },
     "execution_count": 40,
     "metadata": {},
     "output_type": "execute_result"
    }
   ],
   "source": [
    "map(divideNumber,myList)"
   ]
  },
  {
   "cell_type": "code",
   "execution_count": 41,
   "id": "6bb5d09c-49ff-4a75-86f3-8527cad0281a",
   "metadata": {},
   "outputs": [
    {
     "data": {
      "text/plain": [
       "[1.5, 2.5, 3.5, 5.0, 10.0, 15.0]"
      ]
     },
     "execution_count": 41,
     "metadata": {},
     "output_type": "execute_result"
    }
   ],
   "source": [
    "list(map(divideNumber,myList))"
   ]
  },
  {
   "cell_type": "code",
   "execution_count": 9,
   "id": "b984417a-7a70-497d-bf28-5856d4af82e1",
   "metadata": {},
   "outputs": [],
   "source": [
    "def controlString(string):\n",
    "    return \"Umut\" in string"
   ]
  },
  {
   "cell_type": "code",
   "execution_count": 10,
   "id": "7785e3f7-4ac8-4ca5-94f8-8981b6b3c0f4",
   "metadata": {},
   "outputs": [
    {
     "data": {
      "text/plain": [
       "False"
      ]
     },
     "execution_count": 10,
     "metadata": {},
     "output_type": "execute_result"
    }
   ],
   "source": [
    "controlString(\"DenemeMetni\")"
   ]
  },
  {
   "cell_type": "code",
   "execution_count": 11,
   "id": "e45b93cf-18ae-4490-9f26-78665b58217c",
   "metadata": {},
   "outputs": [
    {
     "data": {
      "text/plain": [
       "True"
      ]
     },
     "execution_count": 11,
     "metadata": {},
     "output_type": "execute_result"
    }
   ],
   "source": [
    "controlString(\"Umut\")"
   ]
  },
  {
   "cell_type": "code",
   "execution_count": 12,
   "id": "da3da468-4130-4fc9-b8cf-e9ec92f37e8a",
   "metadata": {},
   "outputs": [],
   "source": [
    "myStringList = [\"Umut\", \"Atıl\", \"Ahmet\", \"Mehmet\"]"
   ]
  },
  {
   "cell_type": "code",
   "execution_count": 13,
   "id": "6dae62f2-47cd-488f-96b4-4d87cafc08ed",
   "metadata": {},
   "outputs": [
    {
     "data": {
      "text/plain": [
       "[True, False, False, False]"
      ]
     },
     "execution_count": 13,
     "metadata": {},
     "output_type": "execute_result"
    }
   ],
   "source": [
    "list(map(controlString, myStringList))"
   ]
  },
  {
   "cell_type": "markdown",
   "id": "22051f5e-5f39-4004-94f4-a6063dce7e49",
   "metadata": {},
   "source": [
    "# Filter\n",
    "* Bir koşulu sağlayan (True döndüren) elemanları seçmek için kullanılır.\n",
    "* Bir listeyi filtreleyip sadece belirli kriterlere uyan öğeleri döndürür."
   ]
  },
  {
   "cell_type": "code",
   "execution_count": 14,
   "id": "5ce7fba6-658a-43e2-947f-8f61a926d059",
   "metadata": {},
   "outputs": [
    {
     "data": {
      "text/plain": [
       "['Umut']"
      ]
     },
     "execution_count": 14,
     "metadata": {},
     "output_type": "execute_result"
    }
   ],
   "source": [
    "list(filter(controlString,myStringList))"
   ]
  },
  {
   "cell_type": "markdown",
   "id": "875386bf-fde6-4358-b766-5d9403f0d532",
   "metadata": {},
   "source": [
    "# Lambda\n",
    "* Tek satırlık, ismi olmayan (anonim) bir fonksiyon tanımlamaya yarar.\n",
    "Yani küçük ve basit işlemler için def yazmadan fonksiyon oluşturmanı sağlar."
   ]
  },
  {
   "cell_type": "code",
   "execution_count": 15,
   "id": "adf1e21c-45b3-443a-a8e2-0c01ddfd0dbd",
   "metadata": {},
   "outputs": [],
   "source": [
    "multipleLambda = lambda num : num * 3"
   ]
  },
  {
   "cell_type": "code",
   "execution_count": 16,
   "id": "f52415f5-ebc9-4673-8cdd-2842c645b5d9",
   "metadata": {},
   "outputs": [
    {
     "data": {
      "text/plain": [
       "function"
      ]
     },
     "execution_count": 16,
     "metadata": {},
     "output_type": "execute_result"
    }
   ],
   "source": [
    "type(multipleLambda)"
   ]
  },
  {
   "cell_type": "code",
   "execution_count": 18,
   "id": "4694c988-1f84-42ed-b953-f2cab9f5746b",
   "metadata": {},
   "outputs": [
    {
     "data": {
      "text/plain": [
       "60"
      ]
     },
     "execution_count": 18,
     "metadata": {},
     "output_type": "execute_result"
    }
   ],
   "source": [
    "multipleLambda(20)"
   ]
  },
  {
   "cell_type": "code",
   "execution_count": 19,
   "id": "39563013-9028-44d2-b7db-37eb709cf3ed",
   "metadata": {},
   "outputs": [],
   "source": [
    "result = multipleLambda(10)"
   ]
  },
  {
   "cell_type": "code",
   "execution_count": 20,
   "id": "9a605e3d-8792-4008-8189-c28596aaf12f",
   "metadata": {},
   "outputs": [
    {
     "data": {
      "text/plain": [
       "30"
      ]
     },
     "execution_count": 20,
     "metadata": {},
     "output_type": "execute_result"
    }
   ],
   "source": [
    "result"
   ]
  },
  {
   "cell_type": "code",
   "execution_count": 29,
   "id": "e702fd66-9c86-4f17-9a0a-f5da350153b9",
   "metadata": {},
   "outputs": [],
   "source": [
    "numList = list(range(10,60,10)) "
   ]
  },
  {
   "cell_type": "code",
   "execution_count": 30,
   "id": "ccc0b8d7-7c76-4b29-8ca9-82a14ae0a0ad",
   "metadata": {},
   "outputs": [
    {
     "data": {
      "text/plain": [
       "[10, 20, 30, 40, 50]"
      ]
     },
     "execution_count": 30,
     "metadata": {},
     "output_type": "execute_result"
    }
   ],
   "source": [
    "numList"
   ]
  },
  {
   "cell_type": "code",
   "execution_count": 33,
   "id": "44716f19-56e9-48fa-b747-ca0f13474f83",
   "metadata": {},
   "outputs": [
    {
     "data": {
      "text/plain": [
       "[30, 60, 90, 120, 150]"
      ]
     },
     "execution_count": 33,
     "metadata": {},
     "output_type": "execute_result"
    }
   ],
   "source": [
    "list(map(multipleLambda,numList)) # => Listedeki tüm elemanları tek satırda üçle çarpmak için kullanılır."
   ]
  },
  {
   "cell_type": "code",
   "execution_count": 34,
   "id": "2cbc00b2-3097-4120-8eae-35b0fc120bd4",
   "metadata": {},
   "outputs": [],
   "source": [
    "# Anonim fonksiyon örneği"
   ]
  },
  {
   "cell_type": "code",
   "execution_count": 35,
   "id": "a1edc1cb-fedc-40ff-add1-84505f3aa8b1",
   "metadata": {},
   "outputs": [
    {
     "data": {
      "text/plain": [
       "[10, 20, 30, 40, 50]"
      ]
     },
     "execution_count": 35,
     "metadata": {},
     "output_type": "execute_result"
    }
   ],
   "source": [
    "numList"
   ]
  },
  {
   "cell_type": "code",
   "execution_count": 36,
   "id": "c520ce66-c34c-428f-a71a-0ff7563c8587",
   "metadata": {},
   "outputs": [
    {
     "data": {
      "text/plain": [
       "[2.5, 5.0, 7.5, 10.0, 12.5]"
      ]
     },
     "execution_count": 36,
     "metadata": {},
     "output_type": "execute_result"
    }
   ],
   "source": [
    "list(map(lambda num : num/4 ,numList))"
   ]
  },
  {
   "cell_type": "markdown",
   "id": "df9a8a4f-e667-41cc-ad71-7fcf69106922",
   "metadata": {},
   "source": [
    "* **map()** fonksiyonu, listedeki her elemana verilen fonksiyonu uygular.\n",
    "* **lambda num : num / 4** ifadesi, her elemanı 4’e bölen küçük (anonim) bir fonksiyondur.\n",
    "* list(...) ise bu işlemin sonucunu yeni bir listeye dönüştürür."
   ]
  },
  {
   "cell_type": "markdown",
   "id": "86072cf0-f47b-41e8-97c9-fda349d2b1ab",
   "metadata": {},
   "source": [
    "---------------------------------------------------------\n",
    "# Kapsama Giriş (scope)"
   ]
  },
  {
   "cell_type": "code",
   "execution_count": 37,
   "id": "a3ef4fc6-0ec2-4e3c-833a-df8e9bfcdc2e",
   "metadata": {},
   "outputs": [],
   "source": [
    "x = 20\n",
    "\n",
    "def multiply(num):\n",
    "    x = 5\n",
    "    return num * x"
   ]
  },
  {
   "cell_type": "code",
   "execution_count": 38,
   "id": "9adfb857-df06-4ec1-8606-6a7e4e1088f1",
   "metadata": {},
   "outputs": [
    {
     "data": {
      "text/plain": [
       "50"
      ]
     },
     "execution_count": 38,
     "metadata": {},
     "output_type": "execute_result"
    }
   ],
   "source": [
    "multiply(10)"
   ]
  },
  {
   "cell_type": "code",
   "execution_count": 39,
   "id": "9c55b330-0ef8-4b63-ab7e-abbad574c346",
   "metadata": {},
   "outputs": [
    {
     "name": "stdout",
     "output_type": "stream",
     "text": [
      "20\n"
     ]
    }
   ],
   "source": [
    "print(x)"
   ]
  },
  {
   "cell_type": "code",
   "execution_count": 40,
   "id": "8b35d750-984b-464d-9d93-d87a784b9155",
   "metadata": {},
   "outputs": [],
   "source": [
    "a = 10"
   ]
  },
  {
   "cell_type": "code",
   "execution_count": 41,
   "id": "f77079ef-33cf-4577-83a1-9917a5824642",
   "metadata": {},
   "outputs": [
    {
     "data": {
      "text/plain": [
       "10"
      ]
     },
     "execution_count": 41,
     "metadata": {},
     "output_type": "execute_result"
    }
   ],
   "source": [
    "a"
   ]
  },
  {
   "cell_type": "code",
   "execution_count": 42,
   "id": "bebfd116-3360-4072-a1aa-420cd13554ce",
   "metadata": {},
   "outputs": [],
   "source": [
    "a = 20"
   ]
  },
  {
   "cell_type": "code",
   "execution_count": 43,
   "id": "e6fe4525-b91c-46bb-b52c-3567db17170c",
   "metadata": {},
   "outputs": [
    {
     "data": {
      "text/plain": [
       "20"
      ]
     },
     "execution_count": 43,
     "metadata": {},
     "output_type": "execute_result"
    }
   ],
   "source": [
    "a"
   ]
  },
  {
   "cell_type": "code",
   "execution_count": 44,
   "id": "4ad519d8-dab8-41c6-84f0-19c92443223f",
   "metadata": {},
   "outputs": [],
   "source": [
    "x = 20\n",
    "\n",
    "def multiply(num):\n",
    "    x = 5\n",
    "    return num * x\n",
    "\n",
    "x = 10"
   ]
  },
  {
   "cell_type": "code",
   "execution_count": 45,
   "id": "10642a48-8a86-4243-aaf1-b591fc5e8d54",
   "metadata": {},
   "outputs": [
    {
     "data": {
      "text/plain": [
       "10"
      ]
     },
     "execution_count": 45,
     "metadata": {},
     "output_type": "execute_result"
    }
   ],
   "source": [
    "x"
   ]
  },
  {
   "cell_type": "code",
   "execution_count": 46,
   "id": "2f514b91-e39a-47ca-8210-6a6213e1d65d",
   "metadata": {},
   "outputs": [
    {
     "data": {
      "text/plain": [
       "15"
      ]
     },
     "execution_count": 46,
     "metadata": {},
     "output_type": "execute_result"
    }
   ],
   "source": [
    "multiply(3)"
   ]
  },
  {
   "cell_type": "code",
   "execution_count": 48,
   "id": "c2a00d8e-ace6-4e9c-841e-30c0cf3fd47f",
   "metadata": {},
   "outputs": [],
   "source": [
    "x = 20\n",
    "\n",
    "def multiply(num):\n",
    "    return num * x"
   ]
  },
  {
   "cell_type": "code",
   "execution_count": 49,
   "id": "576b60d8-0f9e-43b7-976b-f33431236752",
   "metadata": {},
   "outputs": [
    {
     "data": {
      "text/plain": [
       "40"
      ]
     },
     "execution_count": 49,
     "metadata": {},
     "output_type": "execute_result"
    }
   ],
   "source": [
    "multiply(2)"
   ]
  },
  {
   "cell_type": "markdown",
   "id": "171ac97f-eb4a-4396-b5ba-9b729e691525",
   "metadata": {},
   "source": [
    "# LEGB -> L:Local, E:Enclosing, G:Global, B:Built-In"
   ]
  },
  {
   "cell_type": "code",
   "execution_count": 83,
   "id": "454b2152-c07a-4353-be3e-8fd015574974",
   "metadata": {},
   "outputs": [],
   "source": [
    "#Global\n",
    "myString = \"Umut\"\n",
    "\n",
    "def myFunction():\n",
    "    #Enclosing\n",
    "    myString = \"Atıl\"\n",
    "    print(myString)\n",
    "\n",
    "    def myFunction2():\n",
    "        #Local\n",
    "        myString = \"Atıl3\"\n",
    "        print(myString)\n",
    "\n",
    "    myFunction2()"
   ]
  },
  {
   "cell_type": "code",
   "execution_count": 84,
   "id": "c54143f9-51aa-41fb-b46c-5a741eda0147",
   "metadata": {},
   "outputs": [
    {
     "data": {
      "text/plain": [
       "'Umut'"
      ]
     },
     "execution_count": 84,
     "metadata": {},
     "output_type": "execute_result"
    }
   ],
   "source": [
    "myString"
   ]
  },
  {
   "cell_type": "code",
   "execution_count": 85,
   "id": "13522e62-d750-4d6b-81eb-04813d8a98d8",
   "metadata": {},
   "outputs": [
    {
     "name": "stdout",
     "output_type": "stream",
     "text": [
      "Umut\n",
      "Umut\n"
     ]
    }
   ],
   "source": [
    "myFunction()"
   ]
  },
  {
   "cell_type": "code",
   "execution_count": 86,
   "id": "885aec6f-410c-4978-86ff-a2353719482b",
   "metadata": {},
   "outputs": [
    {
     "data": {
      "text/plain": [
       "'Umut'"
      ]
     },
     "execution_count": 86,
     "metadata": {},
     "output_type": "execute_result"
    }
   ],
   "source": [
    "myString"
   ]
  },
  {
   "cell_type": "markdown",
   "id": "2426a385-0cdb-4df8-81cc-1a30b8a4ed97",
   "metadata": {},
   "source": [
    "# -"
   ]
  },
  {
   "cell_type": "code",
   "execution_count": 92,
   "id": "584a135c-1dc3-46f4-84d3-fe9d8df82df8",
   "metadata": {},
   "outputs": [],
   "source": [
    "def test1():\n",
    "    myVariable = 10\n",
    "    print(myVariable * 2)\n",
    "\n",
    "def test2():\n",
    "    print(myVariable * 2)"
   ]
  },
  {
   "cell_type": "code",
   "execution_count": 91,
   "id": "54dad130-c96d-4a3f-8c8c-36e2342c5192",
   "metadata": {},
   "outputs": [
    {
     "ename": "NameError",
     "evalue": "name 'myVariable' is not defined",
     "output_type": "error",
     "traceback": [
      "\u001b[1;31m---------------------------------------------------------------------------\u001b[0m",
      "\u001b[1;31mNameError\u001b[0m                                 Traceback (most recent call last)",
      "Cell \u001b[1;32mIn[91], line 1\u001b[0m\n\u001b[1;32m----> 1\u001b[0m test2()\n",
      "Cell \u001b[1;32mIn[90], line 2\u001b[0m, in \u001b[0;36mtest2\u001b[1;34m()\u001b[0m\n\u001b[0;32m      1\u001b[0m \u001b[38;5;28;01mdef\u001b[39;00m\u001b[38;5;250m \u001b[39m\u001b[38;5;21mtest2\u001b[39m():\n\u001b[1;32m----> 2\u001b[0m     \u001b[38;5;28mprint\u001b[39m(myVariable \u001b[38;5;241m*\u001b[39m \u001b[38;5;241m2\u001b[39m)\n",
      "\u001b[1;31mNameError\u001b[0m: name 'myVariable' is not defined"
     ]
    }
   ],
   "source": [
    "test2()  # NameError: name 'myVariable' is not defined (myVariable, kapsam alanı dışında olduğu için test2 fonksiyonu içinde tanınmaz.))"
   ]
  },
  {
   "cell_type": "code",
   "execution_count": null,
   "id": "e45dee0e-58d7-4c9d-a554-3f07b966901c",
   "metadata": {},
   "outputs": [],
   "source": []
  },
  {
   "cell_type": "code",
   "execution_count": 96,
   "id": "6b06f526-394b-4f05-a971-94dbfb0ee140",
   "metadata": {},
   "outputs": [],
   "source": [
    "myVariable = 10\n",
    "\n",
    "def test1():\n",
    "    print(myVariable * 2)\n",
    "\n",
    "def test2():\n",
    "    print(myVariable * 2)"
   ]
  },
  {
   "cell_type": "code",
   "execution_count": 95,
   "id": "67981e01-8620-4993-8997-ce2b74a7947f",
   "metadata": {},
   "outputs": [
    {
     "name": "stdout",
     "output_type": "stream",
     "text": [
      "20\n"
     ]
    }
   ],
   "source": [
    "test2()  # myVariable global alanda tanımlandığı için test2 fonksiyonu bu değişkenin değerine erişip işlem yapabilir."
   ]
  },
  {
   "cell_type": "code",
   "execution_count": 97,
   "id": "1d523d39-d01e-462b-8c60-9fddc6d470fc",
   "metadata": {},
   "outputs": [],
   "source": [
    "y = 10 \n",
    "def newFunc(y):\n",
    "    print(y)\n",
    "    y = 5\n",
    "    print(y)\n",
    "    return y"
   ]
  },
  {
   "cell_type": "code",
   "execution_count": 98,
   "id": "69d5ee1c-ef46-4016-8293-25d77b668aee",
   "metadata": {},
   "outputs": [
    {
     "name": "stdout",
     "output_type": "stream",
     "text": [
      "10\n",
      "5\n"
     ]
    },
    {
     "data": {
      "text/plain": [
       "5"
      ]
     },
     "execution_count": 98,
     "metadata": {},
     "output_type": "execute_result"
    }
   ],
   "source": [
    "newFunc(10)"
   ]
  },
  {
   "cell_type": "code",
   "execution_count": 99,
   "id": "8ef34aa1-8e96-4b7c-a539-46d659b7a9d9",
   "metadata": {},
   "outputs": [
    {
     "data": {
      "text/plain": [
       "10"
      ]
     },
     "execution_count": 99,
     "metadata": {},
     "output_type": "execute_result"
    }
   ],
   "source": [
    "y"
   ]
  },
  {
   "cell_type": "code",
   "execution_count": null,
   "id": "8bba5fce-dc77-430b-b020-a171c59de92d",
   "metadata": {},
   "outputs": [],
   "source": []
  },
  {
   "cell_type": "code",
   "execution_count": 102,
   "id": "a6b987f0-732a-490a-a399-ab18fc6b9dcb",
   "metadata": {},
   "outputs": [],
   "source": [
    "y = 10\n",
    "\n",
    "def chanceY():\n",
    "    global y\n",
    "    y = 5\n",
    "    print(y)"
   ]
  },
  {
   "cell_type": "code",
   "execution_count": 103,
   "id": "6107a1db-53d9-46c2-89ce-e00c1cd15861",
   "metadata": {},
   "outputs": [
    {
     "data": {
      "text/plain": [
       "10"
      ]
     },
     "execution_count": 103,
     "metadata": {},
     "output_type": "execute_result"
    }
   ],
   "source": [
    "y"
   ]
  },
  {
   "cell_type": "code",
   "execution_count": 104,
   "id": "3b221670-9b65-4931-b478-2d1aac122585",
   "metadata": {},
   "outputs": [
    {
     "name": "stdout",
     "output_type": "stream",
     "text": [
      "5\n"
     ]
    }
   ],
   "source": [
    "chanceY()"
   ]
  }
 ],
 "metadata": {
  "kernelspec": {
   "display_name": "Python [conda env:base] *",
   "language": "python",
   "name": "conda-base-py"
  },
  "language_info": {
   "codemirror_mode": {
    "name": "ipython",
    "version": 3
   },
   "file_extension": ".py",
   "mimetype": "text/x-python",
   "name": "python",
   "nbconvert_exporter": "python",
   "pygments_lexer": "ipython3",
   "version": "3.13.5"
  }
 },
 "nbformat": 4,
 "nbformat_minor": 5
}

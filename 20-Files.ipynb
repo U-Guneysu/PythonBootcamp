{
 "cells": [
  {
   "cell_type": "code",
   "execution_count": 1,
   "id": "90c4db30-c2fe-4920-94db-0b179b7e5f13",
   "metadata": {},
   "outputs": [
    {
     "name": "stdout",
     "output_type": "stream",
     "text": [
      "Writing myfile.txt\n"
     ]
    }
   ],
   "source": [
    "%%writefile myfile.txt\n",
    "test 1 \n",
    "test 2\n",
    "test 3\n"
   ]
  },
  {
   "cell_type": "code",
   "execution_count": 2,
   "id": "0e4f1024-27db-4b10-8a81-a25dea85f38b",
   "metadata": {},
   "outputs": [],
   "source": [
    "#Hedef: myfile.txt dosyasını açmak"
   ]
  },
  {
   "cell_type": "markdown",
   "id": "44490547-2fd4-4374-a326-e1d82473ed9e",
   "metadata": {},
   "source": [
    "<h2>Zor Yolu</h2>"
   ]
  },
  {
   "cell_type": "code",
   "execution_count": 3,
   "id": "765b7af6-0f1a-4fe2-adb0-f06e29d303a2",
   "metadata": {},
   "outputs": [],
   "source": [
    "myFile = open(\"myfile.txt\")"
   ]
  },
  {
   "cell_type": "code",
   "execution_count": 4,
   "id": "64073733-a388-44ba-b49d-3d48df74d0dc",
   "metadata": {},
   "outputs": [
    {
     "data": {
      "text/plain": [
       "_io.TextIOWrapper"
      ]
     },
     "execution_count": 4,
     "metadata": {},
     "output_type": "execute_result"
    }
   ],
   "source": [
    "type(myFile) "
   ]
  },
  {
   "cell_type": "code",
   "execution_count": 5,
   "id": "4544a19c-26c7-4b6b-ae27-6a685d2172df",
   "metadata": {},
   "outputs": [],
   "source": [
    "#_io.TextIOWrapper, metin tabanlı dosyalar (text files) için kullanılan bir sarmalayıcı (wrapper) sınıfıdır."
   ]
  },
  {
   "cell_type": "code",
   "execution_count": 6,
   "id": "c19a6c99-3e7a-4b75-ab97-36697b2b7a51",
   "metadata": {},
   "outputs": [
    {
     "data": {
      "text/plain": [
       "'test 1 \\ntest 2\\ntest 3\\n'"
      ]
     },
     "execution_count": 6,
     "metadata": {},
     "output_type": "execute_result"
    }
   ],
   "source": [
    "myFile.read()"
   ]
  },
  {
   "cell_type": "code",
   "execution_count": 7,
   "id": "02c3533e-3c39-46a4-84fd-836731922892",
   "metadata": {},
   "outputs": [
    {
     "data": {
      "text/plain": [
       "''"
      ]
     },
     "execution_count": 7,
     "metadata": {},
     "output_type": "execute_result"
    }
   ],
   "source": [
    "myFile.read()"
   ]
  },
  {
   "cell_type": "code",
   "execution_count": 8,
   "id": "380a2826-4d2e-4b5e-b7a4-1912d5f6571b",
   "metadata": {},
   "outputs": [
    {
     "data": {
      "text/plain": [
       "0"
      ]
     },
     "execution_count": 8,
     "metadata": {},
     "output_type": "execute_result"
    }
   ],
   "source": [
    "myFile.seek(0)"
   ]
  },
  {
   "cell_type": "code",
   "execution_count": 9,
   "id": "5d519eb7-27f0-4934-b1b0-b24b65362c68",
   "metadata": {},
   "outputs": [
    {
     "data": {
      "text/plain": [
       "'test 1 \\ntest 2\\ntest 3\\n'"
      ]
     },
     "execution_count": 9,
     "metadata": {},
     "output_type": "execute_result"
    }
   ],
   "source": [
    "myFile.read()"
   ]
  },
  {
   "cell_type": "code",
   "execution_count": 10,
   "id": "74075288-ef34-4c2c-8f6f-21405465b15d",
   "metadata": {},
   "outputs": [
    {
     "data": {
      "text/plain": [
       "''"
      ]
     },
     "execution_count": 10,
     "metadata": {},
     "output_type": "execute_result"
    }
   ],
   "source": [
    "myFile.read()"
   ]
  },
  {
   "cell_type": "code",
   "execution_count": 11,
   "id": "944675c5-9315-4a81-b3b5-a01877f4d327",
   "metadata": {},
   "outputs": [
    {
     "data": {
      "text/plain": [
       "0"
      ]
     },
     "execution_count": 11,
     "metadata": {},
     "output_type": "execute_result"
    }
   ],
   "source": [
    "myFile.seek(0)"
   ]
  },
  {
   "cell_type": "code",
   "execution_count": 12,
   "id": "91ec86ec-a459-4502-8083-0987f799b787",
   "metadata": {},
   "outputs": [
    {
     "data": {
      "text/plain": [
       "'test 1 \\ntest 2\\ntest 3\\n'"
      ]
     },
     "execution_count": 12,
     "metadata": {},
     "output_type": "execute_result"
    }
   ],
   "source": [
    "myFile.read()"
   ]
  },
  {
   "cell_type": "code",
   "execution_count": 13,
   "id": "0304055b-8f54-4044-9a40-8ecfcea5f7bd",
   "metadata": {},
   "outputs": [],
   "source": [
    "myFile.close()"
   ]
  },
  {
   "cell_type": "markdown",
   "id": "2e47d219-056b-47ad-8571-b39c08a9d19b",
   "metadata": {},
   "source": [
    "<h1>Kolay Yolu</h2>"
   ]
  },
  {
   "cell_type": "code",
   "execution_count": 14,
   "id": "313f77a4-f63e-4e50-970f-bfc5d34ec313",
   "metadata": {},
   "outputs": [],
   "source": [
    "with open(\"myfile.txt\") as myFile:\n",
    "    myContent = myFile.read()"
   ]
  },
  {
   "cell_type": "code",
   "execution_count": 15,
   "id": "77340b3c-999c-4ddc-b3d2-1f55c970f3a4",
   "metadata": {},
   "outputs": [
    {
     "data": {
      "text/plain": [
       "'test 1 \\ntest 2\\ntest 3\\n'"
      ]
     },
     "execution_count": 15,
     "metadata": {},
     "output_type": "execute_result"
    }
   ],
   "source": [
    "myContent"
   ]
  },
  {
   "cell_type": "code",
   "execution_count": 16,
   "id": "4b86f241-0b72-463e-89eb-ba8c9b468a4c",
   "metadata": {},
   "outputs": [
    {
     "data": {
      "text/plain": [
       "'test 1 \\ntest 2\\ntest 3\\n'"
      ]
     },
     "execution_count": 16,
     "metadata": {},
     "output_type": "execute_result"
    }
   ],
   "source": [
    "myContent"
   ]
  },
  {
   "cell_type": "code",
   "execution_count": 17,
   "id": "769e386f-d464-4035-b864-265ea13d4093",
   "metadata": {},
   "outputs": [],
   "source": [
    "with open(\"myfile.txt\", mode=\"w\") as myNewFile:\n",
    "    myNewFile.write(\"test 4\")"
   ]
  },
  {
   "cell_type": "code",
   "execution_count": 18,
   "id": "2c888a03-fb0c-43f6-9a07-280959f3bb94",
   "metadata": {},
   "outputs": [
    {
     "data": {
      "text/plain": [
       "<_io.TextIOWrapper name='myfile.txt' mode='w' encoding='cp1254'>"
      ]
     },
     "execution_count": 18,
     "metadata": {},
     "output_type": "execute_result"
    }
   ],
   "source": [
    "myNewFile"
   ]
  },
  {
   "cell_type": "code",
   "execution_count": 20,
   "id": "e09ede92-38ea-4542-8113-536741e50be9",
   "metadata": {},
   "outputs": [],
   "source": [
    "with open(\"myfile.txt\", mode=\"r\") as myFile2:\n",
    "    myContent = myFile2.read()"
   ]
  },
  {
   "cell_type": "code",
   "execution_count": 21,
   "id": "035ef37b-b6ca-4f88-84ba-0bc5381ed358",
   "metadata": {},
   "outputs": [
    {
     "data": {
      "text/plain": [
       "'test 4'"
      ]
     },
     "execution_count": 21,
     "metadata": {},
     "output_type": "execute_result"
    }
   ],
   "source": [
    "myContent"
   ]
  },
  {
   "cell_type": "markdown",
   "id": "c5d343a5-4e6f-45e4-b781-820cbd4489c1",
   "metadata": {},
   "source": [
    "w -> write, r->read, a->append"
   ]
  },
  {
   "cell_type": "code",
   "execution_count": 22,
   "id": "366630cf-1433-44ab-9ef1-078126959041",
   "metadata": {},
   "outputs": [],
   "source": [
    "with open(\"myfile.txt\", mode=\"a\") as myNewFile3:\n",
    "    myNewFile3.write(\"test 5\")"
   ]
  },
  {
   "cell_type": "code",
   "execution_count": 23,
   "id": "c1676cb5-c4a2-480a-a4f8-f802f42da48a",
   "metadata": {},
   "outputs": [],
   "source": [
    "with open(\"myfile.txt\", mode=\"r\") as myFile4:\n",
    "    myContent = myFile4.read()"
   ]
  },
  {
   "cell_type": "code",
   "execution_count": 24,
   "id": "fc243404-fd50-4549-a49a-1dae9cedeb44",
   "metadata": {},
   "outputs": [
    {
     "data": {
      "text/plain": [
       "'test 4test 5'"
      ]
     },
     "execution_count": 24,
     "metadata": {},
     "output_type": "execute_result"
    }
   ],
   "source": [
    "myContent"
   ]
  }
 ],
 "metadata": {
  "kernelspec": {
   "display_name": "Python [conda env:base] *",
   "language": "python",
   "name": "conda-base-py"
  },
  "language_info": {
   "codemirror_mode": {
    "name": "ipython",
    "version": 3
   },
   "file_extension": ".py",
   "mimetype": "text/x-python",
   "name": "python",
   "nbconvert_exporter": "python",
   "pygments_lexer": "ipython3",
   "version": "3.13.5"
  }
 },
 "nbformat": 4,
 "nbformat_minor": 5
}

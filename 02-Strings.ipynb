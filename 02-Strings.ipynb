{
 "cells": [
  {
   "cell_type": "markdown",
   "id": "f49ca6e4-2358-436b-b540-30fce2102c79",
   "metadata": {},
   "source": [
    "\"Hello World\""
   ]
  },
  {
   "cell_type": "code",
   "execution_count": 3,
   "id": "9bb4cd44-06db-4b02-b534-aee069e050a8",
   "metadata": {},
   "outputs": [
    {
     "name": "stdout",
     "output_type": "stream",
     "text": [
      "hello python\n"
     ]
    }
   ],
   "source": [
    "print(\"hello python\")"
   ]
  },
  {
   "cell_type": "code",
   "execution_count": 4,
   "id": "4a6bb806-a80d-4511-9cdb-0028ae5c8d6f",
   "metadata": {},
   "outputs": [],
   "source": [
    "name = \"umut\""
   ]
  },
  {
   "cell_type": "code",
   "execution_count": 5,
   "id": "a2cdbf2c-ae4d-400c-b7bd-d7a75a6116d0",
   "metadata": {},
   "outputs": [
    {
     "data": {
      "text/plain": [
       "str"
      ]
     },
     "execution_count": 5,
     "metadata": {},
     "output_type": "execute_result"
    }
   ],
   "source": [
    "type(name)"
   ]
  },
  {
   "cell_type": "code",
   "execution_count": 6,
   "id": "640a66d1-c7c3-4493-9a77-fa17f68a4a96",
   "metadata": {},
   "outputs": [
    {
     "data": {
      "text/plain": [
       "'atil restaurant'"
      ]
     },
     "execution_count": 6,
     "metadata": {},
     "output_type": "execute_result"
    }
   ],
   "source": [
    "'atil restaurant'"
   ]
  },
  {
   "cell_type": "code",
   "execution_count": 7,
   "id": "5c8ce49e-630c-4cb4-acf9-d83e599b58bd",
   "metadata": {},
   "outputs": [
    {
     "data": {
      "text/plain": [
       "'atil restaurant'"
      ]
     },
     "execution_count": 7,
     "metadata": {},
     "output_type": "execute_result"
    }
   ],
   "source": [
    "\"atil restaurant\""
   ]
  },
  {
   "cell_type": "code",
   "execution_count": 8,
   "id": "dc3f133b-f0b9-41be-b602-9fea69050aa1",
   "metadata": {},
   "outputs": [],
   "source": [
    "name = \"umut guneysu\""
   ]
  },
  {
   "cell_type": "code",
   "execution_count": 11,
   "id": "1353831e-a873-4ddc-afe5-13737de206bf",
   "metadata": {},
   "outputs": [
    {
     "data": {
      "text/plain": [
       "'Umut guneysu'"
      ]
     },
     "execution_count": 11,
     "metadata": {},
     "output_type": "execute_result"
    }
   ],
   "source": [
    "name.capitalize() # İlk harfi büyük yazdı () -> Çalıştır demektir."
   ]
  },
  {
   "cell_type": "code",
   "execution_count": 12,
   "id": "8565cc83-f66b-4714-81de-7788f47e87ea",
   "metadata": {},
   "outputs": [],
   "source": [
    "x = 10"
   ]
  },
  {
   "cell_type": "code",
   "execution_count": 13,
   "id": "0fdca6ee-b549-4935-ab61-1c6c3b50489c",
   "metadata": {},
   "outputs": [
    {
     "name": "stdout",
     "output_type": "stream",
     "text": [
      "Help on built-in function count:\n",
      "\n",
      "count(sub[, start[, end]], /) method of builtins.str instance\n",
      "    Return the number of non-overlapping occurrences of substring sub in string S[start:end].\n",
      "\n",
      "    Optional arguments start and end are interpreted as in slice notation.\n",
      "\n"
     ]
    }
   ],
   "source": [
    "help(name.count)"
   ]
  },
  {
   "cell_type": "code",
   "execution_count": 14,
   "id": "2c0c6a53-b656-4f6f-93c4-da82fe8fc7c1",
   "metadata": {},
   "outputs": [
    {
     "data": {
      "text/plain": [
       "'UMUT GUNEYSU'"
      ]
     },
     "execution_count": 14,
     "metadata": {},
     "output_type": "execute_result"
    }
   ],
   "source": [
    "name.upper()"
   ]
  },
  {
   "cell_type": "code",
   "execution_count": 15,
   "id": "7123e7e2-8a0a-4398-8a5d-074799a481bd",
   "metadata": {},
   "outputs": [],
   "source": [
    "x = 10\n",
    "y = 5"
   ]
  },
  {
   "cell_type": "code",
   "execution_count": 16,
   "id": "177539ca-36ac-4053-af25-43ca9a015fa4",
   "metadata": {},
   "outputs": [
    {
     "data": {
      "text/plain": [
       "15"
      ]
     },
     "execution_count": 16,
     "metadata": {},
     "output_type": "execute_result"
    }
   ],
   "source": [
    "x + y "
   ]
  },
  {
   "cell_type": "code",
   "execution_count": 17,
   "id": "eed3b21b-1898-4fbf-b0b1-29c7aee1ecfb",
   "metadata": {},
   "outputs": [],
   "source": [
    "z = x + y"
   ]
  },
  {
   "cell_type": "code",
   "execution_count": 18,
   "id": "45934cdd-c71b-48ed-81d8-900137b62021",
   "metadata": {},
   "outputs": [
    {
     "data": {
      "text/plain": [
       "15"
      ]
     },
     "execution_count": 18,
     "metadata": {},
     "output_type": "execute_result"
    }
   ],
   "source": [
    "z "
   ]
  },
  {
   "cell_type": "code",
   "execution_count": 19,
   "id": "94769670-294b-414f-b41b-7e9a87491a20",
   "metadata": {},
   "outputs": [
    {
     "name": "stdout",
     "output_type": "stream",
     "text": [
      "UMUT GUNEYSU\n"
     ]
    }
   ],
   "source": [
    "print(name.upper())"
   ]
  },
  {
   "cell_type": "code",
   "execution_count": 20,
   "id": "e8d308ed-17ee-4546-b020-8dc6ace9f4e5",
   "metadata": {},
   "outputs": [],
   "source": [
    "upper = name.upper()"
   ]
  },
  {
   "cell_type": "code",
   "execution_count": 21,
   "id": "165f1e5b-1018-486c-b3d6-ba3279582422",
   "metadata": {},
   "outputs": [
    {
     "data": {
      "text/plain": [
       "'UMUT GUNEYSU'"
      ]
     },
     "execution_count": 21,
     "metadata": {},
     "output_type": "execute_result"
    }
   ],
   "source": [
    "upper"
   ]
  },
  {
   "cell_type": "code",
   "execution_count": 22,
   "id": "81ee6597-5fbd-4604-8f92-2fad489fc94c",
   "metadata": {},
   "outputs": [
    {
     "data": {
      "text/plain": [
       "12"
      ]
     },
     "execution_count": 22,
     "metadata": {},
     "output_type": "execute_result"
    }
   ],
   "source": [
    "len(name) #lenght"
   ]
  },
  {
   "cell_type": "markdown",
   "id": "1b5042cd-53bd-40cf-9be3-28e2c0449110",
   "metadata": {},
   "source": [
    "# Gün #3 - Index"
   ]
  },
  {
   "cell_type": "code",
   "execution_count": 2,
   "id": "cc54a639-435c-400f-9660-5f739133036e",
   "metadata": {},
   "outputs": [],
   "source": [
    "myString = \"hello python\""
   ]
  },
  {
   "cell_type": "code",
   "execution_count": 3,
   "id": "ebc2f032-fed0-4599-9359-c1004c140050",
   "metadata": {},
   "outputs": [
    {
     "data": {
      "text/plain": [
       "'o'"
      ]
     },
     "execution_count": 3,
     "metadata": {},
     "output_type": "execute_result"
    }
   ],
   "source": [
    " myString[4]"
   ]
  },
  {
   "cell_type": "code",
   "execution_count": 6,
   "id": "ea30bad0-5023-44c0-8856-cadb95c7ba51",
   "metadata": {},
   "outputs": [],
   "source": [
    "#myString[12] #->11 index var"
   ]
  },
  {
   "cell_type": "code",
   "execution_count": 5,
   "id": "8015abb0-9126-437b-8aee-4aa2cfd670d8",
   "metadata": {},
   "outputs": [],
   "source": [
    "#IndexError: string index out of range hatasını verdi"
   ]
  },
  {
   "cell_type": "code",
   "execution_count": 7,
   "id": "c8c81d30-4cbc-4f8c-9d70-2a535a2f4d0a",
   "metadata": {},
   "outputs": [
    {
     "data": {
      "text/plain": [
       "12"
      ]
     },
     "execution_count": 7,
     "metadata": {},
     "output_type": "execute_result"
    }
   ],
   "source": [
    "len(myString)"
   ]
  },
  {
   "cell_type": "code",
   "execution_count": 8,
   "id": "646a92e1-022a-40b1-92b9-b20e91c37ebd",
   "metadata": {},
   "outputs": [
    {
     "data": {
      "text/plain": [
       "11"
      ]
     },
     "execution_count": 8,
     "metadata": {},
     "output_type": "execute_result"
    }
   ],
   "source": [
    "len(myString) - 1"
   ]
  },
  {
   "cell_type": "markdown",
   "id": "f6d5fa58-58ff-4627-acb9-4021a44e33f4",
   "metadata": {},
   "source": [
    "## Index saymadan son harfi bulmak"
   ]
  },
  {
   "cell_type": "code",
   "execution_count": 9,
   "id": "a6bb690a-4772-4bb4-a972-7de9587514e4",
   "metadata": {},
   "outputs": [],
   "source": [
    "myName = \"james hetfield\""
   ]
  },
  {
   "cell_type": "code",
   "execution_count": 10,
   "id": "e302f2a8-8db1-4d40-b5b2-0fbf2edd4898",
   "metadata": {},
   "outputs": [
    {
     "data": {
      "text/plain": [
       "13"
      ]
     },
     "execution_count": 10,
     "metadata": {},
     "output_type": "execute_result"
    }
   ],
   "source": [
    "len(myName) - 1"
   ]
  },
  {
   "cell_type": "code",
   "execution_count": 11,
   "id": "316aa03c-9701-4aaf-8604-367cd91a0f13",
   "metadata": {},
   "outputs": [
    {
     "data": {
      "text/plain": [
       "'d'"
      ]
     },
     "execution_count": 11,
     "metadata": {},
     "output_type": "execute_result"
    }
   ],
   "source": [
    "myName[13]"
   ]
  },
  {
   "cell_type": "markdown",
   "id": "e43b7fba-30dd-4212-96d9-60d8ebad13b6",
   "metadata": {},
   "source": [
    "### Veya kısa yoldan;"
   ]
  },
  {
   "cell_type": "code",
   "execution_count": 12,
   "id": "737ef4d6-1b80-4cd7-bb23-f981dde3dac6",
   "metadata": {},
   "outputs": [],
   "source": [
    "myName = \"james hetfield\""
   ]
  },
  {
   "cell_type": "code",
   "execution_count": 13,
   "id": "072e7420-9674-435a-bf7f-d4ccdb72bf77",
   "metadata": {},
   "outputs": [
    {
     "data": {
      "text/plain": [
       "'d'"
      ]
     },
     "execution_count": 13,
     "metadata": {},
     "output_type": "execute_result"
    }
   ],
   "source": [
    "myName[len(myName)-1]"
   ]
  },
  {
   "cell_type": "code",
   "execution_count": 15,
   "id": "a7f0a592-d5d9-4968-b7c3-0e8368472851",
   "metadata": {},
   "outputs": [
    {
     "data": {
      "text/plain": [
       "'d'"
      ]
     },
     "execution_count": 15,
     "metadata": {},
     "output_type": "execute_result"
    }
   ],
   "source": [
    "myName[-1] #Son harfi yine veriyor"
   ]
  },
  {
   "cell_type": "markdown",
   "id": "30fc0f0a-7de8-446c-8540-1d8545969e79",
   "metadata": {},
   "source": [
    "## Slicing Nedir?"
   ]
  },
  {
   "cell_type": "code",
   "execution_count": 39,
   "id": "ddfd7176-f389-4e93-bb25-1c8f3aeef73a",
   "metadata": {},
   "outputs": [],
   "source": [
    "barcode = \"ABC1235112312\""
   ]
  },
  {
   "cell_type": "code",
   "execution_count": 40,
   "id": "f30901d5-04f9-432f-a85e-3f8e7efb0f15",
   "metadata": {},
   "outputs": [],
   "source": [
    "name = \"umut\""
   ]
  },
  {
   "cell_type": "code",
   "execution_count": 41,
   "id": "2940be92-5d19-4a1b-9fac-50bf328b2e3d",
   "metadata": {},
   "outputs": [],
   "source": [
    "surname = \"guneysu \""
   ]
  },
  {
   "cell_type": "code",
   "execution_count": 42,
   "id": "df2c761b-ff15-4669-b295-49ec8675e2f9",
   "metadata": {},
   "outputs": [],
   "source": [
    "fullname = name + \" \" + surname"
   ]
  },
  {
   "cell_type": "code",
   "execution_count": 43,
   "id": "67a135bf-9bce-4355-a741-b01f48bb7acc",
   "metadata": {},
   "outputs": [
    {
     "data": {
      "text/plain": [
       "'umut guneysu '"
      ]
     },
     "execution_count": 43,
     "metadata": {},
     "output_type": "execute_result"
    }
   ],
   "source": [
    "fullname"
   ]
  },
  {
   "cell_type": "code",
   "execution_count": 44,
   "id": "362a65f2-b7ad-4d56-8296-db44b16d789e",
   "metadata": {},
   "outputs": [
    {
     "data": {
      "text/plain": [
       "'umut guneysu umut guneysu umut guneysu umut guneysu umut guneysu '"
      ]
     },
     "execution_count": 44,
     "metadata": {},
     "output_type": "execute_result"
    }
   ],
   "source": [
    "fullname * 5 "
   ]
  },
  {
   "cell_type": "code",
   "execution_count": 45,
   "id": "a2858abc-ed95-4a51-8eb3-80b5fdea72d3",
   "metadata": {},
   "outputs": [
    {
     "data": {
      "text/plain": [
       "'ABC'"
      ]
     },
     "execution_count": 45,
     "metadata": {},
     "output_type": "execute_result"
    }
   ],
   "source": [
    "barcode[0] + barcode[1] + barcode[2] "
   ]
  },
  {
   "cell_type": "code",
   "execution_count": 46,
   "id": "faf65f57-ec62-4106-adf2-5c4a31bdae8d",
   "metadata": {},
   "outputs": [],
   "source": [
    "#slicing işlemi, starting index, stopping index, stepping size"
   ]
  },
  {
   "cell_type": "code",
   "execution_count": 47,
   "id": "2ec0b39d-0407-410d-8b36-0b65a95c54cf",
   "metadata": {},
   "outputs": [
    {
     "data": {
      "text/plain": [
       "'ABC1235112312'"
      ]
     },
     "execution_count": 47,
     "metadata": {},
     "output_type": "execute_result"
    }
   ],
   "source": [
    "barcode"
   ]
  },
  {
   "cell_type": "code",
   "execution_count": 48,
   "id": "a223a645-47fb-487e-b000-227af0e9fc07",
   "metadata": {},
   "outputs": [
    {
     "data": {
      "text/plain": [
       "'ABC1235112312'"
      ]
     },
     "execution_count": 48,
     "metadata": {},
     "output_type": "execute_result"
    }
   ],
   "source": [
    "barcode[::]"
   ]
  },
  {
   "cell_type": "code",
   "execution_count": 49,
   "id": "c38820ab-d2f0-4731-a279-156014da64fc",
   "metadata": {},
   "outputs": [],
   "source": [
    "#barcode[staring index:stopping index:stepping size]"
   ]
  },
  {
   "cell_type": "code",
   "execution_count": 50,
   "id": "fe99e362-ae0f-46de-88e1-b304aea1fe89",
   "metadata": {},
   "outputs": [
    {
     "data": {
      "text/plain": [
       "'1235112312'"
      ]
     },
     "execution_count": 50,
     "metadata": {},
     "output_type": "execute_result"
    }
   ],
   "source": [
    "barcode[3::]"
   ]
  },
  {
   "cell_type": "markdown",
   "id": "fcfddcab-4114-4c64-b922-419b828f6c8e",
   "metadata": {},
   "source": [
    "## Slicing Örnekleri"
   ]
  },
  {
   "cell_type": "code",
   "execution_count": 51,
   "id": "ac8655b6-93da-4e8f-ab37-4af3bd8aaaa5",
   "metadata": {},
   "outputs": [
    {
     "data": {
      "text/plain": [
       "'ABC'"
      ]
     },
     "execution_count": 51,
     "metadata": {},
     "output_type": "execute_result"
    }
   ],
   "source": [
    "barcode[:3:] #Üçüncü indekte durdu ama üçüncüyü almıyor"
   ]
  },
  {
   "cell_type": "code",
   "execution_count": 52,
   "id": "371a8e72-d669-4bd3-a8a6-25e050017ed3",
   "metadata": {},
   "outputs": [
    {
     "data": {
      "text/plain": [
       "'AC25132'"
      ]
     },
     "execution_count": 52,
     "metadata": {},
     "output_type": "execute_result"
    }
   ],
   "source": [
    "barcode[::2]"
   ]
  },
  {
   "cell_type": "code",
   "execution_count": 55,
   "id": "7c905ac4-3faf-4906-8e8d-51fac53e8c1f",
   "metadata": {},
   "outputs": [
    {
     "data": {
      "text/plain": [
       "'ABC1235112312'"
      ]
     },
     "execution_count": 55,
     "metadata": {},
     "output_type": "execute_result"
    }
   ],
   "source": [
    "barcode[::]"
   ]
  },
  {
   "cell_type": "code",
   "execution_count": 56,
   "id": "0f48f38f-166f-47f0-bf92-01261fdcb616",
   "metadata": {},
   "outputs": [
    {
     "data": {
      "text/plain": [
       "'C311'"
      ]
     },
     "execution_count": 56,
     "metadata": {},
     "output_type": "execute_result"
    }
   ],
   "source": [
    " barcode[2:12:3]"
   ]
  },
  {
   "cell_type": "code",
   "execution_count": 57,
   "id": "46927276-27fa-4e92-b8c1-260399899eca",
   "metadata": {},
   "outputs": [
    {
     "data": {
      "text/plain": [
       "'1312'"
      ]
     },
     "execution_count": 57,
     "metadata": {},
     "output_type": "execute_result"
    }
   ],
   "source": [
    " barcode[3:10:2]"
   ]
  },
  {
   "cell_type": "code",
   "execution_count": 59,
   "id": "a43cdad7-fbbf-43a2-9056-b42f30165a85",
   "metadata": {},
   "outputs": [
    {
     "data": {
      "text/plain": [
       "'2132115321CBA'"
      ]
     },
     "execution_count": 59,
     "metadata": {},
     "output_type": "execute_result"
    }
   ],
   "source": [
    " barcode[::-1] #stepping size -1 verilirse değer ters çevrilir"
   ]
  },
  {
   "cell_type": "code",
   "execution_count": 60,
   "id": "a4391f63-201b-4066-bd07-01464892b8d2",
   "metadata": {},
   "outputs": [],
   "source": [
    "name = \"Umut Güneysu\""
   ]
  },
  {
   "cell_type": "code",
   "execution_count": 62,
   "id": "cd3d729c-e378-4d52-8156-589e0b1d6edf",
   "metadata": {},
   "outputs": [
    {
     "data": {
      "text/plain": [
       "['Umut', 'Güneysu']"
      ]
     },
     "execution_count": 62,
     "metadata": {},
     "output_type": "execute_result"
    }
   ],
   "source": [
    "name.split()"
   ]
  },
  {
   "cell_type": "code",
   "execution_count": 63,
   "id": "38407932-8394-42dc-b94e-2f29046e3062",
   "metadata": {},
   "outputs": [
    {
     "data": {
      "text/plain": [
       "list"
      ]
     },
     "execution_count": 63,
     "metadata": {},
     "output_type": "execute_result"
    }
   ],
   "source": [
    "type(name.split())"
   ]
  },
  {
   "cell_type": "code",
   "execution_count": null,
   "id": "e2ac7a76-2458-4417-9d33-6b00a22376a8",
   "metadata": {},
   "outputs": [],
   "source": []
  }
 ],
 "metadata": {
  "kernelspec": {
   "display_name": "Python [conda env:base] *",
   "language": "python",
   "name": "conda-base-py"
  },
  "language_info": {
   "codemirror_mode": {
    "name": "ipython",
    "version": 3
   },
   "file_extension": ".py",
   "mimetype": "text/x-python",
   "name": "python",
   "nbconvert_exporter": "python",
   "pygments_lexer": "ipython3",
   "version": "3.13.5"
  }
 },
 "nbformat": 4,
 "nbformat_minor": 5
}

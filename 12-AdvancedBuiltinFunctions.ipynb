{
 "cells": [
  {
   "cell_type": "code",
   "execution_count": 1,
   "id": "5e03cea4-92aa-4532-82a6-a6792571300c",
   "metadata": {},
   "outputs": [],
   "source": [
    "my_list = [10,20,30,40,50,60,70]"
   ]
  },
  {
   "cell_type": "code",
   "execution_count": 2,
   "id": "67d86d8b-6754-4dac-b69d-8ae819f83a3c",
   "metadata": {},
   "outputs": [
    {
     "name": "stdout",
     "output_type": "stream",
     "text": [
      "5.0\n",
      "10.0\n",
      "15.0\n",
      "20.0\n",
      "25.0\n",
      "30.0\n",
      "35.0\n"
     ]
    }
   ],
   "source": [
    "for num in my_list:\n",
    "    print(num / 2)"
   ]
  },
  {
   "cell_type": "code",
   "execution_count": 3,
   "id": "c6b711e4-be50-4723-b514-00fb7af606b5",
   "metadata": {},
   "outputs": [],
   "source": [
    "# range() => Python’da belirli bir sayı aralığı oluşturmak için kullanılan bir fonksiyondur."
   ]
  },
  {
   "cell_type": "code",
   "execution_count": 4,
   "id": "2337eb90-0bb4-4955-b2ac-8c95efa33e0d",
   "metadata": {},
   "outputs": [
    {
     "data": {
      "text/plain": [
       "range(0, 50)"
      ]
     },
     "execution_count": 4,
     "metadata": {},
     "output_type": "execute_result"
    }
   ],
   "source": [
    "range(50)"
   ]
  },
  {
   "cell_type": "code",
   "execution_count": 5,
   "id": "8de678d6-bd73-4838-b75f-4e8b5d3c5a8b",
   "metadata": {},
   "outputs": [
    {
     "data": {
      "text/plain": [
       "[0, 1, 2, 3, 4, 5, 6, 7, 8, 9]"
      ]
     },
     "execution_count": 5,
     "metadata": {},
     "output_type": "execute_result"
    }
   ],
   "source": [
    "list(range(10))"
   ]
  },
  {
   "cell_type": "code",
   "execution_count": 6,
   "id": "2f32939b-9ceb-4cdf-ab7a-50680377a4a2",
   "metadata": {},
   "outputs": [
    {
     "data": {
      "text/plain": [
       "[0,\n",
       " 1,\n",
       " 2,\n",
       " 3,\n",
       " 4,\n",
       " 5,\n",
       " 6,\n",
       " 7,\n",
       " 8,\n",
       " 9,\n",
       " 10,\n",
       " 11,\n",
       " 12,\n",
       " 13,\n",
       " 14,\n",
       " 15,\n",
       " 16,\n",
       " 17,\n",
       " 18,\n",
       " 19,\n",
       " 20,\n",
       " 21,\n",
       " 22,\n",
       " 23,\n",
       " 24,\n",
       " 25,\n",
       " 26,\n",
       " 27,\n",
       " 28,\n",
       " 29,\n",
       " 30,\n",
       " 31,\n",
       " 32,\n",
       " 33,\n",
       " 34,\n",
       " 35,\n",
       " 36,\n",
       " 37,\n",
       " 38,\n",
       " 39,\n",
       " 40,\n",
       " 41,\n",
       " 42,\n",
       " 43,\n",
       " 44,\n",
       " 45,\n",
       " 46,\n",
       " 47,\n",
       " 48,\n",
       " 49,\n",
       " 50,\n",
       " 51,\n",
       " 52,\n",
       " 53,\n",
       " 54,\n",
       " 55,\n",
       " 56,\n",
       " 57,\n",
       " 58,\n",
       " 59,\n",
       " 60,\n",
       " 61,\n",
       " 62,\n",
       " 63,\n",
       " 64,\n",
       " 65,\n",
       " 66,\n",
       " 67,\n",
       " 68,\n",
       " 69,\n",
       " 70,\n",
       " 71,\n",
       " 72,\n",
       " 73,\n",
       " 74,\n",
       " 75,\n",
       " 76,\n",
       " 77,\n",
       " 78,\n",
       " 79,\n",
       " 80,\n",
       " 81,\n",
       " 82,\n",
       " 83,\n",
       " 84,\n",
       " 85,\n",
       " 86,\n",
       " 87,\n",
       " 88,\n",
       " 89,\n",
       " 90,\n",
       " 91,\n",
       " 92,\n",
       " 93,\n",
       " 94,\n",
       " 95,\n",
       " 96,\n",
       " 97,\n",
       " 98,\n",
       " 99,\n",
       " 100,\n",
       " 101,\n",
       " 102,\n",
       " 103,\n",
       " 104,\n",
       " 105,\n",
       " 106,\n",
       " 107,\n",
       " 108,\n",
       " 109,\n",
       " 110,\n",
       " 111,\n",
       " 112,\n",
       " 113,\n",
       " 114,\n",
       " 115,\n",
       " 116,\n",
       " 117,\n",
       " 118,\n",
       " 119,\n",
       " 120,\n",
       " 121,\n",
       " 122,\n",
       " 123,\n",
       " 124,\n",
       " 125,\n",
       " 126,\n",
       " 127,\n",
       " 128,\n",
       " 129,\n",
       " 130,\n",
       " 131,\n",
       " 132,\n",
       " 133,\n",
       " 134,\n",
       " 135,\n",
       " 136,\n",
       " 137,\n",
       " 138,\n",
       " 139]"
      ]
     },
     "execution_count": 6,
     "metadata": {},
     "output_type": "execute_result"
    }
   ],
   "source": [
    "list(range(num * 2))"
   ]
  },
  {
   "cell_type": "code",
   "execution_count": 9,
   "id": "77b72642-7c94-4343-8118-74ac4b22ae04",
   "metadata": {},
   "outputs": [
    {
     "data": {
      "text/plain": [
       "[5, 6, 7, 8, 9, 10, 11, 12, 13, 14, 15, 16, 17, 18, 19, 20, 21, 22, 23, 24]"
      ]
     },
     "execution_count": 9,
     "metadata": {},
     "output_type": "execute_result"
    }
   ],
   "source": [
    "list(range(5,25))"
   ]
  },
  {
   "cell_type": "code",
   "execution_count": 11,
   "id": "513e02c7-cbd1-448d-a800-3900da2d580b",
   "metadata": {},
   "outputs": [
    {
     "data": {
      "text/plain": [
       "[5, 7, 9, 11, 13, 15, 17, 19, 21, 23]"
      ]
     },
     "execution_count": 11,
     "metadata": {},
     "output_type": "execute_result"
    }
   ],
   "source": [
    "list(range(5,25,2)) # \"starting index - stopping index - stepping size\" mantığı"
   ]
  },
  {
   "cell_type": "code",
   "execution_count": 16,
   "id": "ecd13eb2-8e16-4ad3-a7fb-3945ed6ce01a",
   "metadata": {},
   "outputs": [],
   "source": [
    "my_list = list(range(20,70,10))"
   ]
  },
  {
   "cell_type": "code",
   "execution_count": 17,
   "id": "69e46ae4-7b70-4921-8543-c0c656bbf6a2",
   "metadata": {},
   "outputs": [
    {
     "data": {
      "text/plain": [
       "[20, 30, 40, 50, 60]"
      ]
     },
     "execution_count": 17,
     "metadata": {},
     "output_type": "execute_result"
    }
   ],
   "source": [
    "my_list"
   ]
  },
  {
   "cell_type": "code",
   "execution_count": 18,
   "id": "72cec3a1-720e-47f6-9e43-d5f529eb23b1",
   "metadata": {},
   "outputs": [
    {
     "name": "stdout",
     "output_type": "stream",
     "text": [
      "20\n",
      "30\n",
      "40\n",
      "50\n",
      "60\n"
     ]
    }
   ],
   "source": [
    "for num in my_list:\n",
    "    print(num)"
   ]
  },
  {
   "cell_type": "code",
   "execution_count": 19,
   "id": "041b21f2-07ce-4bf8-87a5-0f624c7bec88",
   "metadata": {},
   "outputs": [],
   "source": [
    "# Amaç: Değerlerin indexlerini yazdırmak."
   ]
  },
  {
   "cell_type": "code",
   "execution_count": 20,
   "id": "6f17a966-df98-48cf-a488-3ba1536d50f0",
   "metadata": {},
   "outputs": [
    {
     "name": "stdout",
     "output_type": "stream",
     "text": [
      "0\n",
      "1\n",
      "2\n",
      "3\n",
      "4\n"
     ]
    }
   ],
   "source": [
    "for ix in range(len(my_list)):\n",
    "    print(ix)"
   ]
  },
  {
   "cell_type": "code",
   "execution_count": 23,
   "id": "2094ced3-16a9-4434-ae96-10f49b6f6d21",
   "metadata": {},
   "outputs": [
    {
     "name": "stdout",
     "output_type": "stream",
     "text": [
      "20\n",
      "30\n",
      "40\n",
      "50\n",
      "60\n"
     ]
    }
   ],
   "source": [
    "for ix in range(len(my_list)):\n",
    "    print(my_list[ix])"
   ]
  },
  {
   "cell_type": "code",
   "execution_count": 24,
   "id": "59140348-0f03-4851-9fb5-8b9d4ce0ba76",
   "metadata": {},
   "outputs": [],
   "source": [
    "#enumerate(), Python’da bir liste veya diziyi döngüyle gezerken hem index (sıra numarası) hem de değeri aynı anda almak için kullanılır."
   ]
  },
  {
   "cell_type": "code",
   "execution_count": 29,
   "id": "daedd415-4efe-457e-abfa-e94635fa620e",
   "metadata": {},
   "outputs": [
    {
     "name": "stdout",
     "output_type": "stream",
     "text": [
      "(0, 20)\n",
      "(1, 30)\n",
      "(2, 40)\n",
      "(3, 50)\n",
      "(4, 60)\n"
     ]
    }
   ],
   "source": [
    "for element in enumerate(my_list):\n",
    "    print(element)"
   ]
  },
  {
   "cell_type": "code",
   "execution_count": 30,
   "id": "7295c861-756f-41d5-ae1c-cf3d8fe5f683",
   "metadata": {},
   "outputs": [],
   "source": [
    "#(index, değer)"
   ]
  },
  {
   "cell_type": "code",
   "execution_count": 31,
   "id": "7bc1ad70-8943-4c03-9ab4-bcf5d918e786",
   "metadata": {},
   "outputs": [
    {
     "name": "stdout",
     "output_type": "stream",
     "text": [
      "20\n",
      "30\n",
      "40\n",
      "50\n",
      "60\n"
     ]
    }
   ],
   "source": [
    "for (ix,value) in enumerate(my_list):\n",
    "    print(value)"
   ]
  },
  {
   "cell_type": "code",
   "execution_count": 32,
   "id": "43effc7e-2a85-4d46-bfa7-205cd8b93753",
   "metadata": {},
   "outputs": [
    {
     "name": "stdout",
     "output_type": "stream",
     "text": [
      "0\n",
      "1\n",
      "2\n",
      "3\n",
      "4\n"
     ]
    }
   ],
   "source": [
    "for (ix,value) in enumerate(my_list):\n",
    "    print(ix)"
   ]
  },
  {
   "cell_type": "code",
   "execution_count": 33,
   "id": "4cc65fd9-51fc-431f-92a1-0af581961029",
   "metadata": {},
   "outputs": [],
   "source": [
    "#random => random modülü, Python’da rastgele sayı üretmek veya rastgele seçimler yapmak için kullanılır."
   ]
  },
  {
   "cell_type": "code",
   "execution_count": 52,
   "id": "ab299e68-ff81-40d8-a4a8-0771212a2bba",
   "metadata": {},
   "outputs": [],
   "source": [
    "from random import randint # ifadesi, sadece randint fonksiyonunu random modülünden içe aktarmak için kullanılır.\n",
    "                           # Bu sayede random. yazmadan doğrudan randint() fonksiyonunu çağırabilirsin.\n",
    "                           # randint(a, b) → a ile b arasında rastgele bir tam sayı döndürür."
   ]
  },
  {
   "cell_type": "code",
   "execution_count": 53,
   "id": "8536e7b7-0268-4c67-8485-98fb009d935b",
   "metadata": {},
   "outputs": [
    {
     "data": {
      "text/plain": [
       "7"
      ]
     },
     "execution_count": 53,
     "metadata": {},
     "output_type": "execute_result"
    }
   ],
   "source": [
    "randint(0,100)"
   ]
  },
  {
   "cell_type": "code",
   "execution_count": 54,
   "id": "d88feaad-39d6-4bee-b947-fcb32ae8afd4",
   "metadata": {},
   "outputs": [
    {
     "data": {
      "text/plain": [
       "10"
      ]
     },
     "execution_count": 54,
     "metadata": {},
     "output_type": "execute_result"
    }
   ],
   "source": [
    "randint(0,100)"
   ]
  },
  {
   "cell_type": "code",
   "execution_count": 55,
   "id": "9a8433c1-39b3-4305-887c-259ae452c1c0",
   "metadata": {},
   "outputs": [
    {
     "data": {
      "text/plain": [
       "15"
      ]
     },
     "execution_count": 55,
     "metadata": {},
     "output_type": "execute_result"
    }
   ],
   "source": [
    "randint(0,100)"
   ]
  },
  {
   "cell_type": "code",
   "execution_count": 56,
   "id": "42a0e976-cd8a-4653-8abd-6faf33e5e0b5",
   "metadata": {},
   "outputs": [],
   "source": [
    "from random import shuffle # shuffle() → Bir listenin elemanlarının sırasını rastgele karıştırır."
   ]
  },
  {
   "cell_type": "code",
   "execution_count": 57,
   "id": "fb5b8816-e80d-4218-baa3-61d9c48c5da9",
   "metadata": {},
   "outputs": [
    {
     "data": {
      "text/plain": [
       "[20, 40, 30, 50, 60]"
      ]
     },
     "execution_count": 57,
     "metadata": {},
     "output_type": "execute_result"
    }
   ],
   "source": [
    "my_list"
   ]
  },
  {
   "cell_type": "code",
   "execution_count": 58,
   "id": "eb38e980-995c-4e94-93be-668fe3bd1b9c",
   "metadata": {},
   "outputs": [],
   "source": [
    "shuffle(my_list)"
   ]
  },
  {
   "cell_type": "code",
   "execution_count": 59,
   "id": "adf40226-3575-411c-8e9e-683d5e10d3ee",
   "metadata": {},
   "outputs": [
    {
     "data": {
      "text/plain": [
       "[30, 50, 20, 60, 40]"
      ]
     },
     "execution_count": 59,
     "metadata": {},
     "output_type": "execute_result"
    }
   ],
   "source": [
    "my_list"
   ]
  },
  {
   "cell_type": "code",
   "execution_count": 63,
   "id": "ce658237-0d6e-4668-a023-806dc32e8240",
   "metadata": {},
   "outputs": [],
   "source": [
    "shuffle(my_list)"
   ]
  },
  {
   "cell_type": "code",
   "execution_count": 64,
   "id": "cd135f86-4812-450d-b25c-94920da14486",
   "metadata": {},
   "outputs": [
    {
     "data": {
      "text/plain": [
       "[50, 30, 60, 40, 20]"
      ]
     },
     "execution_count": 64,
     "metadata": {},
     "output_type": "execute_result"
    }
   ],
   "source": [
    "my_list"
   ]
  },
  {
   "cell_type": "code",
   "execution_count": 66,
   "id": "7d10e22c-5cf2-426a-aeab-b8ef4bef3a90",
   "metadata": {},
   "outputs": [],
   "source": [
    "my_list = list(range(10,80,10))"
   ]
  },
  {
   "cell_type": "code",
   "execution_count": 67,
   "id": "c8ba3935-fac3-45e2-aeff-4fc8aabbfc99",
   "metadata": {},
   "outputs": [
    {
     "data": {
      "text/plain": [
       "[10, 20, 30, 40, 50, 60, 70]"
      ]
     },
     "execution_count": 67,
     "metadata": {},
     "output_type": "execute_result"
    }
   ],
   "source": [
    "my_list"
   ]
  },
  {
   "cell_type": "code",
   "execution_count": 68,
   "id": "75975a8d-9804-4d5f-9939-9cc8d7b72dde",
   "metadata": {},
   "outputs": [
    {
     "data": {
      "text/plain": [
       "4"
      ]
     },
     "execution_count": 68,
     "metadata": {},
     "output_type": "execute_result"
    }
   ],
   "source": [
    "randint(0,len(my_list))"
   ]
  },
  {
   "cell_type": "code",
   "execution_count": 70,
   "id": "41bc0607-769d-4978-a540-1007322ec7e6",
   "metadata": {},
   "outputs": [
    {
     "data": {
      "text/plain": [
       "20"
      ]
     },
     "execution_count": 70,
     "metadata": {},
     "output_type": "execute_result"
    }
   ],
   "source": [
    "my_list[randint(0,len(my_list))]"
   ]
  },
  {
   "cell_type": "code",
   "execution_count": 71,
   "id": "0707c5c8-0b83-4c7c-86da-bbbf1170bd71",
   "metadata": {},
   "outputs": [
    {
     "data": {
      "text/plain": [
       "10"
      ]
     },
     "execution_count": 71,
     "metadata": {},
     "output_type": "execute_result"
    }
   ],
   "source": [
    "my_list[randint(0,len(my_list))]"
   ]
  },
  {
   "cell_type": "code",
   "execution_count": 72,
   "id": "cff8fb7d-2f23-40a3-82d0-e2a30b696a7e",
   "metadata": {},
   "outputs": [
    {
     "data": {
      "text/plain": [
       "10"
      ]
     },
     "execution_count": 72,
     "metadata": {},
     "output_type": "execute_result"
    }
   ],
   "source": [
    "my_list[randint(0,len(my_list))]"
   ]
  },
  {
   "cell_type": "code",
   "execution_count": 73,
   "id": "815e00c5-2903-46d6-8550-f57e592f413a",
   "metadata": {},
   "outputs": [
    {
     "data": {
      "text/plain": [
       "10"
      ]
     },
     "execution_count": 73,
     "metadata": {},
     "output_type": "execute_result"
    }
   ],
   "source": [
    "my_list[randint(0,len(my_list))]"
   ]
  },
  {
   "cell_type": "code",
   "execution_count": 74,
   "id": "51f21d90-1dbd-44e8-b4c2-3f9cf553e6ac",
   "metadata": {},
   "outputs": [
    {
     "ename": "IndexError",
     "evalue": "list index out of range",
     "output_type": "error",
     "traceback": [
      "\u001b[1;31m---------------------------------------------------------------------------\u001b[0m",
      "\u001b[1;31mIndexError\u001b[0m                                Traceback (most recent call last)",
      "Cell \u001b[1;32mIn[74], line 1\u001b[0m\n\u001b[1;32m----> 1\u001b[0m my_list[randint(\u001b[38;5;241m0\u001b[39m,\u001b[38;5;28mlen\u001b[39m(my_list))]\n",
      "\u001b[1;31mIndexError\u001b[0m: list index out of range"
     ]
    }
   ],
   "source": [
    "my_list[randint(0,len(my_list))]"
   ]
  },
  {
   "cell_type": "code",
   "execution_count": 75,
   "id": "07bde19f-bde5-4ea4-a42c-79f833300de5",
   "metadata": {},
   "outputs": [],
   "source": [
    "# \"IndexError: list index out of range\" hatası vermemesi için;"
   ]
  },
  {
   "cell_type": "code",
   "execution_count": null,
   "id": "469b0062-b597-4d5d-82ca-0bd7dee0a409",
   "metadata": {},
   "outputs": [],
   "source": [
    "my_list[randint(0,len(my_list)-1)]"
   ]
  },
  {
   "cell_type": "markdown",
   "id": "414284b7-e6d5-4059-b7cb-f67b6e619227",
   "metadata": {},
   "source": [
    "Python’da listelerin indeksleri 0’dan başlar.\n",
    "\n",
    "Örneğin, bir listenin uzunluğu 5 ise indeksler 0,1,2,3,4 olur.\n",
    "\n",
    "Eğer randint(0, len(my_list)) yazarsak, randint(0,5) 5 değerini de üretebilir.\n",
    "\n",
    "my_list[5] var olmadığından Python:"
   ]
  },
  {
   "cell_type": "markdown",
   "id": "0dc0478a-af57-48a1-bfe0-428b28f8b043",
   "metadata": {},
   "source": [
    "**IndexError: list index out of range**\n",
    "hatasını verir."
   ]
  },
  {
   "cell_type": "markdown",
   "id": "7f9f83d8-064f-48db-8fe5-692e1f634231",
   "metadata": {},
   "source": [
    "### Çözüm\n",
    "\n",
    "**len(my_list)-1** kullanmak, rastgele üretilen sayının listenin **geçerli indeksleri arasında olmasını** garanti eder. Böylece IndexError riski ortadan kalkar."
   ]
  },
  {
   "cell_type": "markdown",
   "id": "611384ad-5ac7-4d78-a16c-8c94ff5519ad",
   "metadata": {},
   "source": [
    "\"https://docs.python.org/3/library/random.html\""
   ]
  },
  {
   "cell_type": "markdown",
   "id": "cbc09b28-2a41-4988-9fc8-b1804a0f26f9",
   "metadata": {},
   "source": [
    "## -------------------------------------------------------------------------------"
   ]
  },
  {
   "cell_type": "code",
   "execution_count": null,
   "id": "ff824ddd-f15d-4be7-9c18-7739f91d7c37",
   "metadata": {},
   "outputs": [],
   "source": [
    "#zip(), Python’da iki veya daha fazla liste, demet (tuple) veya string gibi iterable’ları birleştirmek için kullanılan bir fonksiyondur."
   ]
  },
  {
   "cell_type": "markdown",
   "id": "d7ceee6e-b8dc-4839-a155-967a20f8a27e",
   "metadata": {},
   "source": [
    "**Iterable** = üzerinde dolaşabileceğin koleksiyon.\n",
    "\n",
    "**Dolaşmak** = sırasıyla öğeleri almak ve işlem yapmak.\n",
    "\n",
    "* Python, iterable olan bir nesne üzerinde “bir sonraki öğeyi al → işlem yap → sıradaki öğeye geç” şeklinde adım adım dolaşır.\n",
    "\n",
    "* Python bunu for döngüsü, zip(), list() gibi fonksiyonlarla otomatik yapar."
   ]
  },
  {
   "cell_type": "code",
   "execution_count": 77,
   "id": "737a2427-56fc-4977-9351-d37b7c14b4e8",
   "metadata": {},
   "outputs": [],
   "source": [
    "food_list = [\"apple\",\"banana\",\"melon\"]"
   ]
  },
  {
   "cell_type": "code",
   "execution_count": 78,
   "id": "4d6a30b9-8ffb-4326-9abc-b65e8f14c8f2",
   "metadata": {},
   "outputs": [],
   "source": [
    "calories_list = [100,150,200]"
   ]
  },
  {
   "cell_type": "code",
   "execution_count": 79,
   "id": "2be3ff3f-96f9-4083-86c0-b1264b4672d2",
   "metadata": {},
   "outputs": [],
   "source": [
    "day_list = [\"monday\",\"tuesday\",\"wednesday\"]"
   ]
  },
  {
   "cell_type": "code",
   "execution_count": 80,
   "id": "cd9d16b6-a0a5-4d80-b5b9-4e3563ec4689",
   "metadata": {},
   "outputs": [],
   "source": [
    "zipped_list = zip(food_list,calories_list,day_list)"
   ]
  },
  {
   "cell_type": "code",
   "execution_count": 81,
   "id": "03a7ca15-9836-461a-a6bf-ecd3489ca8b7",
   "metadata": {},
   "outputs": [
    {
     "data": {
      "text/plain": [
       "<zip at 0x28749d5d040>"
      ]
     },
     "execution_count": 81,
     "metadata": {},
     "output_type": "execute_result"
    }
   ],
   "source": [
    "zipped_list"
   ]
  },
  {
   "cell_type": "code",
   "execution_count": 82,
   "id": "5b9cbb8e-006d-456a-b992-cddbb2f03f0a",
   "metadata": {},
   "outputs": [
    {
     "data": {
      "text/plain": [
       "zip"
      ]
     },
     "execution_count": 82,
     "metadata": {},
     "output_type": "execute_result"
    }
   ],
   "source": [
    "type(zipped_list)"
   ]
  },
  {
   "cell_type": "code",
   "execution_count": 83,
   "id": "7a993137-2a48-4e8f-85f6-b0c698469263",
   "metadata": {},
   "outputs": [],
   "source": [
    "# Üç listenin de birleştirilmiş halini görmek için;"
   ]
  },
  {
   "cell_type": "code",
   "execution_count": 84,
   "id": "0b943186-a2bb-4d42-8278-4ae881398e00",
   "metadata": {},
   "outputs": [],
   "source": [
    "zipped_list = list(zip(food_list,calories_list,day_list))"
   ]
  },
  {
   "cell_type": "code",
   "execution_count": 85,
   "id": "f6487161-4d51-43e7-a750-4147a84448da",
   "metadata": {},
   "outputs": [
    {
     "data": {
      "text/plain": [
       "[('apple', 100, 'monday'),\n",
       " ('banana', 150, 'tuesday'),\n",
       " ('melon', 200, 'wednesday')]"
      ]
     },
     "execution_count": 85,
     "metadata": {},
     "output_type": "execute_result"
    }
   ],
   "source": [
    "zipped_list"
   ]
  },
  {
   "cell_type": "code",
   "execution_count": 86,
   "id": "9419f675-12f6-4fc3-b626-a24a73c92379",
   "metadata": {},
   "outputs": [
    {
     "data": {
      "text/plain": [
       "list"
      ]
     },
     "execution_count": 86,
     "metadata": {},
     "output_type": "execute_result"
    }
   ],
   "source": [
    "type(zipped_list)"
   ]
  },
  {
   "cell_type": "code",
   "execution_count": 87,
   "id": "4ea0997d-225d-49ab-8489-aaa8a4e95e94",
   "metadata": {},
   "outputs": [],
   "source": [
    "# Listeler, birleştirilmiş şekilde bir tuple içinde saklanır."
   ]
  },
  {
   "cell_type": "markdown",
   "id": "e9425357-4497-47a3-bc9f-1d9d2085657f",
   "metadata": {},
   "source": [
    "## -------------------------------------------------------------------------------"
   ]
  },
  {
   "cell_type": "code",
   "execution_count": 89,
   "id": "e681eaff-5e4d-4346-b6d3-809e2a065ac4",
   "metadata": {},
   "outputs": [],
   "source": [
    "new_list = []\n",
    "my_string = \"metallica\"\n",
    "\n",
    "for element in my_string: # → Python, stringi bir harf bir harf dolaşır\n",
    "    new_list.append(element) # → Her bir harfi listeye ekler."
   ]
  },
  {
   "cell_type": "code",
   "execution_count": 91,
   "id": "eff77169-ccea-48b2-8b53-eae96ce2c2e7",
   "metadata": {},
   "outputs": [
    {
     "data": {
      "text/plain": [
       "['m', 'e', 't', 'a', 'l', 'l', 'i', 'c', 'a']"
      ]
     },
     "execution_count": 91,
     "metadata": {},
     "output_type": "execute_result"
    }
   ],
   "source": [
    "new_list # Sonuç: for döngüsü sayesinde string, iterable olduğu için harf harf işlenir ve her harf listeye ayrı eleman olarak eklenir."
   ]
  },
  {
   "cell_type": "code",
   "execution_count": 95,
   "id": "365e83ce-27e6-4ddd-a2c4-cf3097e01765",
   "metadata": {},
   "outputs": [],
   "source": [
    "#list comprehension => Python’da daha kısa ve okunaklı şekilde liste oluşturmayı sağlayan bir yapıdır."
   ]
  },
  {
   "cell_type": "markdown",
   "id": "526c9b76-fe98-4516-9440-2da291b04c0c",
   "metadata": {},
   "source": [
    "* Döngü ve append **kullanmadan** tek satırda liste oluşturabilirsin."
   ]
  },
  {
   "cell_type": "code",
   "execution_count": 96,
   "id": "dc6650c0-b580-45a3-854d-8c15010ef29f",
   "metadata": {},
   "outputs": [],
   "source": [
    "new_list = [element for element in my_string]"
   ]
  },
  {
   "cell_type": "code",
   "execution_count": 97,
   "id": "4f38eb67-f053-4fce-bf74-7117ff9aad73",
   "metadata": {},
   "outputs": [
    {
     "data": {
      "text/plain": [
       "['m', 'e', 't', 'a', 'l', 'l', 'i', 'c', 'a']"
      ]
     },
     "execution_count": 97,
     "metadata": {},
     "output_type": "execute_result"
    }
   ],
   "source": [
    "new_list"
   ]
  },
  {
   "cell_type": "code",
   "execution_count": 98,
   "id": "20dc15ed-97da-4577-9c10-f6ea861ce0f0",
   "metadata": {},
   "outputs": [],
   "source": [
    "number_list = list(range(10,70,10))"
   ]
  },
  {
   "cell_type": "code",
   "execution_count": 99,
   "id": "cf1a7479-037d-4cb8-8b9e-861b11e87b4c",
   "metadata": {},
   "outputs": [
    {
     "data": {
      "text/plain": [
       "[10, 20, 30, 40, 50, 60]"
      ]
     },
     "execution_count": 99,
     "metadata": {},
     "output_type": "execute_result"
    }
   ],
   "source": [
    "number_list"
   ]
  },
  {
   "cell_type": "code",
   "execution_count": 104,
   "id": "de2923de-640b-495b-9fee-818c8233e057",
   "metadata": {},
   "outputs": [],
   "source": [
    "new_number_list = [num/2 for num in number_list]"
   ]
  },
  {
   "cell_type": "code",
   "execution_count": 105,
   "id": "7b519fae-1879-442f-80eb-a203e09b675d",
   "metadata": {},
   "outputs": [
    {
     "data": {
      "text/plain": [
       "[5.0, 10.0, 15.0, 20.0, 25.0, 30.0]"
      ]
     },
     "execution_count": 105,
     "metadata": {},
     "output_type": "execute_result"
    }
   ],
   "source": [
    "new_number_list"
   ]
  },
  {
   "cell_type": "code",
   "execution_count": 109,
   "id": "51c16b03-90d1-4690-add3-53d4428ef0ab",
   "metadata": {},
   "outputs": [],
   "source": [
    "#List comprehension kullanılmadığında;"
   ]
  },
  {
   "cell_type": "code",
   "execution_count": 110,
   "id": "bf56dca9-f3c8-464e-8b7b-1564c5a60f1b",
   "metadata": {},
   "outputs": [],
   "source": [
    "new_number_list = []\n",
    "for num in number_list:\n",
    "    new_number_list.append(num/2)"
   ]
  },
  {
   "cell_type": "code",
   "execution_count": 111,
   "id": "4ce39f9b-3c6c-43f9-83c4-8e63ca90b870",
   "metadata": {},
   "outputs": [
    {
     "data": {
      "text/plain": [
       "[5.0, 10.0, 15.0, 20.0, 25.0, 30.0]"
      ]
     },
     "execution_count": 111,
     "metadata": {},
     "output_type": "execute_result"
    }
   ],
   "source": [
    "new_number_list"
   ]
  },
  {
   "cell_type": "code",
   "execution_count": null,
   "id": "fb093316-7019-4ff3-b4bf-b47891bd77fb",
   "metadata": {},
   "outputs": [],
   "source": []
  }
 ],
 "metadata": {
  "kernelspec": {
   "display_name": "Python [conda env:base] *",
   "language": "python",
   "name": "conda-base-py"
  },
  "language_info": {
   "codemirror_mode": {
    "name": "ipython",
    "version": 3
   },
   "file_extension": ".py",
   "mimetype": "text/x-python",
   "name": "python",
   "nbconvert_exporter": "python",
   "pygments_lexer": "ipython3",
   "version": "3.13.5"
  }
 },
 "nbformat": 4,
 "nbformat_minor": 5
}

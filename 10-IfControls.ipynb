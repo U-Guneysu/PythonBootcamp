{
 "cells": [
  {
   "cell_type": "code",
   "execution_count": 1,
   "id": "22bc4322-c9ce-43aa-aa45-3bf0361d0b99",
   "metadata": {},
   "outputs": [],
   "source": [
    "x = 5\n",
    "y = 2"
   ]
  },
  {
   "cell_type": "markdown",
   "id": "c293ae6d-07e4-4d3c-9a1e-fa6daba145aa",
   "metadata": {},
   "source": [
    "## Küçüktür / Büyüktür"
   ]
  },
  {
   "cell_type": "code",
   "execution_count": 2,
   "id": "005a75db-27d6-453e-a15f-ebe60761902f",
   "metadata": {},
   "outputs": [
    {
     "data": {
      "text/plain": [
       "True"
      ]
     },
     "execution_count": 2,
     "metadata": {},
     "output_type": "execute_result"
    }
   ],
   "source": [
    "x > y"
   ]
  },
  {
   "cell_type": "code",
   "execution_count": 3,
   "id": "b4431610-c508-41e1-a14d-59e1521e8fb0",
   "metadata": {},
   "outputs": [
    {
     "data": {
      "text/plain": [
       "False"
      ]
     },
     "execution_count": 3,
     "metadata": {},
     "output_type": "execute_result"
    }
   ],
   "source": [
    "x < y"
   ]
  },
  {
   "cell_type": "markdown",
   "id": "455a39d0-ef3b-44fe-8988-f7db74220a32",
   "metadata": {},
   "source": [
    "## Küçük Eşit / Büyük Eşit"
   ]
  },
  {
   "cell_type": "code",
   "execution_count": 4,
   "id": "7dfb3a98-2f96-425b-84db-76a7e5969848",
   "metadata": {},
   "outputs": [],
   "source": [
    "y = 5"
   ]
  },
  {
   "cell_type": "code",
   "execution_count": 5,
   "id": "accbab2e-9f02-40e1-9011-b17f53c1f709",
   "metadata": {},
   "outputs": [
    {
     "data": {
      "text/plain": [
       "True"
      ]
     },
     "execution_count": 5,
     "metadata": {},
     "output_type": "execute_result"
    }
   ],
   "source": [
    "x >= y "
   ]
  },
  {
   "cell_type": "code",
   "execution_count": 6,
   "id": "9613a28b-a863-49a6-816d-9696d4275937",
   "metadata": {},
   "outputs": [
    {
     "data": {
      "text/plain": [
       "True"
      ]
     },
     "execution_count": 6,
     "metadata": {},
     "output_type": "execute_result"
    }
   ],
   "source": [
    "x <= y"
   ]
  },
  {
   "cell_type": "code",
   "execution_count": 7,
   "id": "83c31424-71e9-4e61-a26b-331b223545f7",
   "metadata": {},
   "outputs": [
    {
     "data": {
      "text/plain": [
       "True"
      ]
     },
     "execution_count": 7,
     "metadata": {},
     "output_type": "execute_result"
    }
   ],
   "source": [
    "x >= 5.0"
   ]
  },
  {
   "cell_type": "code",
   "execution_count": 8,
   "id": "5a47e483-289c-4a91-a22e-7fcb2cc858dc",
   "metadata": {},
   "outputs": [
    {
     "data": {
      "text/plain": [
       "False"
      ]
     },
     "execution_count": 8,
     "metadata": {},
     "output_type": "execute_result"
    }
   ],
   "source": [
    "x >= 5.001"
   ]
  },
  {
   "cell_type": "markdown",
   "id": "38775839-e720-416d-849e-2c0e42185be3",
   "metadata": {},
   "source": [
    "## Eşittir / Eşit Değildir"
   ]
  },
  {
   "cell_type": "code",
   "execution_count": 9,
   "id": "b05b28d9-a19c-4e64-a76c-adac4b2639b6",
   "metadata": {},
   "outputs": [],
   "source": [
    "x = 10"
   ]
  },
  {
   "cell_type": "code",
   "execution_count": 10,
   "id": "a354df61-cbd5-4f24-b466-4ca55579f49c",
   "metadata": {},
   "outputs": [],
   "source": [
    "y = 8"
   ]
  },
  {
   "cell_type": "code",
   "execution_count": 11,
   "id": "b2f18035-5a3a-4e59-b3bc-c960ba7b37ea",
   "metadata": {},
   "outputs": [
    {
     "data": {
      "text/plain": [
       "False"
      ]
     },
     "execution_count": 11,
     "metadata": {},
     "output_type": "execute_result"
    }
   ],
   "source": [
    "x == y "
   ]
  },
  {
   "cell_type": "code",
   "execution_count": 12,
   "id": "d3edc738-8508-4aa6-8ffe-a42a52f8a1b4",
   "metadata": {},
   "outputs": [
    {
     "data": {
      "text/plain": [
       "True"
      ]
     },
     "execution_count": 12,
     "metadata": {},
     "output_type": "execute_result"
    }
   ],
   "source": [
    "x != y"
   ]
  },
  {
   "cell_type": "markdown",
   "id": "2d7cdb4c-6cfe-4c25-bfca-f099894a1a7c",
   "metadata": {},
   "source": [
    "## Ve / Veya"
   ]
  },
  {
   "cell_type": "code",
   "execution_count": 13,
   "id": "7fcedec3-6607-43a6-86e3-b66704a67bc3",
   "metadata": {},
   "outputs": [
    {
     "data": {
      "text/plain": [
       "True"
      ]
     },
     "execution_count": 13,
     "metadata": {},
     "output_type": "execute_result"
    }
   ],
   "source": [
    "2 > 1 and 3 > 2   # 1 v 1 = 1"
   ]
  },
  {
   "cell_type": "code",
   "execution_count": 14,
   "id": "74f96e2e-354c-47bc-90d9-2813ee4eebf9",
   "metadata": {},
   "outputs": [
    {
     "data": {
      "text/plain": [
       "False"
      ]
     },
     "execution_count": 14,
     "metadata": {},
     "output_type": "execute_result"
    }
   ],
   "source": [
    "2 > 1 and 3 < 2  # 1 v 0 = 0"
   ]
  },
  {
   "cell_type": "code",
   "execution_count": 17,
   "id": "09d0ec41-3387-4de1-8c76-4927d6fb590c",
   "metadata": {},
   "outputs": [
    {
     "data": {
      "text/plain": [
       "True"
      ]
     },
     "execution_count": 17,
     "metadata": {},
     "output_type": "execute_result"
    }
   ],
   "source": [
    "2 > 1 or 3 < 2   # 1 ^ 0 = 1 "
   ]
  },
  {
   "cell_type": "code",
   "execution_count": 19,
   "id": "70df5fae-0f7e-446d-935e-780250cd7d6a",
   "metadata": {},
   "outputs": [
    {
     "data": {
      "text/plain": [
       "False"
      ]
     },
     "execution_count": 19,
     "metadata": {},
     "output_type": "execute_result"
    }
   ],
   "source": [
    "1 > 2 or 3 < 2   # 0 ^ 0 = 0"
   ]
  },
  {
   "cell_type": "markdown",
   "id": "c3acfe4d-739e-47e4-a117-db3f78fb1408",
   "metadata": {},
   "source": [
    "## NOT - Olumsuzluk - Durumu Tersine Çevirir"
   ]
  },
  {
   "cell_type": "code",
   "execution_count": 20,
   "id": "981bc88b-91f6-4f9c-93e8-d08f92308741",
   "metadata": {},
   "outputs": [
    {
     "data": {
      "text/plain": [
       "False"
      ]
     },
     "execution_count": 20,
     "metadata": {},
     "output_type": "execute_result"
    }
   ],
   "source": [
    "not 1 == 1"
   ]
  },
  {
   "cell_type": "code",
   "execution_count": 22,
   "id": "641def4b-0891-4675-b75c-4ded8d2e59a7",
   "metadata": {},
   "outputs": [
    {
     "data": {
      "text/plain": [
       "True"
      ]
     },
     "execution_count": 22,
     "metadata": {},
     "output_type": "execute_result"
    }
   ],
   "source": [
    "10 in [10,20,30]"
   ]
  },
  {
   "cell_type": "code",
   "execution_count": 24,
   "id": "ddc9c9a4-dabb-4eae-80ca-d2486e942c18",
   "metadata": {},
   "outputs": [
    {
     "data": {
      "text/plain": [
       "True"
      ]
     },
     "execution_count": 24,
     "metadata": {},
     "output_type": "execute_result"
    }
   ],
   "source": [
    "5 not in [10,20,30]"
   ]
  },
  {
   "cell_type": "markdown",
   "id": "0826828f-08cb-4128-9936-589606cd187e",
   "metadata": {},
   "source": [
    "### Set yapısında \"in\" kullanımı\n"
   ]
  },
  {
   "cell_type": "code",
   "execution_count": 25,
   "id": "ece5c838-0d2b-47f0-8e0f-2e4df790ce49",
   "metadata": {},
   "outputs": [
    {
     "data": {
      "text/plain": [
       "True"
      ]
     },
     "execution_count": 25,
     "metadata": {},
     "output_type": "execute_result"
    }
   ],
   "source": [
    "10 in {10,20,30} # Set yapısında kullanılabilir"
   ]
  },
  {
   "cell_type": "markdown",
   "id": "4a724a89-3006-409e-836d-03cdb8cc004c",
   "metadata": {},
   "source": [
    "### Dictionary yapısında \"in\" kullanımı"
   ]
  },
  {
   "cell_type": "code",
   "execution_count": 27,
   "id": "1278ddaf-2cf9-4971-ab17-ffd0cb8565b2",
   "metadata": {},
   "outputs": [],
   "source": [
    "my_dict = {\"a\":10,\"b\":20,\"c\":30}"
   ]
  },
  {
   "cell_type": "code",
   "execution_count": 30,
   "id": "44f8ca2b-8490-495f-b3d1-018b6467a019",
   "metadata": {},
   "outputs": [
    {
     "data": {
      "text/plain": [
       "True"
      ]
     },
     "execution_count": 30,
     "metadata": {},
     "output_type": "execute_result"
    }
   ],
   "source": [
    "10 in my_dict.values() # Değerler içerisinde 10 var ise True yanıtını verecektir."
   ]
  },
  {
   "cell_type": "code",
   "execution_count": 32,
   "id": "02186755-a378-406d-9372-5e367e415f81",
   "metadata": {},
   "outputs": [
    {
     "data": {
      "text/plain": [
       "False"
      ]
     },
     "execution_count": 32,
     "metadata": {},
     "output_type": "execute_result"
    }
   ],
   "source": [
    "10 in my_dict # Key-Value durumunda 10'un bir değer olduğunu belirtilmediği için False yanıtını verecektir."
   ]
  },
  {
   "cell_type": "code",
   "execution_count": 33,
   "id": "9b0ada7f-43e5-4c21-a9b0-28763a9b03ba",
   "metadata": {},
   "outputs": [
    {
     "data": {
      "text/plain": [
       "True"
      ]
     },
     "execution_count": 33,
     "metadata": {},
     "output_type": "execute_result"
    }
   ],
   "source": [
    "\"b\" in my_dict.keys()"
   ]
  },
  {
   "cell_type": "markdown",
   "id": "56afa051-a5ab-4480-a8e7-b36cc95d7869",
   "metadata": {},
   "source": [
    "### Tuple yapısında \"in\" kullanımı"
   ]
  },
  {
   "cell_type": "code",
   "execution_count": 37,
   "id": "4816a41e-d68d-4442-814b-e0e2e7388f90",
   "metadata": {},
   "outputs": [
    {
     "data": {
      "text/plain": [
       "True"
      ]
     },
     "execution_count": 37,
     "metadata": {},
     "output_type": "execute_result"
    }
   ],
   "source": [
    "10 in (10,20,30)"
   ]
  },
  {
   "cell_type": "code",
   "execution_count": 38,
   "id": "c0b9065b-27f1-408f-bb2b-0b77c1622347",
   "metadata": {},
   "outputs": [],
   "source": [
    "# Not \n",
    "# 1- =\n",
    "# 2- > / <\n",
    "# 3- >= / <=\n",
    "# 4- v / ^\n",
    "# 5- == / !=\n",
    "# 6- not / in / not in"
   ]
  },
  {
   "cell_type": "markdown",
   "id": "cb8902f7-02fc-4972-aa85-a463844914a7",
   "metadata": {},
   "source": [
    "## -----------------------------------------------------------"
   ]
  },
  {
   "cell_type": "code",
   "execution_count": 48,
   "id": "df7fef85-4d5e-453c-aef5-53e4fbde8778",
   "metadata": {},
   "outputs": [],
   "source": [
    "my_superhero = \"Batman\""
   ]
  },
  {
   "cell_type": "code",
   "execution_count": 49,
   "id": "4d8fe6ef-6b04-470b-ba1c-5f2325239ef0",
   "metadata": {},
   "outputs": [
    {
     "data": {
      "text/plain": [
       "True"
      ]
     },
     "execution_count": 49,
     "metadata": {},
     "output_type": "execute_result"
    }
   ],
   "source": [
    "my_superhero == \"Batman\""
   ]
  },
  {
   "cell_type": "code",
   "execution_count": 50,
   "id": "689fe862-8b52-48d2-a4a0-3f32fa750084",
   "metadata": {},
   "outputs": [
    {
     "data": {
      "text/plain": [
       "False"
      ]
     },
     "execution_count": 50,
     "metadata": {},
     "output_type": "execute_result"
    }
   ],
   "source": [
    "my_superhero == \"Superman\""
   ]
  },
  {
   "cell_type": "code",
   "execution_count": 51,
   "id": "53505ea6-5d58-4d1d-a5c8-82e42a19d169",
   "metadata": {},
   "outputs": [
    {
     "name": "stdout",
     "output_type": "stream",
     "text": [
      "batmann\n",
      "deneme\n"
     ]
    }
   ],
   "source": [
    "if my_superhero == \"Batman\":\n",
    "    #intentation\n",
    "    print(\"batmann\")\n",
    "    print(\"deneme\")\n",
    "#####Bu kısım if bloğuna dahil değildir#####"
   ]
  },
  {
   "cell_type": "code",
   "execution_count": 52,
   "id": "e65db316-e6a2-4ad5-91f6-f76910033c25",
   "metadata": {},
   "outputs": [
    {
     "name": "stdout",
     "output_type": "stream",
     "text": [
      "Hello World\n"
     ]
    }
   ],
   "source": [
    "if 3 > 1:\n",
    "    print(\"Hello World\")"
   ]
  },
  {
   "cell_type": "code",
   "execution_count": 59,
   "id": "741b395d-dd61-4946-b558-f2844858bf37",
   "metadata": {},
   "outputs": [
    {
     "name": "stdin",
     "output_type": "stream",
     "text": [
      "enter superhero:  Captain\n"
     ]
    }
   ],
   "source": [
    "my_superhero = input(\"enter superhero: \")"
   ]
  },
  {
   "cell_type": "code",
   "execution_count": 60,
   "id": "beb4550b-e7e2-469a-907c-ac017d2e9e9e",
   "metadata": {},
   "outputs": [
    {
     "name": "stdout",
     "output_type": "stream",
     "text": [
      ":(\n"
     ]
    }
   ],
   "source": [
    "if my_superhero == \"Superman\":\n",
    "    print(\"superman\")\n",
    "elif my_superhero == \"Batman\":\n",
    "    print(\"batman\")\n",
    "elif my_superhero == \"Ironman\":\n",
    "    print(\"ironman\")\n",
    "else:\n",
    "    print(\":(\")"
   ]
  },
  {
   "cell_type": "code",
   "execution_count": 75,
   "id": "746a65e5-f814-4ef6-b294-a39dc584b85b",
   "metadata": {},
   "outputs": [],
   "source": [
    "my_age = 100"
   ]
  },
  {
   "cell_type": "code",
   "execution_count": 76,
   "id": "7a542e7d-92cc-412c-a109-7a97442116ea",
   "metadata": {},
   "outputs": [
    {
     "name": "stdout",
     "output_type": "stream",
     "text": [
      "age > 40\n"
     ]
    }
   ],
   "source": [
    "if my_age < 18:\n",
    "    print(\"age <= 18\")\n",
    "elif my_age >= 18 and my_age <= 30:\n",
    "    print(\"18 - age - 30\")\n",
    "elif my_age > 30 and my_age <= 40:\n",
    "    print(\"30 - age - 40\")\n",
    "else:\n",
    "    print(\"age > 40\")"
   ]
  },
  {
   "cell_type": "code",
   "execution_count": 81,
   "id": "ba3c3b3e-2d0f-45fe-8e16-8c033fec6ece",
   "metadata": {},
   "outputs": [
    {
     "name": "stdin",
     "output_type": "stream",
     "text": [
      "enter superhero:  Captain America\n"
     ]
    }
   ],
   "source": [
    "my_superhero = input(\"enter superhero: \")"
   ]
  },
  {
   "cell_type": "code",
   "execution_count": 82,
   "id": "4a19f676-ebad-49a0-a851-e10e6e60cb03",
   "metadata": {},
   "outputs": [],
   "source": [
    "my_superhero_list = [\"Spider Man\",\"Iron Man\",\"Thor\",\"Black Widow\"]"
   ]
  },
  {
   "cell_type": "code",
   "execution_count": 83,
   "id": "829bd51c-73dd-4929-85f1-3b3de779c766",
   "metadata": {},
   "outputs": [
    {
     "name": "stdout",
     "output_type": "stream",
     "text": [
      ":(\n"
     ]
    }
   ],
   "source": [
    "if my_superhero in my_superhero_list:\n",
    "    print(\":)\")\n",
    "else:\n",
    "    print(\":(\")"
   ]
  },
  {
   "cell_type": "code",
   "execution_count": 84,
   "id": "9439aa05-9652-49ea-ae36-ca33612416bd",
   "metadata": {},
   "outputs": [],
   "source": [
    "# Not\n",
    "# if-elif-else\n",
    "# intentation"
   ]
  }
 ],
 "metadata": {
  "kernelspec": {
   "display_name": "Python [conda env:base] *",
   "language": "python",
   "name": "conda-base-py"
  },
  "language_info": {
   "codemirror_mode": {
    "name": "ipython",
    "version": 3
   },
   "file_extension": ".py",
   "mimetype": "text/x-python",
   "name": "python",
   "nbconvert_exporter": "python",
   "pygments_lexer": "ipython3",
   "version": "3.13.5"
  }
 },
 "nbformat": 4,
 "nbformat_minor": 5
}

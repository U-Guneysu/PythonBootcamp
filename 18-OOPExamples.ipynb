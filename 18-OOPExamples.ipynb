{
 "cells": [
  {
   "cell_type": "markdown",
   "id": "297f0c6a-b14b-40ee-a171-8d8d2ee93fb6",
   "metadata": {
    "jp-MarkdownHeadingCollapsed": true
   },
   "source": [
    "## OOP (Object Oriented Programming - Nesne Yönelimli Programlama)\n",
    "\n",
    "* OOP, yazılımı nesneler üzerinden organize etme yaklaşımıdır.\n",
    "* Her nesne, veri (özellik) ve fonksiyon (davranış) içerir.\n",
    "* <span style=\"color:cyan;\">Abstraction</span>, \n",
    "<span style=\"color:cyan;\">Encapsulation</span>, \n",
    "<span style=\"color:cyan;\">Inheritance</span> ve \n",
    "<span style=\"color:cyan;\">Polymorphism</span> olmak üzere dört temel özelliği bulunur.\n"
   ]
  },
  {
   "cell_type": "markdown",
   "id": "0c88598e-9baf-471b-a7f3-075863f349e0",
   "metadata": {},
   "source": [
    "<h1 style=\"color:purple; font-style:italic\">1-Inheritance (Kalıtım Almak)</h1> \n",
    "\n",
    "<p>Inheritance (Kalıtım), OOP’nin (Nesne Yönelimli Programlama) dört temel özelliğinden biridir.\n",
    "Bir sınıfın (alt sınıf / child class), başka bir sınıfın (üst sınıf / parent class) özelliklerini (özellikler, metodlar) devralmasına olanak tanır.</p>\n",
    "\n",
    "<h2>Kısaca Tanım:</h2>\n",
    "<p><b>Inheritance</b>, bir sınıfın başka bir sınıftan <b>özellik ve davranışları miras almasıdır.</b></p>\n",
    "\n",
    "<h2>Neden Kullanılır?:</h2>\n",
    "<ul>\n",
    "    <li>Kod tekrarını önler.</li>\n",
    "    <li>Ortak özellikleri üst sınıfta toplayarak daha düzenli bir yapı sağlar.</li>\n",
    "    <li>Alt sınıflar, üst sınıfın fonksiyonlarını <b>kullanabilir veya kendine göre değiştirebilir (override)</b>.</li>\n",
    "</ul>"
   ]
  },
  {
   "cell_type": "code",
   "execution_count": 38,
   "id": "52c8fffd-8d53-4f8c-bc76-b45209606784",
   "metadata": {},
   "outputs": [],
   "source": [
    "class Musician():\n",
    "\n",
    "    def __init__(self,name):\n",
    "        self.name = name\n",
    "        print(\"musician class\")\n",
    "\n",
    "    def test1(self):\n",
    "        print(\"test1\")\n",
    "\n",
    "    def test2(self):\n",
    "        print(\"test2\")"
   ]
  },
  {
   "cell_type": "code",
   "execution_count": 39,
   "id": "b27ef414-605e-447e-adfe-11ba82997e6b",
   "metadata": {},
   "outputs": [
    {
     "name": "stdout",
     "output_type": "stream",
     "text": [
      "musician class\n"
     ]
    }
   ],
   "source": [
    "umut = Musician(\"Umut\")"
   ]
  },
  {
   "cell_type": "code",
   "execution_count": 40,
   "id": "0ffd0de8-1f1b-4a4f-aa54-4e170a3f57f8",
   "metadata": {},
   "outputs": [
    {
     "data": {
      "text/plain": [
       "'Umut'"
      ]
     },
     "execution_count": 40,
     "metadata": {},
     "output_type": "execute_result"
    }
   ],
   "source": [
    "umut.name"
   ]
  },
  {
   "cell_type": "code",
   "execution_count": 41,
   "id": "f0fcbda4-5131-437a-a1b2-b50abd6ff7a0",
   "metadata": {},
   "outputs": [
    {
     "name": "stdout",
     "output_type": "stream",
     "text": [
      "test1\n"
     ]
    }
   ],
   "source": [
    "umut.test1()"
   ]
  },
  {
   "cell_type": "code",
   "execution_count": 42,
   "id": "ad455540-0cad-43f9-8271-3381487dd4a8",
   "metadata": {},
   "outputs": [
    {
     "name": "stdout",
     "output_type": "stream",
     "text": [
      "test2\n"
     ]
    }
   ],
   "source": [
    "umut.test2()"
   ]
  },
  {
   "cell_type": "code",
   "execution_count": 56,
   "id": "f546cf08-d98b-4aea-99e7-d082fd983ac9",
   "metadata": {},
   "outputs": [],
   "source": [
    "class MusicianPlus(Musician):\n",
    "    def __init__(self,name):\n",
    "        Musician.__init__(self,name)\n",
    "        print(\"musician plus\")\n",
    "\n",
    "    def test3(self):\n",
    "        print(\"test3\")\n",
    "\n",
    "    #override – üstüne yazmak (Musician sınıfındaki test1 fonksiyonu alt sınıfta yeniden tanımlandı. Bu nedenle fonksiyon çalıştırıldığında, en son tanımlanan sürüm geçerli olacaktır.)\n",
    "    def test1(self):\n",
    "        print(\"test1 test1 test1\")"
   ]
  },
  {
   "cell_type": "code",
   "execution_count": 57,
   "id": "740aa114-744e-4a8e-adcc-6f420b027986",
   "metadata": {},
   "outputs": [
    {
     "name": "stdout",
     "output_type": "stream",
     "text": [
      "musician class\n",
      "musician plus\n"
     ]
    }
   ],
   "source": [
    "atlas = MusicianPlus(\"Atlas\")"
   ]
  },
  {
   "cell_type": "code",
   "execution_count": 58,
   "id": "25317e6c-7b43-49b1-97c0-57ddfa141d1d",
   "metadata": {},
   "outputs": [
    {
     "name": "stdout",
     "output_type": "stream",
     "text": [
      "test1 test1 test1\n"
     ]
    }
   ],
   "source": [
    "atlas.test1()"
   ]
  },
  {
   "cell_type": "code",
   "execution_count": 51,
   "id": "f2331aac-f3e8-4c45-8d7a-dbd6ec64a2f1",
   "metadata": {},
   "outputs": [
    {
     "name": "stdout",
     "output_type": "stream",
     "text": [
      "test2\n"
     ]
    }
   ],
   "source": [
    "atlas.test2()"
   ]
  },
  {
   "cell_type": "code",
   "execution_count": 52,
   "id": "920f6674-eed9-40f5-a031-94971394b5dc",
   "metadata": {},
   "outputs": [
    {
     "data": {
      "text/plain": [
       "__main__.MusicianPlus"
      ]
     },
     "execution_count": 52,
     "metadata": {},
     "output_type": "execute_result"
    }
   ],
   "source": [
    "type(atlas)"
   ]
  },
  {
   "cell_type": "code",
   "execution_count": 53,
   "id": "2231e233-4e0e-49f6-826e-4bd99f3c0b3d",
   "metadata": {},
   "outputs": [
    {
     "name": "stdout",
     "output_type": "stream",
     "text": [
      "test3\n"
     ]
    }
   ],
   "source": [
    "atlas.test3()"
   ]
  },
  {
   "cell_type": "code",
   "execution_count": 55,
   "id": "a56084dc-6dc7-4fec-bf1b-57370c9816ce",
   "metadata": {},
   "outputs": [],
   "source": [
    "# umut.test3() => AttributeError: 'Musician' object has no attribute 'test3'"
   ]
  },
  {
   "cell_type": "markdown",
   "id": "dcc193c5-e9f2-4bf5-8db2-edaff3f2cf5c",
   "metadata": {},
   "source": [
    "<h2>Özet:</h2>\n",
    "\n",
    "<p><b>Inheritance</b>, bir sınıfın başka bir sınıftan türetilmesini sağlar.\n",
    "Böylece alt sınıf, üst sınıfın tüm özelliklerini <b>devralabilir, genişletebilir veya değiştirebilir.</b></p>"
   ]
  },
  {
   "cell_type": "markdown",
   "id": "2028f201-e41f-4eac-82e0-8b750cba51e9",
   "metadata": {},
   "source": [
    "<h1 style=\"color:purple; font-style:italic\">2-Polymorphism</h1> \n",
    "\n",
    "<p>Kelime anlamı olarak <b>“çok biçimlilik” veya “çok şekillilik”</b> anlamına gelir.\n",
    "<b>Yani aynı isimdeki bir metodun, farklı sınıflarda farklı şekillerde davranabilmesidir.</b></p>\n",
    "\n",
    "<h2>Kısaca Tanım:</h2>\n",
    "<p><b>Polymorphism, </b>aynı isimli metodların farklı sınıflarda farklı görevler üstlenebilmesidir.</p>\n",
    "\n",
    "<h2>Neden Kullanılır?:</h2>\n",
    "<ul>\n",
    "    <li>Kodun <b>esnekliği ve yeniden kullanılabilirliğini</b> arttırır.</li>\n",
    "    <li>Ortak metod isimleriyle farklı sınıflar arasında <b>benzer işlevler</b> oluşturabilir.</li>\n",
    "    <li>Bu sayede kodu değiştirmeden farklı nesneler üzerinde çalışabilir.</li>\n",
    "</ul>"
   ]
  },
  {
   "cell_type": "code",
   "execution_count": 3,
   "id": "e5e6c4b3-d0f9-4c9a-9315-db2596e3c7ad",
   "metadata": {},
   "outputs": [],
   "source": [
    "class Banana():\n",
    "\n",
    "    def __init__(self,name):\n",
    "        self.name = name\n",
    "\n",
    "    def info(self):\n",
    "        return f\"100 calories {self.name}\"\n",
    "\n",
    "class Apple():\n",
    "\n",
    "    def __init__(self,name):\n",
    "        self.name = name\n",
    "\n",
    "    def info(self):\n",
    "        return f\"150 calories {self.name}\""
   ]
  },
  {
   "cell_type": "code",
   "execution_count": 4,
   "id": "6ccb4849-33c4-4173-a7fd-4b0c0e912268",
   "metadata": {},
   "outputs": [],
   "source": [
    "banana = Banana(\"banana\")"
   ]
  },
  {
   "cell_type": "code",
   "execution_count": 5,
   "id": "218ddde1-cbe8-41ce-a947-a28477170461",
   "metadata": {},
   "outputs": [],
   "source": [
    "apple = Apple(\"apple\")"
   ]
  },
  {
   "cell_type": "code",
   "execution_count": 6,
   "id": "57c16a0a-1864-4adb-b32a-aa56a6033b98",
   "metadata": {},
   "outputs": [
    {
     "data": {
      "text/plain": [
       "'100 calories banana'"
      ]
     },
     "execution_count": 6,
     "metadata": {},
     "output_type": "execute_result"
    }
   ],
   "source": [
    "banana.info()"
   ]
  },
  {
   "cell_type": "code",
   "execution_count": 8,
   "id": "798ac10d-60d6-401d-8ec8-ef8093aa8e32",
   "metadata": {},
   "outputs": [
    {
     "data": {
      "text/plain": [
       "'150 calories apple'"
      ]
     },
     "execution_count": 8,
     "metadata": {},
     "output_type": "execute_result"
    }
   ],
   "source": [
    "apple.info()"
   ]
  },
  {
   "cell_type": "markdown",
   "id": "6c76528d-9df1-4882-8248-84da90eddf0e",
   "metadata": {},
   "source": [
    "---------"
   ]
  },
  {
   "cell_type": "code",
   "execution_count": 9,
   "id": "76fdc6e1-f1ee-4234-8c25-6ca3956698a3",
   "metadata": {},
   "outputs": [],
   "source": [
    "fruitList = [banana,apple]"
   ]
  },
  {
   "cell_type": "code",
   "execution_count": 10,
   "id": "c64953a6-6184-4349-8b8e-98a699a44b5e",
   "metadata": {},
   "outputs": [
    {
     "name": "stdout",
     "output_type": "stream",
     "text": [
      "100 calories banana\n",
      "150 calories apple\n"
     ]
    }
   ],
   "source": [
    "for fruit in fruitList:\n",
    "    print(fruit.info())"
   ]
  },
  {
   "cell_type": "markdown",
   "id": "f8e9c09d-2dd3-4b5d-9ac3-d33460353429",
   "metadata": {},
   "source": [
    "<p>Polymorphism, aynı isimdeki fonksiyonların farklı sınıflarda farklı görevler yapabilmesidir. Bu örnekte her iki sınıfta da info fonksiyonu bulunmakta, ancak her biri kendi kapsam alanında farklı işlemler gerçekleştirmektedir.</p>\n",
    "\n",
    "<h2>Özet:</h2>\n",
    "\n",
    "<p><b>Polymorphism</b>, “aynı isim, farklı davranış” ilkesidir.\n",
    "Yani farklı sınıflar, aynı isimdeki metodu kendilerine özgü şekilde tanımlar ve kullanır.</p>"
   ]
  },
  {
   "cell_type": "markdown",
   "id": "1d9a0301-6e39-472a-a14f-2bd3bd795425",
   "metadata": {},
   "source": [
    "<h1 style=\"color:purple; font-style:italic\">3-Encapsulation (Kapsülleme)</h1> \n",
    "\n",
    "<p>Bir sınıfın verilerini (değişkenlerini) ve metotlarını dışarıdan <b>doğrudan erişime kapatıp,</b> sadece kontrollü bir şekilde erişilmesini sağlar.</p>\n",
    "\n",
    "<h2>Kısaca Tanım:</h2>\n",
    "<p><b>Encapsulation</b>, veriyi koruma yöntemidir. Sınıfn içindeki bilgilere <b>doğrudan erişim yerine, özel metotlar (getter ve setter)</b> aracılığıyla ulaşımasını sağlar.\n",
    "\n",
    "<h2>Neden Kullanılır?:</h2>\n",
    "<ul>\n",
    "    <li>Veriyi korur (dışarıdan yanlışlıkla değiştirilmesini önler).</li>\n",
    "    <li><b>Düzenli ve güvenli</b> bir yapı oluşturur.</li>\n",
    "    <li>Gereksiz dış erişimi sınırlar.</li>\n",
    "</ul>"
   ]
  },
  {
   "cell_type": "code",
   "execution_count": 42,
   "id": "ff1016b5-fd80-4ff0-97a2-465b48838982",
   "metadata": {},
   "outputs": [],
   "source": [
    "class Phone():\n",
    "\n",
    "    def __init__(self,name,price):\n",
    "        self.name = name\n",
    "        self.__price = price \n",
    "\n",
    "    def info(self):\n",
    "        print(f\"{self.name} price is: {self.__price}\") # Fiyat değişkenine doğrudan erişim, başındaki \"__\" sayesinde engellenmiştir.\n",
    "\n",
    "    def chancePrice(self,price): #Değerin yanlışlıkla değiştirilmemesi amaçlanır; ancak gerçekten değiştirilmesi gerekiyorsa, bu işlem için özel bir fonksiyon (örneğin setter) tanımlanabilir.\n",
    "        self.__price = price"
   ]
  },
  {
   "cell_type": "code",
   "execution_count": 43,
   "id": "f423a66f-978c-4bf8-8a59-284d8cb958cd",
   "metadata": {},
   "outputs": [],
   "source": [
    "iphone = Phone(\"Iphone\",150)"
   ]
  },
  {
   "cell_type": "code",
   "execution_count": 44,
   "id": "b8301b8b-7293-4e02-954f-e59b96dc365f",
   "metadata": {},
   "outputs": [],
   "source": [
    "samsung = Phone(\"Samsung\",100)"
   ]
  },
  {
   "cell_type": "code",
   "execution_count": 45,
   "id": "86ac4393-e9d8-4cfa-bac6-96ce3a73e2c8",
   "metadata": {},
   "outputs": [
    {
     "name": "stdout",
     "output_type": "stream",
     "text": [
      "Iphone price is: 150\n"
     ]
    }
   ],
   "source": [
    "iphone.info()"
   ]
  },
  {
   "cell_type": "code",
   "execution_count": 46,
   "id": "aee58de2-0366-4072-9c2f-2c28cf1fee9a",
   "metadata": {},
   "outputs": [
    {
     "name": "stdout",
     "output_type": "stream",
     "text": [
      "Samsung price is: 100\n"
     ]
    }
   ],
   "source": [
    "samsung.info()"
   ]
  },
  {
   "cell_type": "code",
   "execution_count": 47,
   "id": "eefa50fb-9091-4a43-9dcd-0f5d8aaa8fbb",
   "metadata": {},
   "outputs": [],
   "source": [
    "iphone.price = 400"
   ]
  },
  {
   "cell_type": "code",
   "execution_count": 48,
   "id": "8b9786eb-a97a-48b3-a6ec-97faa0dd4164",
   "metadata": {},
   "outputs": [
    {
     "name": "stdout",
     "output_type": "stream",
     "text": [
      "Iphone price is: 150\n"
     ]
    }
   ],
   "source": [
    "iphone.info()"
   ]
  },
  {
   "cell_type": "code",
   "execution_count": 49,
   "id": "6beadca2-b72b-4a67-89dd-8c7def097339",
   "metadata": {},
   "outputs": [],
   "source": [
    "#Buradaki amaç, önceden girilen fiyat değerinin sonradan değiştirilmesini engellemektir."
   ]
  },
  {
   "cell_type": "code",
   "execution_count": 50,
   "id": "2c2a81e6-0e0a-43c8-837e-0e283a10c555",
   "metadata": {},
   "outputs": [],
   "source": [
    "#Fiyatın gerektiğinde değiştirilebilmesi için bir fonksiyon tanımlandı."
   ]
  },
  {
   "cell_type": "code",
   "execution_count": 52,
   "id": "cf87bf3e-65d9-495e-bf63-edfecddd60bf",
   "metadata": {},
   "outputs": [],
   "source": [
    "iphone.chancePrice(350)"
   ]
  },
  {
   "cell_type": "code",
   "execution_count": 53,
   "id": "be2da93a-1d8e-486d-a734-8bde7bf8af72",
   "metadata": {},
   "outputs": [
    {
     "name": "stdout",
     "output_type": "stream",
     "text": [
      "Iphone price is: 350\n"
     ]
    }
   ],
   "source": [
    "iphone.info()"
   ]
  },
  {
   "cell_type": "markdown",
   "id": "9fc93588-011c-409a-ba29-ded6efc26c7e",
   "metadata": {},
   "source": [
    "<h2>Özet:</h2>\n",
    "<p><b>Encapsulation</b>, veriyi kapsülleyerek koruma altına alır.\n",
    "Sınıf içindeki verilere sadece tanımlanan metotlar aracılığıyla erişilmesini sağlar.</p>"
   ]
  },
  {
   "cell_type": "markdown",
   "id": "415c4c18-00d3-485b-9cae-76f53c8dc7d3",
   "metadata": {},
   "source": [
    "<h1 style=\"color:purple; font-style:italic\">4-Abstraction (Soyutlama)</h1> \n",
    "\n",
    "<p>Amacı, gereksiz detayları gizleyip, kullanıcıya yalnızca gerekli bilgileri ve işlemleri göstermektir.</p>\n",
    "\n",
    "<h2>Kısaca Tanım:</h2>\n",
    "\n",
    "<p><b>Abstraction</b>, karmaşık yapıları basitleştirerek yalnızca gerekli kısımları görünür hale getirme işlemidir.</p>\n",
    "\n",
    "<h2>Neden Kullanılır?:</h2>\n",
    "\n",
    "<ul>\n",
    "    <li>Kullanıcıyı <b>gereksiz detaylardan korur</b>.</li>\n",
    "    <li>Kodun <b>anlaşılabilirliğini ve bakımını kolaylaştırır</b>.</li>\n",
    "    <li><b>Daha genel (soyut) </b>sınıflar tanımlayarak <b>esnek ve genişletilebilir</b> bir yapı sağlar.</li>\n",
    "</ul>"
   ]
  },
  {
   "cell_type": "code",
   "execution_count": 54,
   "id": "526c2d98-4d0d-4899-b8e9-24df6d58454a",
   "metadata": {},
   "outputs": [],
   "source": [
    "from abc import ABC, abstractmethod"
   ]
  },
  {
   "cell_type": "code",
   "execution_count": 67,
   "id": "1637da95-8156-439e-bf27-c4ff67d5da2b",
   "metadata": {},
   "outputs": [],
   "source": [
    "class Car(ABC):\n",
    "\n",
    "    @abstractmethod\n",
    "    def maxSpeed(self):\n",
    "        pass"
   ]
  },
  {
   "cell_type": "code",
   "execution_count": 57,
   "id": "0f8cfcdd-088e-496b-817c-0ed21a9b8a99",
   "metadata": {},
   "outputs": [],
   "source": [
    "# myCar = Car() => TypeError: Can't instantiate abstract class Car without an implementation for abstract method 'maxSpeed'"
   ]
  },
  {
   "cell_type": "code",
   "execution_count": 58,
   "id": "49304317-736f-4f21-aebf-5d7d68daa1a1",
   "metadata": {},
   "outputs": [],
   "source": [
    "class Tesla(Car):\n",
    "    pass"
   ]
  },
  {
   "cell_type": "code",
   "execution_count": 68,
   "id": "934ee4b6-a929-4791-8108-afedeb4a5b0f",
   "metadata": {},
   "outputs": [],
   "source": [
    "# tesla = Tesla() => TypeError: Can't instantiate abstract class Tesla without an implementation for abstract method 'maxSpeed'"
   ]
  },
  {
   "cell_type": "code",
   "execution_count": 64,
   "id": "60f1e003-9fc0-4578-8fdf-c5aa72672982",
   "metadata": {},
   "outputs": [],
   "source": [
    "class Tesla(Car):\n",
    "    def maxSpeed(self):\n",
    "        print(\"200 km\")"
   ]
  },
  {
   "cell_type": "code",
   "execution_count": 65,
   "id": "e7023754-59b4-4a3b-a740-2409479ed6a4",
   "metadata": {},
   "outputs": [],
   "source": [
    "tesla = Tesla()"
   ]
  },
  {
   "cell_type": "code",
   "execution_count": 66,
   "id": "0daa56c0-a1c8-4dd1-8177-acd1aed7d8be",
   "metadata": {},
   "outputs": [
    {
     "name": "stdout",
     "output_type": "stream",
     "text": [
      "200 km\n"
     ]
    }
   ],
   "source": [
    "tesla.maxSpeed()"
   ]
  },
  {
   "cell_type": "code",
   "execution_count": 71,
   "id": "03c20696-84aa-4bd6-a6f8-78877a0f0f68",
   "metadata": {},
   "outputs": [],
   "source": [
    "class Mercedes(Car):\n",
    "    def maxSpee(self):\n",
    "        print(\"250 km\")"
   ]
  },
  {
   "cell_type": "code",
   "execution_count": 74,
   "id": "083aafd4-c73a-4faa-95c8-756696bef00d",
   "metadata": {},
   "outputs": [],
   "source": [
    "# mercedes = Mercedes() => TypeError: Can't instantiate abstract class Mercedes without an implementation for abstract method 'maxSpeed'"
   ]
  },
  {
   "cell_type": "code",
   "execution_count": 73,
   "id": "d9ca0eb0-5fa3-4c69-860b-1605e6c1deeb",
   "metadata": {},
   "outputs": [],
   "source": [
    "class Mercedes(Car):\n",
    "    def maxSpeed(self):\n",
    "        print(\"250 km\")"
   ]
  },
  {
   "cell_type": "code",
   "execution_count": 75,
   "id": "f351fe77-b3cf-4730-9b72-0c33880db4b4",
   "metadata": {},
   "outputs": [],
   "source": [
    "mercedes = Mercedes()"
   ]
  },
  {
   "cell_type": "code",
   "execution_count": 76,
   "id": "c7cb5914-afc3-433b-a3f4-41ac38f30f73",
   "metadata": {},
   "outputs": [
    {
     "name": "stdout",
     "output_type": "stream",
     "text": [
      "250 km\n"
     ]
    }
   ],
   "source": [
    "mercedes.maxSpeed()"
   ]
  },
  {
   "cell_type": "markdown",
   "id": "b6a49b03-10f8-470e-9334-4cfeff66464f",
   "metadata": {},
   "source": [
    "---------------------------"
   ]
  },
  {
   "cell_type": "markdown",
   "id": "324bd3f1-e5ec-42f8-899f-587f798447a9",
   "metadata": {},
   "source": [
    "<h2>Özel Methodlar</h2>"
   ]
  },
  {
   "cell_type": "code",
   "execution_count": 90,
   "id": "b806f69c-e77e-4afe-bcb0-dd7771e62b12",
   "metadata": {},
   "outputs": [],
   "source": [
    "class Fruit():\n",
    "\n",
    "    def __init__(self,name,calories):\n",
    "        self.name = name\n",
    "        self.calories = calories\n",
    "\n",
    "    def __str__(self): #Özel method\n",
    "        return f\"{self.name}: {self.calories} calories\"\n",
    "\n",
    "    def __len__(self): #Özel method\n",
    "        return self.calories"
   ]
  },
  {
   "cell_type": "code",
   "execution_count": 91,
   "id": "347b24c2-7441-44c1-98f0-0080b6c332a9",
   "metadata": {},
   "outputs": [],
   "source": [
    "myFruit = Fruit(\"banana\",150)"
   ]
  },
  {
   "cell_type": "code",
   "execution_count": 92,
   "id": "738a2040-fb47-4ee2-a908-42d15bdf45d5",
   "metadata": {},
   "outputs": [
    {
     "data": {
      "text/plain": [
       "150"
      ]
     },
     "execution_count": 92,
     "metadata": {},
     "output_type": "execute_result"
    }
   ],
   "source": [
    "myFruit.calories"
   ]
  },
  {
   "cell_type": "code",
   "execution_count": 93,
   "id": "b77ff2f5-c2bc-4b5c-86a7-b53d65442d34",
   "metadata": {},
   "outputs": [
    {
     "data": {
      "text/plain": [
       "'banana'"
      ]
     },
     "execution_count": 93,
     "metadata": {},
     "output_type": "execute_result"
    }
   ],
   "source": [
    "myFruit.name"
   ]
  },
  {
   "cell_type": "code",
   "execution_count": 94,
   "id": "d55e1a8c-f12d-4770-8ca0-02122cde9a73",
   "metadata": {},
   "outputs": [
    {
     "name": "stdout",
     "output_type": "stream",
     "text": [
      "banana: 150 calories\n"
     ]
    }
   ],
   "source": [
    "print(myFruit)"
   ]
  },
  {
   "cell_type": "code",
   "execution_count": 95,
   "id": "cb14e628-476d-4ef2-869c-d90786e43992",
   "metadata": {},
   "outputs": [],
   "source": [
    "# len(myFruit) => TypeError: object of type 'Fruit' has no len()"
   ]
  },
  {
   "cell_type": "code",
   "execution_count": 96,
   "id": "5d181a7a-8cd0-4fcd-bee9-25529caa8715",
   "metadata": {},
   "outputs": [
    {
     "data": {
      "text/plain": [
       "150"
      ]
     },
     "execution_count": 96,
     "metadata": {},
     "output_type": "execute_result"
    }
   ],
   "source": [
    "len(myFruit)"
   ]
  },
  {
   "cell_type": "code",
   "execution_count": 97,
   "id": "251922ac-8760-4c97-9d00-7b8591e7f501",
   "metadata": {},
   "outputs": [],
   "source": [
    "class Train():\n",
    "\n",
    "    def __init__(self,name):\n",
    "        self.name = name\n",
    "\n",
    "    def __getitem__(self,key):\n",
    "        if key == \"a\":\n",
    "            return self.name\n",
    "        else:\n",
    "            print(\"Not Found!!\")"
   ]
  },
  {
   "cell_type": "code",
   "execution_count": 98,
   "id": "d739f3fb-195d-4e2c-8b0d-4e3500ba975d",
   "metadata": {},
   "outputs": [],
   "source": [
    "myTrain = Train(\"myTrain\")"
   ]
  },
  {
   "cell_type": "code",
   "execution_count": 99,
   "id": "4d1555cf-e709-42e7-bf1c-c168e8253879",
   "metadata": {},
   "outputs": [
    {
     "data": {
      "text/plain": [
       "'myTrain'"
      ]
     },
     "execution_count": 99,
     "metadata": {},
     "output_type": "execute_result"
    }
   ],
   "source": [
    "myTrain[\"a\"]"
   ]
  },
  {
   "cell_type": "code",
   "execution_count": 100,
   "id": "cbdace94-4854-4b34-8062-890aea0c908e",
   "metadata": {},
   "outputs": [
    {
     "name": "stdout",
     "output_type": "stream",
     "text": [
      "Not Found!!\n"
     ]
    }
   ],
   "source": [
    "myTrain[\"b\"]"
   ]
  },
  {
   "cell_type": "code",
   "execution_count": null,
   "id": "e56abeb9-ed3c-4082-add9-e9c5991e1028",
   "metadata": {},
   "outputs": [],
   "source": [
    "#python special methods list"
   ]
  }
 ],
 "metadata": {
  "kernelspec": {
   "display_name": "Python [conda env:base] *",
   "language": "python",
   "name": "conda-base-py"
  },
  "language_info": {
   "codemirror_mode": {
    "name": "ipython",
    "version": 3
   },
   "file_extension": ".py",
   "mimetype": "text/x-python",
   "name": "python",
   "nbconvert_exporter": "python",
   "pygments_lexer": "ipython3",
   "version": "3.13.5"
  }
 },
 "nbformat": 4,
 "nbformat_minor": 5
}

{
 "cells": [
  {
   "cell_type": "markdown",
   "id": "0a878ed2-dd66-4451-a3d8-fa6a81a1ea5f",
   "metadata": {},
   "source": [
    "## Sınıf(Class)\n",
    "\n",
    "* **Sınıf**, belirli bir kavrama veya nesneye ait özellikleri (verileri) ve davranışları (fonksiyonları) bir araya getiren yapıdır. **Yani nesnelerin (object) üretildiği bir şablon** veya kalıp gibidir."
   ]
  },
  {
   "cell_type": "code",
   "execution_count": 85,
   "id": "c8e93aa8-5971-47fc-871d-275a35c0ddea",
   "metadata": {},
   "outputs": [],
   "source": [
    "class Person():\n",
    "    #property - özellik\n",
    "    #name = \"\"\n",
    "    #age = 0\n",
    "    #gender = \"\"\n",
    "    job = \"Developer\" # ⇒ Zorunlu olmayan özellik (Değer girilirse girilen değer yazdırılır, girilmezse varsayılan olarak ‘Developer’ yazdırılır.)”\n",
    "    #Bu özelliklerin ayrıca yazılmasına gerek yok.\n",
    "\n",
    "    #initializer method\n",
    "    def __init__(self,name,age,gender): #Özel fonksiyon\n",
    "        self.name = name     #⇒ Zorunlu özellik (self, her sınıf metodunda bulunması gereken ve nesnenin kendisini temsil eden parametredir.)\n",
    "        self.age = age       #⇒ Zorunlu özellik (self, her sınıf metodunda bulunması gereken ve nesnenin kendisini temsil eden parametredir.)\n",
    "        self.gender = gender #⇒ Zorunlu özellik (self, her sınıf metodunda bulunması gereken ve nesnenin kendisini temsil eden parametredir.)\n",
    "        #Bu kısımda özellikler tanımlandığı için Python bunları otomatik olarak işler.\n",
    "        \n",
    "    #method\n",
    "    def test(self):\n",
    "        print(\"Test\")\n",
    "\n",
    "    def printName(self):\n",
    "        print(self.name) "
   ]
  },
  {
   "cell_type": "markdown",
   "id": "c0a905b8-9c0c-497f-9778-b1f707d502ac",
   "metadata": {},
   "source": [
    "* Python’da self, sınıflarda nesnenin kendisini temsil eden bir anahtar kelimedir.\n",
    "* O sınıftan oluşturulan örneğe (instance) ait verilere erişmek için kullanılır."
   ]
  },
  {
   "cell_type": "code",
   "execution_count": 74,
   "id": "32558651-a8c3-406a-8958-49e51d089a4c",
   "metadata": {},
   "outputs": [],
   "source": [
    "umut = Person(\"Umut\",20,\"Male\")"
   ]
  },
  {
   "cell_type": "code",
   "execution_count": 75,
   "id": "a1f52b7d-3ac7-4605-9a17-63e5e522f553",
   "metadata": {},
   "outputs": [
    {
     "data": {
      "text/plain": [
       "__main__.Person"
      ]
     },
     "execution_count": 75,
     "metadata": {},
     "output_type": "execute_result"
    }
   ],
   "source": [
    "type(umut)"
   ]
  },
  {
   "cell_type": "code",
   "execution_count": 76,
   "id": "6d3dec05-450a-469c-9d7e-727a1e4a8203",
   "metadata": {},
   "outputs": [
    {
     "data": {
      "text/plain": [
       "'Umut'"
      ]
     },
     "execution_count": 76,
     "metadata": {},
     "output_type": "execute_result"
    }
   ],
   "source": [
    "umut.name "
   ]
  },
  {
   "cell_type": "code",
   "execution_count": 77,
   "id": "2a0a539f-a510-46ff-9825-cf6d8213a350",
   "metadata": {},
   "outputs": [
    {
     "data": {
      "text/plain": [
       "20"
      ]
     },
     "execution_count": 77,
     "metadata": {},
     "output_type": "execute_result"
    }
   ],
   "source": [
    "umut.age"
   ]
  },
  {
   "cell_type": "code",
   "execution_count": 78,
   "id": "21bdba39-38dd-4afd-b88f-30fa93574efb",
   "metadata": {},
   "outputs": [
    {
     "data": {
      "text/plain": [
       "'Male'"
      ]
     },
     "execution_count": 78,
     "metadata": {},
     "output_type": "execute_result"
    }
   ],
   "source": [
    "umut.gender"
   ]
  },
  {
   "cell_type": "code",
   "execution_count": 79,
   "id": "56f07837-21aa-4762-9023-be55a05e4524",
   "metadata": {},
   "outputs": [
    {
     "name": "stdout",
     "output_type": "stream",
     "text": [
      "Test\n"
     ]
    }
   ],
   "source": [
    "umut.test()"
   ]
  },
  {
   "cell_type": "code",
   "execution_count": 80,
   "id": "5fc8cb09-8613-47cd-a8b4-e51cb8e2eab0",
   "metadata": {},
   "outputs": [
    {
     "name": "stdout",
     "output_type": "stream",
     "text": [
      "Umut\n"
     ]
    }
   ],
   "source": [
    "umut.printName()"
   ]
  },
  {
   "cell_type": "code",
   "execution_count": 82,
   "id": "866a2485-e78b-456b-948c-bc94150b688f",
   "metadata": {},
   "outputs": [
    {
     "data": {
      "text/plain": [
       "'Developer'"
      ]
     },
     "execution_count": 82,
     "metadata": {},
     "output_type": "execute_result"
    }
   ],
   "source": [
    "umut.job"
   ]
  },
  {
   "cell_type": "code",
   "execution_count": 83,
   "id": "9257bf95-efeb-4e3d-aadd-92614cb0fb4c",
   "metadata": {},
   "outputs": [],
   "source": [
    "umut.job = \"Teacher\""
   ]
  },
  {
   "cell_type": "code",
   "execution_count": 84,
   "id": "cd7c08a5-4392-4178-92d5-a64ee2f3cbcf",
   "metadata": {},
   "outputs": [
    {
     "data": {
      "text/plain": [
       "'Teacher'"
      ]
     },
     "execution_count": 84,
     "metadata": {},
     "output_type": "execute_result"
    }
   ],
   "source": [
    "umut.job"
   ]
  },
  {
   "cell_type": "markdown",
   "id": "553c051c-c648-45fe-8230-38287f67ac3f",
   "metadata": {},
   "source": [
    "------------------------------------"
   ]
  },
  {
   "cell_type": "code",
   "execution_count": 111,
   "id": "ab23f3ae-166a-429e-9a71-4c40a7a9d600",
   "metadata": {},
   "outputs": [],
   "source": [
    "class Dog():\n",
    "    \n",
    "    year = 7\n",
    "    \n",
    "    def __init__(self,age=5):\n",
    "        self.age = age\n",
    "        self.dogHumanAge = age * self.year\n",
    "        print(\"dog instance\")\n",
    "\n",
    "    def humanAge(self):\n",
    "        return self.age * self.year #Dog.year = self.year"
   ]
  },
  {
   "cell_type": "code",
   "execution_count": 108,
   "id": "3e1516a1-e5a0-40e4-ab38-084e6105dd3b",
   "metadata": {},
   "outputs": [
    {
     "name": "stdout",
     "output_type": "stream",
     "text": [
      "dog instance\n"
     ]
    }
   ],
   "source": [
    "myDog = Dog(3)"
   ]
  },
  {
   "cell_type": "code",
   "execution_count": 109,
   "id": "0fc10c56-869c-4d82-919f-ae2849c7ba7e",
   "metadata": {},
   "outputs": [
    {
     "data": {
      "text/plain": [
       "3"
      ]
     },
     "execution_count": 109,
     "metadata": {},
     "output_type": "execute_result"
    }
   ],
   "source": [
    "myDog.age"
   ]
  },
  {
   "cell_type": "code",
   "execution_count": 110,
   "id": "a326d23c-3f87-4eed-a9aa-d81c758ad4aa",
   "metadata": {},
   "outputs": [
    {
     "data": {
      "text/plain": [
       "21"
      ]
     },
     "execution_count": 110,
     "metadata": {},
     "output_type": "execute_result"
    }
   ],
   "source": [
    "myDog.humanAge()"
   ]
  },
  {
   "cell_type": "code",
   "execution_count": 112,
   "id": "40b52aed-5c0f-437e-9b1e-75ad5d5ec646",
   "metadata": {},
   "outputs": [
    {
     "name": "stdout",
     "output_type": "stream",
     "text": [
      "dog instance\n"
     ]
    }
   ],
   "source": [
    "barley = Dog()"
   ]
  },
  {
   "cell_type": "code",
   "execution_count": 114,
   "id": "910e080c-c8ae-4bf8-a489-73eb01fedea7",
   "metadata": {},
   "outputs": [
    {
     "data": {
      "text/plain": [
       "5"
      ]
     },
     "execution_count": 114,
     "metadata": {},
     "output_type": "execute_result"
    }
   ],
   "source": [
    "barley.age # Barley için bir yaş değeri girilmediğinden, varsayılan değer olan 5 kullanıldı."
   ]
  },
  {
   "cell_type": "code",
   "execution_count": 115,
   "id": "cd0d7bc5-1f5f-4c9b-a6a8-463102d57190",
   "metadata": {},
   "outputs": [
    {
     "data": {
      "text/plain": [
       "35"
      ]
     },
     "execution_count": 115,
     "metadata": {},
     "output_type": "execute_result"
    }
   ],
   "source": [
    "barley.dogHumanAge"
   ]
  }
 ],
 "metadata": {
  "kernelspec": {
   "display_name": "Python [conda env:base] *",
   "language": "python",
   "name": "conda-base-py"
  },
  "language_info": {
   "codemirror_mode": {
    "name": "ipython",
    "version": 3
   },
   "file_extension": ".py",
   "mimetype": "text/x-python",
   "name": "python",
   "nbconvert_exporter": "python",
   "pygments_lexer": "ipython3",
   "version": "3.13.5"
  }
 },
 "nbformat": 4,
 "nbformat_minor": 5
}

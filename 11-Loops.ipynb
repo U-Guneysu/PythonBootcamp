{
 "cells": [
  {
   "cell_type": "code",
   "execution_count": 1,
   "id": "bd46be2a-c849-4bfc-89aa-fdd61fdf3cb3",
   "metadata": {},
   "outputs": [],
   "source": [
    "# for loop, while loop"
   ]
  },
  {
   "cell_type": "code",
   "execution_count": 2,
   "id": "7a6a5d41-1137-417b-9884-aa81f218d2f6",
   "metadata": {},
   "outputs": [],
   "source": [
    "# for loop"
   ]
  },
  {
   "cell_type": "code",
   "execution_count": 3,
   "id": "d48c806e-7a30-4559-a950-642133158127",
   "metadata": {},
   "outputs": [],
   "source": [
    "my_list = [10,20,30,40,50,60,70]"
   ]
  },
  {
   "cell_type": "code",
   "execution_count": 4,
   "id": "02d27d83-45ca-487d-ba2d-d700adbe0b9b",
   "metadata": {},
   "outputs": [
    {
     "name": "stdout",
     "output_type": "stream",
     "text": [
      "4.0\n",
      "8.0\n",
      "12.0\n",
      "16.0\n",
      "20.0\n",
      "24.0\n",
      "28.0\n"
     ]
    }
   ],
   "source": [
    "for number in my_list:\n",
    "    print(number / 5 * 2)"
   ]
  },
  {
   "cell_type": "code",
   "execution_count": 5,
   "id": "06d980fc-aeae-44ba-8ded-b29b12f8f09c",
   "metadata": {},
   "outputs": [
    {
     "name": "stdout",
     "output_type": "stream",
     "text": [
      "for loop started\n",
      "4.0\n",
      "8.0\n",
      "12.0\n",
      "16.0\n",
      "20.0\n",
      "24.0\n",
      "28.0\n",
      "for loop ended\n"
     ]
    }
   ],
   "source": [
    "print(\"for loop started\")\n",
    "for x in my_list:\n",
    "    new_number = x / 5 * 2\n",
    "    print(new_number)\n",
    "print(\"for loop ended\")"
   ]
  },
  {
   "cell_type": "code",
   "execution_count": 6,
   "id": "7eb6917d-f9b3-4476-84a1-dbafd084e437",
   "metadata": {},
   "outputs": [],
   "source": [
    "# 1- for loop started metnini yazdırdı\n",
    "# 2- for döngüsünü çalıştırdı ve bitirdi\n",
    "# 3- for lood ended metnini yazdırdı"
   ]
  },
  {
   "cell_type": "code",
   "execution_count": 7,
   "id": "89541253-ee00-468e-8ad5-9ba6e69ab5fb",
   "metadata": {},
   "outputs": [],
   "source": [
    "# ÖDEV: my_list içerisinde sadece altıya tam bölünebilenleri ekrana yazdıran bir kod bloğu yaz"
   ]
  },
  {
   "cell_type": "code",
   "execution_count": 8,
   "id": "45e688d4-695b-4e11-be84-b908b026f2f6",
   "metadata": {},
   "outputs": [
    {
     "data": {
      "text/plain": [
       "[10, 20, 30, 40, 50, 60, 70]"
      ]
     },
     "execution_count": 8,
     "metadata": {},
     "output_type": "execute_result"
    }
   ],
   "source": [
    "my_list"
   ]
  },
  {
   "cell_type": "code",
   "execution_count": 9,
   "id": "9f8eea02-2948-4f47-81f1-9cddaa54a9d0",
   "metadata": {},
   "outputs": [
    {
     "name": "stdout",
     "output_type": "stream",
     "text": [
      "10  :  degeri 6'a tam bölünemez\n",
      "20  :  degeri 6'a tam bölünemez\n",
      "30  :  degeri 6'a tam bölünür\n",
      "40  :  degeri 6'a tam bölünemez\n",
      "50  :  degeri 6'a tam bölünemez\n",
      "60  :  degeri 6'a tam bölünür\n",
      "70  :  degeri 6'a tam bölünemez\n"
     ]
    }
   ],
   "source": [
    "for a in my_list: \n",
    "    if a % 6 == 0:\n",
    "        print(a,\" :\",\" degeri 6'a tam bölünür\")\n",
    "    else:\n",
    "        print(a,\" :\",\" degeri 6'a tam bölünemez\") "
   ]
  },
  {
   "cell_type": "markdown",
   "id": "5ada9b42-c350-46f3-8c81-84cc9d7574ac",
   "metadata": {},
   "source": [
    "### ----------"
   ]
  },
  {
   "cell_type": "code",
   "execution_count": 10,
   "id": "3c92fc07-0556-46e9-861b-8b71c7229065",
   "metadata": {},
   "outputs": [],
   "source": [
    "number_list = [1,2,3,4,5,6,7,8,9,10]"
   ]
  },
  {
   "cell_type": "code",
   "execution_count": 11,
   "id": "13353c7e-c330-4ed5-9346-79c784e84d15",
   "metadata": {
    "scrolled": true
   },
   "outputs": [
    {
     "name": "stdout",
     "output_type": "stream",
     "text": [
      "2\n",
      "4\n",
      "6\n",
      "8\n",
      "10\n"
     ]
    }
   ],
   "source": [
    "for num in number_list:\n",
    "    if num % 2 == 0:\n",
    "        print(num)"
   ]
  },
  {
   "cell_type": "markdown",
   "id": "37728e73-6982-44f6-8461-3d5e619165b0",
   "metadata": {},
   "source": [
    "### ----------"
   ]
  },
  {
   "cell_type": "code",
   "execution_count": 12,
   "id": "934813bd-53b3-401c-a3fb-39e59ba559dc",
   "metadata": {},
   "outputs": [],
   "source": [
    "my_string = \"UG\" "
   ]
  },
  {
   "cell_type": "code",
   "execution_count": 13,
   "id": "0da89b29-d506-4b67-abdb-b8bf690a9f28",
   "metadata": {},
   "outputs": [
    {
     "name": "stdout",
     "output_type": "stream",
     "text": [
      "U\n",
      "G\n"
     ]
    }
   ],
   "source": [
    "for U in my_string:\n",
    "    print(U)"
   ]
  },
  {
   "cell_type": "code",
   "execution_count": 14,
   "id": "81ca1296-807d-4119-a844-a2a444509c7e",
   "metadata": {},
   "outputs": [],
   "source": [
    "my_tuple = (10,20,30,40,50,60,70)"
   ]
  },
  {
   "cell_type": "code",
   "execution_count": 15,
   "id": "8a4f6332-cf1c-4ef2-a65a-cf9081744977",
   "metadata": {},
   "outputs": [
    {
     "name": "stdout",
     "output_type": "stream",
     "text": [
      "4.0\n",
      "8.0\n",
      "12.0\n",
      "16.0\n",
      "20.0\n",
      "24.0\n",
      "28.0\n"
     ]
    }
   ],
   "source": [
    "for num  in my_tuple:\n",
    "    print(num / 5 * 2) # Tuple içerisindeki değerler değiştirilmiyor \"Değerler num değişkenine atanarak işlem yapılıyor\""
   ]
  },
  {
   "cell_type": "code",
   "execution_count": 16,
   "id": "832edb0e-c195-4b3b-914d-b7c07c426bba",
   "metadata": {},
   "outputs": [
    {
     "data": {
      "text/plain": [
       "(10, 20, 30, 40, 50, 60, 70)"
      ]
     },
     "execution_count": 16,
     "metadata": {},
     "output_type": "execute_result"
    }
   ],
   "source": [
    "my_tuple"
   ]
  },
  {
   "cell_type": "markdown",
   "id": "7730f279-8dc0-4538-b5aa-6b4a03bc7d2d",
   "metadata": {},
   "source": [
    "### ----------"
   ]
  },
  {
   "cell_type": "code",
   "execution_count": 17,
   "id": "a2e81096-416f-45d3-ab9b-602027685d2c",
   "metadata": {},
   "outputs": [],
   "source": [
    "my_new_list = [(\"a\",\"b\"),(\"c\",\"d\"),(\"e\",\"f\"),(\"g\",\"h\")]"
   ]
  },
  {
   "cell_type": "code",
   "execution_count": 18,
   "id": "a3416cfe-e855-4721-8958-d5e4360eec82",
   "metadata": {},
   "outputs": [
    {
     "name": "stdout",
     "output_type": "stream",
     "text": [
      "('a', 'b')\n",
      "('c', 'd')\n",
      "('e', 'f')\n",
      "('g', 'h')\n"
     ]
    }
   ],
   "source": [
    "for element in my_new_list:\n",
    "    print(element)"
   ]
  },
  {
   "cell_type": "code",
   "execution_count": 19,
   "id": "a03e623d-ba0b-4c44-a3ed-b3359987a831",
   "metadata": {},
   "outputs": [],
   "source": [
    "#tuple unpacking"
   ]
  },
  {
   "cell_type": "code",
   "execution_count": 20,
   "id": "934e663f-b8dc-4898-a3d9-30410eb06a82",
   "metadata": {},
   "outputs": [
    {
     "name": "stdout",
     "output_type": "stream",
     "text": [
      "a\n",
      "c\n",
      "e\n",
      "g\n"
     ]
    }
   ],
   "source": [
    "for (x,y) in my_new_list:\n",
    "    print(x)"
   ]
  },
  {
   "cell_type": "code",
   "execution_count": 21,
   "id": "a5f000e7-b127-4994-9817-18f801f938d0",
   "metadata": {},
   "outputs": [
    {
     "name": "stdout",
     "output_type": "stream",
     "text": [
      "b\n",
      "d\n",
      "f\n",
      "h\n"
     ]
    }
   ],
   "source": [
    "for (x,y) in my_new_list:\n",
    "    print(y)"
   ]
  },
  {
   "cell_type": "code",
   "execution_count": 22,
   "id": "de68538d-3d44-4b74-9ac1-bdf276e2605a",
   "metadata": {},
   "outputs": [],
   "source": [
    "my_tuple_list = [(0,1,2),(3,4,5),(6,7,8),(9,10,11)]"
   ]
  },
  {
   "cell_type": "code",
   "execution_count": 23,
   "id": "538841c9-9ecb-4c4c-937c-45a318827c47",
   "metadata": {},
   "outputs": [
    {
     "data": {
      "text/plain": [
       "4"
      ]
     },
     "execution_count": 23,
     "metadata": {},
     "output_type": "execute_result"
    }
   ],
   "source": [
    "len(my_tuple_list)"
   ]
  },
  {
   "cell_type": "code",
   "execution_count": 24,
   "id": "6503d247-8037-41f4-bcf6-a0f66d01a402",
   "metadata": {},
   "outputs": [
    {
     "name": "stdout",
     "output_type": "stream",
     "text": [
      "0\n",
      "3\n",
      "6\n",
      "9\n"
     ]
    }
   ],
   "source": [
    "for (x,y,z) in my_tuple_list:\n",
    "    print(x)"
   ]
  },
  {
   "cell_type": "code",
   "execution_count": 25,
   "id": "cb1fb205-310d-40e0-aff2-3dfe97b4e295",
   "metadata": {},
   "outputs": [],
   "source": [
    "my_set = {1,2,3,4,5}"
   ]
  },
  {
   "cell_type": "code",
   "execution_count": 26,
   "id": "101d605b-3ec0-47be-9c26-40959a3af073",
   "metadata": {},
   "outputs": [
    {
     "data": {
      "text/plain": [
       "{1, 2, 3, 4, 5}"
      ]
     },
     "execution_count": 26,
     "metadata": {},
     "output_type": "execute_result"
    }
   ],
   "source": [
    "my_set"
   ]
  },
  {
   "cell_type": "code",
   "execution_count": 27,
   "id": "8a5929c0-f1f7-436f-98a0-abb1294c3c69",
   "metadata": {},
   "outputs": [
    {
     "data": {
      "text/plain": [
       "5"
      ]
     },
     "execution_count": 27,
     "metadata": {},
     "output_type": "execute_result"
    }
   ],
   "source": [
    "len(my_set)"
   ]
  },
  {
   "cell_type": "code",
   "execution_count": 28,
   "id": "5f5055bb-2f33-4773-a5cd-70f8419751bc",
   "metadata": {},
   "outputs": [
    {
     "data": {
      "text/plain": [
       "set"
      ]
     },
     "execution_count": 28,
     "metadata": {},
     "output_type": "execute_result"
    }
   ],
   "source": [
    "type(my_set)"
   ]
  },
  {
   "cell_type": "code",
   "execution_count": 29,
   "id": "666a558b-5bec-4d27-b1fa-741dde10a471",
   "metadata": {},
   "outputs": [
    {
     "name": "stdout",
     "output_type": "stream",
     "text": [
      "70\n",
      "70\n",
      "70\n",
      "70\n",
      "70\n"
     ]
    }
   ],
   "source": [
    "for nun in my_set:\n",
    "    print(num)"
   ]
  },
  {
   "cell_type": "code",
   "execution_count": 30,
   "id": "2ed01d62-c60c-47e0-a846-e34787729980",
   "metadata": {},
   "outputs": [],
   "source": [
    "my_dict = {\"k1\":100,\"k2\":200,\"k3\":300}"
   ]
  },
  {
   "cell_type": "code",
   "execution_count": 31,
   "id": "00264007-8f23-4088-b4f3-9bf50f240a12",
   "metadata": {},
   "outputs": [
    {
     "name": "stdout",
     "output_type": "stream",
     "text": [
      "k1\n",
      "k2\n",
      "k3\n"
     ]
    }
   ],
   "source": [
    "for element in my_dict:\n",
    "    print(element)"
   ]
  },
  {
   "cell_type": "code",
   "execution_count": 32,
   "id": "43543661-ff6b-4c92-adb7-a5377a24b7f9",
   "metadata": {},
   "outputs": [
    {
     "name": "stdout",
     "output_type": "stream",
     "text": [
      "100\n",
      "200\n",
      "300\n"
     ]
    }
   ],
   "source": [
    "for (key,value) in my_dict.items():\n",
    "    print(value)"
   ]
  },
  {
   "cell_type": "code",
   "execution_count": 33,
   "id": "6cfdddd3-1230-465f-b783-ab74b9b6762e",
   "metadata": {},
   "outputs": [
    {
     "name": "stdout",
     "output_type": "stream",
     "text": [
      "100\n",
      "200\n",
      "300\n"
     ]
    }
   ],
   "source": [
    "for num in my_dict.values():\n",
    "    print(num)"
   ]
  },
  {
   "cell_type": "code",
   "execution_count": 34,
   "id": "812a897c-c2f4-46c1-a7a0-2604e3bfb6f1",
   "metadata": {},
   "outputs": [],
   "source": [
    "# continue - break - pass"
   ]
  },
  {
   "cell_type": "code",
   "execution_count": 35,
   "id": "27431158-5b03-42e1-a184-72bdf167a8a3",
   "metadata": {},
   "outputs": [],
   "source": [
    "my_list = [10,20,30,40,50,60,70]"
   ]
  },
  {
   "cell_type": "code",
   "execution_count": 36,
   "id": "f80e8488-136b-4a98-8e3d-9531878fb9cf",
   "metadata": {},
   "outputs": [
    {
     "name": "stdout",
     "output_type": "stream",
     "text": [
      "for loop started\n",
      "10\n",
      "20\n",
      "30\n",
      "40\n",
      "50\n",
      "60\n",
      "70\n",
      "for loop ended\n"
     ]
    }
   ],
   "source": [
    "print(\"for loop started\")\n",
    "for num in my_list:\n",
    "    print(num)\n",
    "print(\"for loop ended\")"
   ]
  },
  {
   "cell_type": "code",
   "execution_count": 37,
   "id": "baa42e0b-2370-4c8c-8450-e676e3f64de1",
   "metadata": {},
   "outputs": [
    {
     "data": {
      "text/plain": [
       "True"
      ]
     },
     "execution_count": 37,
     "metadata": {},
     "output_type": "execute_result"
    }
   ],
   "source": [
    "40 in my_list"
   ]
  },
  {
   "cell_type": "code",
   "execution_count": 38,
   "id": "e5d5f97a-745f-4a60-969a-4581fc6c613b",
   "metadata": {},
   "outputs": [
    {
     "name": "stdout",
     "output_type": "stream",
     "text": [
      "10\n",
      "20\n",
      "30\n",
      "40\n",
      "yes\n"
     ]
    }
   ],
   "source": [
    "for number in my_list:\n",
    "    print(number)\n",
    "    if number == 40:\n",
    "        print(\"yes\")\n",
    "        break #40 değerini bulduktan sonra döngüyü durduracaktır"
   ]
  },
  {
   "cell_type": "code",
   "execution_count": 39,
   "id": "6765fa97-d566-46ba-bf29-b5f660e3f8cc",
   "metadata": {},
   "outputs": [
    {
     "name": "stdout",
     "output_type": "stream",
     "text": [
      "10\n",
      "20\n",
      "30\n",
      "50\n",
      "60\n",
      "70\n"
     ]
    }
   ],
   "source": [
    "for number in my_list:\n",
    "    if number == 40:\n",
    "        continue\n",
    "    print(number)"
   ]
  },
  {
   "cell_type": "code",
   "execution_count": 40,
   "id": "80681f4c-a2bb-4032-9c36-3f50b0ab7272",
   "metadata": {},
   "outputs": [],
   "source": [
    "for number in my_list:\n",
    "    pass # Henüz yazılmamış bir kod bloğunda hata almadan devam etmek için kullanılır. Böylece, o kısma daha sonra geri dönüp kod eklemek mümkündür."
   ]
  },
  {
   "cell_type": "code",
   "execution_count": 41,
   "id": "7151d1b5-a04a-480a-9c11-6c83b56e3335",
   "metadata": {},
   "outputs": [],
   "source": [
    "#while => Koşul doğruysa bu kod bloğu çalışır"
   ]
  },
  {
   "cell_type": "code",
   "execution_count": 45,
   "id": "4f4e8bfc-ef58-43f7-b22f-62c0ba5bc279",
   "metadata": {},
   "outputs": [],
   "source": [
    "x = 0 "
   ]
  },
  {
   "cell_type": "code",
   "execution_count": 46,
   "id": "ed86feec-ae9d-4891-969a-37682c3393cb",
   "metadata": {},
   "outputs": [
    {
     "name": "stdout",
     "output_type": "stream",
     "text": [
      "while loop started\n",
      "0\n",
      "1\n",
      "2\n",
      "3\n",
      "4\n",
      "5\n",
      "6\n",
      "7\n",
      "8\n",
      "9\n",
      "while loop ended\n"
     ]
    }
   ],
   "source": [
    "print(\"while loop started\")\n",
    "while x < 10:\n",
    "    print(x)\n",
    "    x = x + 1\n",
    "print(\"while loop ended\")"
   ]
  },
  {
   "cell_type": "code",
   "execution_count": 47,
   "id": "4fdb23f4-b29b-4f12-8c52-dfc2167c5cd2",
   "metadata": {},
   "outputs": [],
   "source": [
    "last_list = [10,20,30,40,50]"
   ]
  },
  {
   "cell_type": "code",
   "execution_count": 48,
   "id": "4f5433f2-e089-4e9d-ab21-ad69a31eaed8",
   "metadata": {},
   "outputs": [
    {
     "name": "stdout",
     "output_type": "stream",
     "text": [
      "20 in last_list\n",
      "20 in last_list\n",
      "20 in last_list\n",
      "20 in last_list\n"
     ]
    }
   ],
   "source": [
    "while 20 in last_list:\n",
    "    print(\"20 in last_list\")\n",
    "    last_list.pop()"
   ]
  },
  {
   "cell_type": "code",
   "execution_count": 49,
   "id": "6974e0f0-9094-4b0a-b01b-9a6dca68b689",
   "metadata": {},
   "outputs": [],
   "source": [
    "my_list = [10,20,30]"
   ]
  },
  {
   "cell_type": "code",
   "execution_count": 50,
   "id": "060f6cf3-3a85-401f-bdbd-efc338da31d9",
   "metadata": {},
   "outputs": [
    {
     "name": "stdout",
     "output_type": "stream",
     "text": [
      "[10, 20, 30]\n"
     ]
    }
   ],
   "source": [
    "print(my_list)"
   ]
  },
  {
   "cell_type": "code",
   "execution_count": 53,
   "id": "2fa3edcc-7722-4277-8e49-b799238e94e4",
   "metadata": {},
   "outputs": [
    {
     "name": "stdout",
     "output_type": "stream",
     "text": [
      "my list: [10, 20, 30]\n"
     ]
    }
   ],
   "source": [
    "print(f\"my list: {my_list}\") #f-string (formatted string) => f-string, Python’da metinlerin içine değişkenleri veya ifadeleri kolayca eklemek için kullanılan bir yazım biçimidir."
   ]
  },
  {
   "cell_type": "code",
   "execution_count": 54,
   "id": "89e207a5-e1ff-49df-b976-a0c9abc89110",
   "metadata": {},
   "outputs": [
    {
     "name": "stdin",
     "output_type": "stream",
     "text": [
      "Enter Name:  Umut\n"
     ]
    }
   ],
   "source": [
    "name = input(\"Enter Name: \")"
   ]
  },
  {
   "cell_type": "code",
   "execution_count": 55,
   "id": "d0a6baad-af51-4445-b932-cf75272d154e",
   "metadata": {},
   "outputs": [
    {
     "name": "stdout",
     "output_type": "stream",
     "text": [
      "Welcome Umut!\n"
     ]
    }
   ],
   "source": [
    "print(f\"Welcome {name}!\")"
   ]
  },
  {
   "cell_type": "code",
   "execution_count": 56,
   "id": "efd0fb32-7302-4893-a20f-819ef4efc558",
   "metadata": {},
   "outputs": [
    {
     "name": "stdout",
     "output_type": "stream",
     "text": [
      "Welcome Umut !\n"
     ]
    }
   ],
   "source": [
    "print(\"Welcome\", name, \"!\")"
   ]
  },
  {
   "cell_type": "code",
   "execution_count": 58,
   "id": "47a605a3-0271-4404-95af-25babaf3e7c2",
   "metadata": {},
   "outputs": [
    {
     "name": "stdout",
     "output_type": "stream",
     "text": [
      "value of p: 0\n",
      "value of p: 1\n",
      "value of p: 2\n",
      "value of p: 3\n",
      "value of p: 4\n",
      "value of p: 5\n",
      "value of p: 6\n",
      "value of p: 7\n",
      "value of p: 8\n",
      "value of p: 9\n",
      "value of p: 10\n",
      "value of p: 11\n",
      "value of p: 12\n",
      "value of p: 13\n",
      "value of p: 14\n",
      "value of p: 15\n",
      "value of p: 16\n",
      "value of p: 17\n",
      "value of p: 18\n",
      "value of p: 19\n"
     ]
    }
   ],
   "source": [
    "p = 0 \n",
    "while p < 20:\n",
    "    print(f\"value of p: {p}\")\n",
    "    p += 1"
   ]
  },
  {
   "cell_type": "code",
   "execution_count": null,
   "id": "0242e6a3-cd93-4d77-ac33-175d41511a60",
   "metadata": {},
   "outputs": [],
   "source": []
  }
 ],
 "metadata": {
  "kernelspec": {
   "display_name": "Python [conda env:base] *",
   "language": "python",
   "name": "conda-base-py"
  },
  "language_info": {
   "codemirror_mode": {
    "name": "ipython",
    "version": 3
   },
   "file_extension": ".py",
   "mimetype": "text/x-python",
   "name": "python",
   "nbconvert_exporter": "python",
   "pygments_lexer": "ipython3",
   "version": "3.13.5"
  }
 },
 "nbformat": 4,
 "nbformat_minor": 5
}
